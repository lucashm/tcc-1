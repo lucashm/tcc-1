{
 "cells": [
  {
   "cell_type": "code",
   "execution_count": 1,
   "metadata": {},
   "outputs": [],
   "source": [
    "import arff\n",
    "import numpy as np\n",
    "import seaborn as sn\n",
    "import matplotlib.pyplot as plt\n",
    "from operator import attrgetter, itemgetter\n",
    "from io import StringIO\n",
    "from sklearn.model_selection import train_test_split\n",
    "import nltk\n",
    "import time\n",
    "import pandas as pd\n",
    "from sklearn.model_selection import train_test_split\n",
    "from sklearn.model_selection import cross_val_score\n",
    "from sklearn import tree\n",
    "from sklearn.pipeline import Pipeline\n",
    "from sklearn.feature_extraction.text import TfidfVectorizer\n",
    "from sklearn.metrics import make_scorer, confusion_matrix,classification_report,precision_recall_fscore_support as score, average_precision_score\n",
    "from sklearn import metrics\n",
    "from sklearn.base import BaseEstimator, ClassifierMixin\n",
    "from sklearn.model_selection import cross_validate\n",
    "import pickle\n",
    "\n",
    "## training model\n",
    "from sklearn.neural_network import MLPClassifier\n",
    "from sklearn.svm import SVC\n",
    "from sklearn.tree import DecisionTreeClassifier\n",
    "from sklearn.ensemble import RandomForestClassifier, VotingClassifier\n",
    "from sklearn.naive_bayes import MultinomialNB\n",
    "from sklearn.linear_model import SGDClassifier\n",
    "\n",
    "import matplotlib.pyplot as plt\n",
    "from sklearn.model_selection import GridSearchCV"
   ]
  },
  {
   "cell_type": "code",
   "execution_count": 2,
   "metadata": {},
   "outputs": [],
   "source": [
    "data = arff.load(open('../text-blob-pt/OffComBR3.arff'))\n",
    "df = pd.DataFrame(data['data'])\n",
    "df.columns = ['hate', 'sentence']\n",
    "\n",
    "# transforming 'yes' into 1 and 'no' into 0\n",
    "df['hate'] = df['hate'].apply(lambda x: 1 if x == 'yes' else 0)\n",
    "\n",
    "X = df['sentence'].tolist()\n",
    "y = df['hate'].tolist()\n",
    "X_train, X_test, y_train, y_test = train_test_split(\n",
    "                                    X, y, test_size=0.33, random_state=42)\n",
    "\n",
    "pt_stop_words = nltk.corpus.stopwords.words('portuguese')\n",
    "\n",
    "classifiers = []\n",
    "max_df = 0.6"
   ]
  },
  {
   "cell_type": "code",
   "execution_count": 3,
   "metadata": {},
   "outputs": [],
   "source": [
    "class CustomClassifier(BaseEstimator, ClassifierMixin):\n",
    "    \"\"\"An example of classifier\"\"\"\n",
    "    \n",
    "    def __init__(self):\n",
    "        self.mlp = Pipeline([\n",
    "            ('tfidf', TfidfVectorizer(max_df=0.2,\n",
    "                                      min_df=5,\n",
    "                                      ngram_range=(1, 2),\n",
    "                                      smooth_idf=True,\n",
    "                                      strip_accents='ascii',\n",
    "                                      sublinear_tf=False,\n",
    "                                      use_idf=False)),\n",
    "            ('clf', MLPClassifier(activation='logistic', alpha=0, solver='lbfgs')),\n",
    "        ])\n",
    "        self.rf = Pipeline([\n",
    "            ('tfidf', TfidfVectorizer(max_df=0.2,\n",
    "                                      min_df=2,\n",
    "                                      ngram_range=(1, 1),\n",
    "                                      smooth_idf=False,\n",
    "                                      strip_accents='ascii',\n",
    "                                      sublinear_tf=True,\n",
    "                                      use_idf=True)),\n",
    "            ('clf', RandomForestClassifier(max_depth=None,\n",
    "                                           min_samples_leaf=1, min_samples_split=2, n_estimators=100)),\n",
    "        ])\n",
    "\n",
    "        self.mnb =  Pipeline([\n",
    "        ('tfidf',TfidfVectorizer(max_df= 0.6,\n",
    "                                 min_df= 5,\n",
    "                                 ngram_range= (1, 1),\n",
    "                                 smooth_idf= True,\n",
    "                                 strip_accents= 'ascii',\n",
    "                                 sublinear_tf= True,\n",
    "                                 use_idf = True)),\n",
    "        ('clf', MultinomialNB(alpha=0.1, fit_prior=False)),\n",
    "        ])\n",
    "\n",
    "        self.svc = Pipeline([\n",
    "            ('tfidf', TfidfVectorizer(max_df=0.6,\n",
    "                                      min_df=1,\n",
    "                                      ngram_range=(1, 1),\n",
    "                                      smooth_idf=True,\n",
    "                                      strip_accents='ascii',\n",
    "                                      sublinear_tf=False,\n",
    "                                      use_idf=True)),\n",
    "            ('clf', SVC(C=4, kernel='linear', probability=True, shrinking=True, tol=1)),\n",
    "        ])\n",
    "        \n",
    "        self.dt = Pipeline([\n",
    "        ('tfidf',TfidfVectorizer(max_df = 0.6,\n",
    "                                 min_df = 1,\n",
    "                                 ngram_range = (1, 3),\n",
    "                                 smooth_idf = True,\n",
    "                                 strip_accents = 'ascii',\n",
    "                                 sublinear_tf = False,\n",
    "                                 use_idf = True)),\n",
    "        ('clf', DecisionTreeClassifier(class_weight= {0: 1, 1: 2}, criterion= 'gini', min_samples_split = 3)),\n",
    "        ])\n",
    "        \n",
    "        self.sgd = Pipeline([\n",
    "        ('tfidf',TfidfVectorizer(max_df= 0.2,\n",
    "                                 min_df= 10,\n",
    "                                 ngram_range= (1, 3),\n",
    "                                 smooth_idf= True,\n",
    "                                 strip_accents= 'ascii',\n",
    "                                 sublinear_tf= True,\n",
    "                                 use_idf = False)),\n",
    "        ('clf', SGDClassifier(alpha=0.01, loss='perceptron', penalty='none', tol=0.001, max_iter=1000)),\n",
    "        ])\n",
    "\n",
    "        self.classifiers = [self.rf, self.mnb, self.svc, self.mlp, self.dt, self.sgd]\n",
    "\n",
    "    def fit(self, X, y=None):\n",
    "        for classifier in self.classifiers:\n",
    "            classifier.fit(X, y)\n",
    "        return self\n",
    "\n",
    "    def predict(self, X, y=None):\n",
    "        try:\n",
    "            results = []\n",
    "            for classifier in self.classifiers:\n",
    "                results.append(classifier.predict(X))\n",
    "            \n",
    "            result = []\n",
    "            for i in range(len(X)): # Mudar aqui\n",
    "                partial_result = (results[0][i] or results[1][i] or results[2][i] \n",
    "                                or results[3][i] or results[4][i] or results[5][i])\n",
    "                result.append(partial_result)\n",
    "\n",
    "        except AttributeError:\n",
    "            raise RuntimeError(\n",
    "                \"You must train classifer before predicting data!\")\n",
    "\n",
    "        return result\n",
    "    \n",
    "\n",
    "    def score(self, X, y=None):\n",
    "        return(sum(self.predict(X)))\n"
   ]
  },
  {
   "cell_type": "code",
   "execution_count": 11,
   "metadata": {},
   "outputs": [
    {
     "name": "stdout",
     "output_type": "stream",
     "text": [
      "time:  0.1821422576904297\n"
     ]
    },
    {
     "data": {
      "text/plain": [
       "('self.mlp,', 'self.dt,', 'self.sgd')"
      ]
     },
     "execution_count": 11,
     "metadata": {},
     "output_type": "execute_result"
    }
   ],
   "source": [
    "custom = CustomClassifier()\n",
    "custom.fit(X_train, y_train)\n",
    "start_time = time.time()\n",
    "pred = custom.predict(X_test)\n",
    "print(\"time: \", (time.time() - start_time))\n",
    "report = classification_report(y_test, pred, output_dict=True)\n",
    "# Rodar até aqui\n",
    ", self.mlp, self.dt, self.sgd"
   ]
  },
  {
   "cell_type": "markdown",
   "metadata": {},
   "source": [
    "### mnb - rf - svc -> Voto minoria"
   ]
  },
  {
   "cell_type": "code",
   "execution_count": null,
   "metadata": {},
   "outputs": [],
   "source": [
    "# copiar esse código e colar numa célular vazia\n",
    "print(classification_report(y_test, pred))\n",
    "scores = cross_val_score(custom, X, y, cv=10, scoring='accuracy')\n",
    "print(\"Accuracy: %0.2f (+/- %0.2f) [%s]\" \n",
    "        % (scores.mean(), scores.std(), 'voting'))\n",
    "scores = cross_val_score(custom, X, y, cv=10, scoring='recall')\n",
    "print(\"Recall: %0.2f (+/- %0.2f) [%s]\" \n",
    "        % (scores.mean(), scores.std(), 'voting'))\n",
    "scores = cross_val_score(custom, X, y, cv=10, scoring='precision')\n",
    "print(\"Precision: %0.2f (+/- %0.2f) [%s]\" \n",
    "        % (scores.mean(), scores.std(), 'voting'))"
   ]
  },
  {
   "cell_type": "markdown",
   "metadata": {},
   "source": [
    "### mnb - mlp - svc -> Voto minoria"
   ]
  },
  {
   "cell_type": "code",
   "execution_count": 11,
   "metadata": {},
   "outputs": [
    {
     "name": "stdout",
     "output_type": "stream",
     "text": [
      "              precision    recall  f1-score   support\n",
      "\n",
      "           0       0.85      0.79      0.82       267\n",
      "           1       0.40      0.51      0.45        74\n",
      "\n",
      "   micro avg       0.73      0.73      0.73       341\n",
      "   macro avg       0.63      0.65      0.63       341\n",
      "weighted avg       0.76      0.73      0.74       341\n",
      "\n",
      "Accuracy: 0.64 (+/- 0.07) [voting]\n",
      "Recall: 0.64 (+/- 0.13) [voting]\n",
      "Precision: 0.31 (+/- 0.07) [voting]\n"
     ]
    }
   ],
   "source": [
    "print(classification_report(y_test, pred))\n",
    "scores = cross_val_score(custom, X, y, cv=10, scoring='accuracy')\n",
    "print(\"Accuracy: %0.2f (+/- %0.2f) [%s]\" \n",
    "        % (scores.mean(), scores.std(), 'voting'))\n",
    "scores = cross_val_score(custom, X, y, cv=10, scoring='recall')\n",
    "print(\"Recall: %0.2f (+/- %0.2f) [%s]\" \n",
    "        % (scores.mean(), scores.std(), 'voting'))\n",
    "scores = cross_val_score(custom, X, y, cv=10, scoring='precision')\n",
    "print(\"Precision: %0.2f (+/- %0.2f) [%s]\" \n",
    "        % (scores.mean(), scores.std(), 'voting'))"
   ]
  },
  {
   "cell_type": "markdown",
   "metadata": {},
   "source": [
    "### mnb - mlp - svc -> soft"
   ]
  },
  {
   "cell_type": "code",
   "execution_count": 41,
   "metadata": {},
   "outputs": [
    {
     "name": "stdout",
     "output_type": "stream",
     "text": [
      "              precision    recall  f1-score   support\n",
      "\n",
      "           0       0.83      0.87      0.85       267\n",
      "           1       0.42      0.35      0.38        74\n",
      "\n",
      "   micro avg       0.75      0.75      0.75       341\n",
      "   macro avg       0.62      0.61      0.61       341\n",
      "weighted avg       0.74      0.75      0.75       341\n",
      "\n",
      "Accuracy: 0.72 (+/- 0.05) [voting]\n",
      "Recall: 0.41 (+/- 0.11) [voting]\n",
      "Precision: 0.37 (+/- 0.13) [voting]\n"
     ]
    }
   ],
   "source": [
    "print(classification_report(y_test, pred))\n",
    "scores = cross_val_score(custom, X, y, cv=10, scoring='accuracy')\n",
    "print(\"Accuracy: %0.2f (+/- %0.2f) [%s]\" \n",
    "        % (scores.mean(), scores.std(), 'voting'))\n",
    "scores = cross_val_score(custom, X, y, cv=10, scoring='recall')\n",
    "print(\"Recall: %0.2f (+/- %0.2f) [%s]\" \n",
    "        % (scores.mean(), scores.std(), 'voting'))\n",
    "scores = cross_val_score(custom, X, y, cv=10, scoring='precision')\n",
    "print(\"Precision: %0.2f (+/- %0.2f) [%s]\" \n",
    "        % (scores.mean(), scores.std(), 'voting'))"
   ]
  },
  {
   "cell_type": "markdown",
   "metadata": {},
   "source": [
    "### rf or (mlp and svc)"
   ]
  },
  {
   "cell_type": "code",
   "execution_count": 44,
   "metadata": {},
   "outputs": [
    {
     "name": "stdout",
     "output_type": "stream",
     "text": [
      "              precision    recall  f1-score   support\n",
      "\n",
      "           0       0.85      0.89      0.87       267\n",
      "           1       0.52      0.45      0.48        74\n",
      "\n",
      "   micro avg       0.79      0.79      0.79       341\n",
      "   macro avg       0.69      0.67      0.68       341\n",
      "weighted avg       0.78      0.79      0.79       341\n",
      "\n",
      "Accuracy: 0.77 (+/- 0.04) [voting]\n",
      "Recall: 0.45 (+/- 0.11) [voting]\n",
      "Precision: 0.48 (+/- 0.15) [voting]\n"
     ]
    }
   ],
   "source": [
    "print(classification_report(y_test, pred))\n",
    "scores = cross_val_score(custom, X, y, cv=10, scoring='accuracy')\n",
    "print(\"Accuracy: %0.2f (+/- %0.2f) [%s]\" \n",
    "        % (scores.mean(), scores.std(), 'voting'))\n",
    "scores = cross_val_score(custom, X, y, cv=10, scoring='recall')\n",
    "print(\"Recall: %0.2f (+/- %0.2f) [%s]\" \n",
    "        % (scores.mean(), scores.std(), 'voting'))\n",
    "scores = cross_val_score(custom, X, y, cv=10, scoring='precision')\n",
    "print(\"Precision: %0.2f (+/- %0.2f) [%s]\" \n",
    "        % (scores.mean(), scores.std(), 'voting'))"
   ]
  },
  {
   "cell_type": "code",
   "execution_count": 47,
   "metadata": {},
   "outputs": [
    {
     "name": "stdout",
     "output_type": "stream",
     "text": [
      "              precision    recall  f1-score   support\n",
      "\n",
      "           0       0.85      0.85      0.85       267\n",
      "           1       0.46      0.47      0.47        74\n",
      "\n",
      "   micro avg       0.77      0.77      0.77       341\n",
      "   macro avg       0.66      0.66      0.66       341\n",
      "weighted avg       0.77      0.77      0.77       341\n",
      "\n",
      "Accuracy: 0.72 (+/- 0.05) [voting]\n",
      "Recall: 0.52 (+/- 0.11) [voting]\n",
      "Precision: 0.38 (+/- 0.08) [voting]\n"
     ]
    }
   ],
   "source": [
    "print(classification_report(y_test, pred))\n",
    "scores = cross_val_score(custom, X, y, cv=10, scoring='accuracy')\n",
    "print(\"Accuracy: %0.2f (+/- %0.2f) [%s]\" \n",
    "        % (scores.mean(), scores.std(), 'voting'))\n",
    "scores = cross_val_score(custom, X, y, cv=10, scoring='recall')\n",
    "print(\"Recall: %0.2f (+/- %0.2f) [%s]\" \n",
    "        % (scores.mean(), scores.std(), 'voting'))\n",
    "scores = cross_val_score(custom, X, y, cv=10, scoring='precision')\n",
    "print(\"Precision: %0.2f (+/- %0.2f) [%s]\" \n",
    "        % (scores.mean(), scores.std(), 'voting'))"
   ]
  },
  {
   "cell_type": "code",
   "execution_count": 25,
   "metadata": {},
   "outputs": [
    {
     "name": "stdout",
     "output_type": "stream",
     "text": [
      "              precision    recall  f1-score   support\n",
      "\n",
      "           0       0.88      0.51      0.65       267\n",
      "           1       0.30      0.74      0.42        74\n",
      "\n",
      "   micro avg       0.56      0.56      0.56       341\n",
      "   macro avg       0.59      0.63      0.54       341\n",
      "weighted avg       0.75      0.56      0.60       341\n",
      "\n",
      "Accuracy: 0.53 (+/- 0.10) [voting]\n",
      "Recall: 0.77 (+/- 0.11) [voting]\n",
      "Precision: 0.27 (+/- 0.05) [voting]\n"
     ]
    }
   ],
   "source": [
    "print(classification_report(y_test, pred))\n",
    "scores = cross_val_score(custom, X, y, cv=10, scoring='accuracy')\n",
    "print(\"Accuracy: %0.2f (+/- %0.2f) [%s]\" \n",
    "        % (scores.mean(), scores.std(), 'voting'))\n",
    "scores = cross_val_score(custom, X, y, cv=10, scoring='recall')\n",
    "print(\"Recall: %0.2f (+/- %0.2f) [%s]\" \n",
    "        % (scores.mean(), scores.std(), 'voting'))\n",
    "scores = cross_val_score(custom, X, y, cv=10, scoring='precision')\n",
    "print(\"Precision: %0.2f (+/- %0.2f) [%s]\" \n",
    "        % (scores.mean(), scores.std(), 'voting'))"
   ]
  },
  {
   "cell_type": "code",
   "execution_count": null,
   "metadata": {},
   "outputs": [],
   "source": []
  }
 ],
 "metadata": {
  "kernelspec": {
   "display_name": "Python 3",
   "language": "python",
   "name": "python3"
  },
  "language_info": {
   "codemirror_mode": {
    "name": "ipython",
    "version": 3
   },
   "file_extension": ".py",
   "mimetype": "text/x-python",
   "name": "python",
   "nbconvert_exporter": "python",
   "pygments_lexer": "ipython3",
   "version": "3.7.3"
  }
 },
 "nbformat": 4,
 "nbformat_minor": 2
}
