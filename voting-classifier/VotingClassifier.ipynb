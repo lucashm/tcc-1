{
 "cells": [
  {
   "cell_type": "code",
   "execution_count": 36,
   "metadata": {},
   "outputs": [],
   "source": [
    "import arff\n",
    "import numpy as np\n",
    "import seaborn as sn\n",
    "import matplotlib.pyplot as plt\n",
    "from operator import attrgetter, itemgetter\n",
    "from io import StringIO\n",
    "from sklearn.model_selection import train_test_split\n",
    "import nltk\n",
    "import pandas as pd\n",
    "from sklearn.model_selection import train_test_split\n",
    "from sklearn.model_selection import cross_val_score\n",
    "from sklearn import tree\n",
    "from sklearn.pipeline import Pipeline\n",
    "from sklearn.feature_extraction.text import TfidfVectorizer\n",
    "from sklearn.metrics import make_scorer, confusion_matrix,classification_report,precision_recall_fscore_support as score, average_precision_score\n",
    "from sklearn import metrics\n",
    "from sklearn.model_selection import cross_validate\n",
    "import pickle\n",
    "\n",
    "## training model\n",
    "from sklearn.neural_network import MLPClassifier\n",
    "from sklearn.svm import SVC\n",
    "from sklearn.ensemble import RandomForestClassifier, VotingClassifier\n",
    "from sklearn.naive_bayes import MultinomialNB\n",
    "from sklearn.linear_model import SGDClassifier\n",
    "\n",
    "import matplotlib.pyplot as plt\n",
    "from sklearn.model_selection import GridSearchCV"
   ]
  },
  {
   "cell_type": "code",
   "execution_count": 37,
   "metadata": {},
   "outputs": [],
   "source": [
    "data = arff.load(open('../text-blob-pt/OffComBR3.arff'))\n",
    "df = pd.DataFrame(data['data'])\n",
    "df.columns = ['hate', 'sentence']\n",
    "\n",
    "# transforming 'yes' into 1 and 'no' into 0\n",
    "df['hate'] = df['hate'].apply(lambda x: 1 if x == 'yes' else 0)\n",
    "\n",
    "X = df['sentence'].tolist()\n",
    "y = df['hate'].tolist()\n",
    "X_train, X_test, y_train, y_test = train_test_split(\n",
    "                                    X, y, test_size=0.33, random_state=42)\n",
    "\n",
    "pt_stop_words = nltk.corpus.stopwords.words('portuguese')\n",
    "\n",
    "classifiers = []\n",
    "max_df = 0.6"
   ]
  },
  {
   "cell_type": "code",
   "execution_count": 38,
   "metadata": {},
   "outputs": [
    {
     "name": "stdout",
     "output_type": "stream",
     "text": [
      "              precision    recall  f1-score   support\n",
      "\n",
      "           0       0.82      0.94      0.88       267\n",
      "           1       0.57      0.27      0.37        74\n",
      "\n",
      "   micro avg       0.80      0.80      0.80       341\n",
      "   macro avg       0.70      0.61      0.62       341\n",
      "weighted avg       0.77      0.80      0.77       341\n",
      "\n"
     ]
    }
   ],
   "source": [
    "RandomForest =  Pipeline([\n",
    "        ('tfidf',TfidfVectorizer(ngram_range=(1,4),\n",
    "                                 lowercase=True,\n",
    "                                 strip_accents='ascii',\n",
    "                                 max_df=max_df\n",
    "                                )),\n",
    "        ('clf', RandomForestClassifier(n_estimators=100, max_depth=None, min_samples_leaf=1, min_samples_split=2, min_weight_fraction_leaf=0,)),\n",
    "        ])\n",
    "RandomForest.fit(X_train, y_train)\n",
    "pred = RandomForest.predict(X_test)\n",
    "classifiers.append(('randomforest', RandomForest))\n",
    "print(classification_report(y_test, pred))"
   ]
  },
  {
   "cell_type": "code",
   "execution_count": 39,
   "metadata": {},
   "outputs": [
    {
     "name": "stdout",
     "output_type": "stream",
     "text": [
      "              precision    recall  f1-score   support\n",
      "\n",
      "           0       0.85      0.88      0.87       267\n",
      "           1       0.52      0.46      0.49        74\n",
      "\n",
      "   micro avg       0.79      0.79      0.79       341\n",
      "   macro avg       0.68      0.67      0.68       341\n",
      "weighted avg       0.78      0.79      0.78       341\n",
      "\n"
     ]
    }
   ],
   "source": [
    "MLP = Pipeline([\n",
    "        ('tfidf',TfidfVectorizer(ngram_range=(1, 1),                                  \n",
    "                                 lowercase=True,\n",
    "                                 strip_accents='ascii',\n",
    "                                 max_df=max_df)),\n",
    "        ('clf', MLPClassifier(activation='logistic', alpha=0, solver='lbfgs')),\n",
    "        ])\n",
    "MLP.fit(X_train, y_train)\n",
    "pred = MLP.predict(X_test)\n",
    "classifiers.append(('mlp', MLP))\n",
    "print(classification_report(y_test, pred))"
   ]
  },
  {
   "cell_type": "code",
   "execution_count": 40,
   "metadata": {},
   "outputs": [
    {
     "name": "stdout",
     "output_type": "stream",
     "text": [
      "              precision    recall  f1-score   support\n",
      "\n",
      "           0       0.84      0.94      0.89       267\n",
      "           1       0.62      0.34      0.44        74\n",
      "\n",
      "   micro avg       0.81      0.81      0.81       341\n",
      "   macro avg       0.73      0.64      0.66       341\n",
      "weighted avg       0.79      0.81      0.79       341\n",
      "\n"
     ]
    }
   ],
   "source": [
    "SVCl = Pipeline([\n",
    "        ('tfidf',TfidfVectorizer(ngram_range=(1, 1),                        \n",
    "                                 lowercase=True,\n",
    "                                 strip_accents='ascii',\n",
    "                                 max_df=max_df)),\n",
    "        ('clf', SVC(C=4, kernel='linear', probability=True, shrinking=True, tol=1)),\n",
    "        ])\n",
    "SVCl.fit(X_train, y_train)\n",
    "pred = SVCl.predict(X_test)\n",
    "classifiers.append(('svc', SVCl))\n",
    "print(classification_report(y_test, pred))"
   ]
  },
  {
   "cell_type": "code",
   "execution_count": 17,
   "metadata": {},
   "outputs": [
    {
     "name": "stdout",
     "output_type": "stream",
     "text": [
      "              precision    recall  f1-score   support\n",
      "\n",
      "           0       0.85      0.91      0.88       267\n",
      "           1       0.57      0.42      0.48        74\n",
      "\n",
      "   micro avg       0.81      0.81      0.81       341\n",
      "   macro avg       0.71      0.67      0.68       341\n",
      "weighted avg       0.79      0.81      0.79       341\n",
      "\n"
     ]
    }
   ],
   "source": [
    "multiNB =  Pipeline([\n",
    "        ('tfidf',TfidfVectorizer(ngram_range=(1, 1))),\n",
    "        ('clf', MultinomialNB(alpha=0.1, fit_prior=False)),\n",
    "        ])\n",
    "multiNB.fit(X_train,print(classification_report(y_test, pred)) y_train)\n",
    "pred = multiNB.predict(X_test)\n",
    "classifiers.append(('multinb', multiNB))\n",
    "print(classification_report(y_test, pred))"
   ]
  },
  {
   "cell_type": "code",
   "execution_count": 71,
   "metadata": {},
   "outputs": [],
   "source": [
    "voting = VotingClassifier(estimators=classifiers, \n",
    "                          voting='hard',\n",
    "                          weights=[1, 1, 3], \n",
    "                          n_jobs=15)"
   ]
  },
  {
   "cell_type": "code",
   "execution_count": 65,
   "metadata": {},
   "outputs": [],
   "source": [
    "voting.fit(X_train, y_train)\n",
    "pred = voting.predict(X_test)\n",
    "report = classification_report(y_test, pred, output_dict=True)"
   ]
  },
  {
   "cell_type": "code",
   "execution_count": 57,
   "metadata": {},
   "outputs": [],
   "source": [
    "df_report = pd.DataFrame(report).transpose()"
   ]
  },
  {
   "cell_type": "markdown",
   "metadata": {},
   "source": [
    "# HARD OR SOFT"
   ]
  },
  {
   "cell_type": "code",
   "execution_count": 42,
   "metadata": {},
   "outputs": [
    {
     "name": "stdout",
     "output_type": "stream",
     "text": [
      "              precision    recall  f1-score   support\n",
      "\n",
      "           0       0.85      0.93      0.89       267\n",
      "           1       0.62      0.41      0.49        74\n",
      "\n",
      "   micro avg       0.82      0.82      0.82       341\n",
      "   macro avg       0.74      0.67      0.69       341\n",
      "weighted avg       0.80      0.82      0.80       341\n",
      "\n"
     ]
    }
   ],
   "source": [
    "# HARD, 0.6 max_df, peso 1 1 1\n",
    "print(classification_report(y_test, pred))"
   ]
  },
  {
   "cell_type": "code",
   "execution_count": 46,
   "metadata": {},
   "outputs": [
    {
     "name": "stdout",
     "output_type": "stream",
     "text": [
      "              precision    recall  f1-score   support\n",
      "\n",
      "           0       0.86      0.92      0.89       267\n",
      "           1       0.61      0.45      0.52        74\n",
      "\n",
      "   micro avg       0.82      0.82      0.82       341\n",
      "   macro avg       0.73      0.68      0.70       341\n",
      "weighted avg       0.80      0.82      0.81       341\n",
      "\n"
     ]
    }
   ],
   "source": [
    "# SOFT, 0.6 max_df, peso 1 1 1\n",
    "print(classification_report(y_test, pred))"
   ]
  },
  {
   "cell_type": "markdown",
   "metadata": {},
   "source": [
    "## WEIGHTS"
   ]
  },
  {
   "cell_type": "code",
   "execution_count": 50,
   "metadata": {},
   "outputs": [
    {
     "name": "stdout",
     "output_type": "stream",
     "text": [
      "              precision    recall  f1-score   support\n",
      "\n",
      "           0       0.85      0.89      0.87       267\n",
      "           1       0.52      0.43      0.47        74\n",
      "\n",
      "   micro avg       0.79      0.79      0.79       341\n",
      "   macro avg       0.69      0.66      0.67       341\n",
      "weighted avg       0.78      0.79      0.78       341\n",
      "\n"
     ]
    }
   ],
   "source": [
    "# SOFT, 0.6 max_df, peso 1 2 1\n",
    "print(classification_report(y_test, pred))"
   ]
  },
  {
   "cell_type": "code",
   "execution_count": 54,
   "metadata": {},
   "outputs": [
    {
     "name": "stdout",
     "output_type": "stream",
     "text": [
      "              precision    recall  f1-score   support\n",
      "\n",
      "           0       0.84      0.94      0.89       267\n",
      "           1       0.62      0.35      0.45        74\n",
      "\n",
      "   micro avg       0.81      0.81      0.81       341\n",
      "   macro avg       0.73      0.65      0.67       341\n",
      "weighted avg       0.79      0.81      0.79       341\n",
      "\n"
     ]
    }
   ],
   "source": [
    "# SOFT, 0.6 max_df, peso 2 1 2\n",
    "print(classification_report(y_test, pred))"
   ]
  },
  {
   "cell_type": "code",
   "execution_count": 58,
   "metadata": {},
   "outputs": [
    {
     "name": "stdout",
     "output_type": "stream",
     "text": [
      "              precision    recall  f1-score   support\n",
      "\n",
      "           0       0.86      0.88      0.87       267\n",
      "           1       0.53      0.47      0.50        74\n",
      "\n",
      "   micro avg       0.79      0.79      0.79       341\n",
      "   macro avg       0.69      0.68      0.69       341\n",
      "weighted avg       0.79      0.79      0.79       341\n",
      "\n"
     ]
    }
   ],
   "source": [
    "# SOFT, 0.6 max_df, peso 1 3 1\n",
    "print(classification_report(y_test, pred))"
   ]
  },
  {
   "cell_type": "markdown",
   "metadata": {},
   "source": [
    "## Best result so far"
   ]
  },
  {
   "cell_type": "code",
   "execution_count": 59,
   "metadata": {},
   "outputs": [
    {
     "name": "stdout",
     "output_type": "stream",
     "text": [
      "              precision    recall  f1-score   support\n",
      "\n",
      "           0       0.86      0.88      0.87       267\n",
      "           1       0.53      0.47      0.50        74\n",
      "\n",
      "   micro avg       0.79      0.79      0.79       341\n",
      "   macro avg       0.69      0.68      0.69       341\n",
      "weighted avg       0.79      0.79      0.79       341\n",
      "\n"
     ]
    }
   ],
   "source": [
    "# SOFT, 0.6 max_df, peso 1 3 1\n",
    "print(classification_report(y_test, pred))"
   ]
  },
  {
   "cell_type": "markdown",
   "metadata": {},
   "source": [
    "## Accuracy, recall, precision test\n",
    "##### SOFT, 0.6 max_df, peso 1 3 1"
   ]
  },
  {
   "cell_type": "code",
   "execution_count": 66,
   "metadata": {},
   "outputs": [
    {
     "name": "stdout",
     "output_type": "stream",
     "text": [
      "Accuracy: 0.78 (+/- 0.05) [voting]\n",
      "Recall: 0.47 (+/- 0.10) [voting]\n",
      "Precision: 0.44 (+/- 0.09) [voting]\n"
     ]
    }
   ],
   "source": [
    "scores = cross_val_score(voting, X, y, cv=5, scoring='accuracy')\n",
    "print(\"Accuracy: %0.2f (+/- %0.2f) [%s]\" \n",
    "        % (scores.mean(), scores.std(), 'voting'))\n",
    "scores = cross_val_score(voting, X, y, cv=5, scoring='recall')\n",
    "print(\"Recall: %0.2f (+/- %0.2f) [%s]\" \n",
    "        % (scores.mean(), scores.std(), 'voting'))\n",
    "scores = cross_val_score(voting, X, y, cv=5, scoring='precision')\n",
    "print(\"Precision: %0.2f (+/- %0.2f) [%s]\" \n",
    "        % (scores.mean(), scores.std(), 'voting'))"
   ]
  },
  {
   "cell_type": "markdown",
   "metadata": {},
   "source": [
    "##### HARD, 0.6 max_df, peso 1 3 1"
   ]
  },
  {
   "cell_type": "code",
   "execution_count": 68,
   "metadata": {},
   "outputs": [
    {
     "name": "stdout",
     "output_type": "stream",
     "text": [
      "Accuracy: 0.75 (+/- 0.04) [voting]\n",
      "Recall: 0.47 (+/- 0.09) [voting]\n",
      "Precision: 0.44 (+/- 0.09) [voting]\n"
     ]
    }
   ],
   "source": [
    "scores = cross_val_score(voting, X, y, cv=5, scoring='accuracy')\n",
    "print(\"Accuracy: %0.2f (+/- %0.2f) [%s]\" \n",
    "        % (scores.mean(), scores.std(), 'voting'))\n",
    "scores = cross_val_score(voting, X, y, cv=5, scoring='recall')\n",
    "print(\"Recall: %0.2f (+/- %0.2f) [%s]\" \n",
    "        % (scores.mean(), scores.std(), 'voting'))\n",
    "scores = cross_val_score(voting, X, y, cv=5, scoring='precision')\n",
    "print(\"Precision: %0.2f (+/- %0.2f) [%s]\" \n",
    "        % (scores.mean(), scores.std(), 'voting'))"
   ]
  },
  {
   "cell_type": "markdown",
   "metadata": {},
   "source": [
    "##### SOFT, 0.6 max_df, peso 1 1 3"
   ]
  },
  {
   "cell_type": "code",
   "execution_count": 70,
   "metadata": {},
   "outputs": [
    {
     "name": "stdout",
     "output_type": "stream",
     "text": [
      "Accuracy: 0.81 (+/- 0.04) [voting]\n",
      "Recall: 0.35 (+/- 0.08) [voting]\n",
      "Precision: 0.54 (+/- 0.15) [voting]\n"
     ]
    }
   ],
   "source": [
    "scores = cross_val_score(voting, X, y, cv=5, scoring='accuracy')\n",
    "print(\"Accuracy: %0.2f (+/- %0.2f) [%s]\" \n",
    "        % (scores.mean(), scores.std(), 'voting'))\n",
    "scores = cross_val_score(voting, X, y, cv=5, scoring='recall')\n",
    "print(\"Recall: %0.2f (+/- %0.2f) [%s]\" \n",
    "        % (scores.mean(), scores.std(), 'voting'))\n",
    "scores = cross_val_score(voting, X, y, cv=5, scoring='precision')\n",
    "print(\"Precision: %0.2f (+/- %0.2f) [%s]\" \n",
    "        % (scores.mean(), scores.std(), 'voting'))"
   ]
  },
  {
   "cell_type": "markdown",
   "metadata": {},
   "source": [
    "##### HARD, 0.6 max_df, peso 1 1 3"
   ]
  },
  {
   "cell_type": "code",
   "execution_count": 72,
   "metadata": {},
   "outputs": [
    {
     "name": "stdout",
     "output_type": "stream",
     "text": [
      "Accuracy: 0.80 (+/- 0.03) [voting]\n",
      "Recall: 0.38 (+/- 0.08) [voting]\n",
      "Precision: 0.49 (+/- 0.09) [voting]\n"
     ]
    }
   ],
   "source": [
    "scores = cross_val_score(voting, X, y, cv=5, scoring='accuracy')\n",
    "print(\"Accuracy: %0.2f (+/- %0.2f) [%s]\" \n",
    "        % (scores.mean(), scores.std(), 'voting'))\n",
    "scores = cross_val_score(voting, X, y, cv=5, scoring='recall')\n",
    "print(\"Recall: %0.2f (+/- %0.2f) [%s]\" \n",
    "        % (scores.mean(), scores.std(), 'voting'))\n",
    "scores = cross_val_score(voting, X, y, cv=5, scoring='precision')\n",
    "print(\"Precision: %0.2f (+/- %0.2f) [%s]\" \n",
    "        % (scores.mean(), scores.std(), 'voting'))"
   ]
  },
  {
   "cell_type": "markdown",
   "metadata": {},
   "source": [
    "# Replacing RF with MultiNB\n"
   ]
  },
  {
   "cell_type": "code",
   "execution_count": 34,
   "metadata": {},
   "outputs": [],
   "source": [
    "voting = VotingClassifier(estimators=classifiers, \n",
    "                          voting='soft',\n",
    "                          weights=[1, 1, 3], \n",
    "                          n_jobs=15)\n",
    "voting.fit(X_train, y_train)\n",
    "pred = voting.predict(X_test)\n",
    "report = classification_report(y_test, pred, output_dict=True)"
   ]
  },
  {
   "cell_type": "markdown",
   "metadata": {},
   "source": [
    "# HARD OR SOFT"
   ]
  },
  {
   "cell_type": "code",
   "execution_count": 23,
   "metadata": {},
   "outputs": [
    {
     "name": "stdout",
     "output_type": "stream",
     "text": [
      "              precision    recall  f1-score   support\n",
      "\n",
      "           0       0.85      0.93      0.89       267\n",
      "           1       0.62      0.39      0.48        74\n",
      "\n",
      "   micro avg       0.82      0.82      0.82       341\n",
      "   macro avg       0.73      0.66      0.68       341\n",
      "weighted avg       0.80      0.82      0.80       341\n",
      "\n"
     ]
    }
   ],
   "source": [
    "# HARD, 0.6 max_df, peso 1 1 1\n",
    "print(classification_report(y_test, pred))"
   ]
  },
  {
   "cell_type": "code",
   "execution_count": 26,
   "metadata": {},
   "outputs": [
    {
     "name": "stdout",
     "output_type": "stream",
     "text": [
      "              precision    recall  f1-score   support\n",
      "\n",
      "           0       0.85      0.90      0.88       267\n",
      "           1       0.55      0.43      0.48        74\n",
      "\n",
      "   micro avg       0.80      0.80      0.80       341\n",
      "   macro avg       0.70      0.67      0.68       341\n",
      "weighted avg       0.79      0.80      0.79       341\n",
      "\n"
     ]
    }
   ],
   "source": [
    "# SOFT, 0.6 max_df, peso 1 1 1\n",
    "print(classification_report(y_test, pred))"
   ]
  },
  {
   "cell_type": "markdown",
   "metadata": {},
   "source": [
    "## WEIGHTS"
   ]
  },
  {
   "cell_type": "code",
   "execution_count": 29,
   "metadata": {},
   "outputs": [
    {
     "name": "stdout",
     "output_type": "stream",
     "text": [
      "              precision    recall  f1-score   support\n",
      "\n",
      "           0       0.86      0.91      0.88       267\n",
      "           1       0.57      0.45      0.50        74\n",
      "\n",
      "   micro avg       0.81      0.81      0.81       341\n",
      "   macro avg       0.71      0.68      0.69       341\n",
      "weighted avg       0.79      0.81      0.80       341\n",
      "\n"
     ]
    }
   ],
   "source": [
    "# SOFT, 0.6 max_df, peso 2 1 1\n",
    "print(classification_report(y_test, pred))"
   ]
  },
  {
   "cell_type": "code",
   "execution_count": 31,
   "metadata": {},
   "outputs": [
    {
     "name": "stdout",
     "output_type": "stream",
     "text": [
      "              precision    recall  f1-score   support\n",
      "\n",
      "           0       0.85      0.93      0.89       267\n",
      "           1       0.60      0.39      0.48        74\n",
      "\n",
      "   micro avg       0.81      0.81      0.81       341\n",
      "   macro avg       0.73      0.66      0.68       341\n",
      "weighted avg       0.79      0.81      0.80       341\n",
      "\n"
     ]
    }
   ],
   "source": [
    "# SOFT, 0.6 max_df, peso 1 2 2\n",
    "print(classification_report(y_test, pred))"
   ]
  },
  {
   "cell_type": "code",
   "execution_count": 33,
   "metadata": {},
   "outputs": [
    {
     "name": "stdout",
     "output_type": "stream",
     "text": [
      "              precision    recall  f1-score   support\n",
      "\n",
      "           0       0.86      0.89      0.87       267\n",
      "           1       0.53      0.46      0.49        74\n",
      "\n",
      "   micro avg       0.79      0.79      0.79       341\n",
      "   macro avg       0.69      0.67      0.68       341\n",
      "weighted avg       0.79      0.79      0.79       341\n",
      "\n"
     ]
    }
   ],
   "source": [
    "# SOFT, 0.6 max_df, peso 3 1 1\n",
    "print(classification_report(y_test, pred))"
   ]
  },
  {
   "cell_type": "code",
   "execution_count": 35,
   "metadata": {},
   "outputs": [
    {
     "name": "stdout",
     "output_type": "stream",
     "text": [
      "              precision    recall  f1-score   support\n",
      "\n",
      "           0       0.85      0.92      0.88       267\n",
      "           1       0.59      0.43      0.50        74\n",
      "\n",
      "   micro avg       0.81      0.81      0.81       341\n",
      "   macro avg       0.72      0.68      0.69       341\n",
      "weighted avg       0.80      0.81      0.80       341\n",
      "\n"
     ]
    }
   ],
   "source": [
    "# SOFT, 0.6 max_df, peso 1 1 3\n",
    "print(classification_report(y_test, pred))"
   ]
  },
  {
   "cell_type": "code",
   "execution_count": null,
   "metadata": {},
   "outputs": [],
   "source": []
  }
 ],
 "metadata": {
  "kernelspec": {
   "display_name": "Python 3",
   "language": "python",
   "name": "python3"
  },
  "language_info": {
   "codemirror_mode": {
    "name": "ipython",
    "version": 3
   },
   "file_extension": ".py",
   "mimetype": "text/x-python",
   "name": "python",
   "nbconvert_exporter": "python",
   "pygments_lexer": "ipython3",
   "version": "3.7.3"
  }
 },
 "nbformat": 4,
 "nbformat_minor": 2
}
