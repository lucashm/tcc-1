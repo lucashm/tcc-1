{
 "cells": [
  {
   "cell_type": "code",
   "execution_count": 46,
   "metadata": {},
   "outputs": [],
   "source": [
    "import arff\n",
    "import numpy as np\n",
    "import seaborn as sn\n",
    "import matplotlib.pyplot as plt\n",
    "from operator import attrgetter, itemgetter\n",
    "from io import StringIO\n",
    "from sklearn.model_selection import train_test_split\n",
    "import nltk\n",
    "import pandas as pd\n",
    "from sklearn.model_selection import train_test_split\n",
    "from sklearn.model_selection import cross_val_score\n",
    "from sklearn import tree\n",
    "from sklearn.pipeline import Pipeline\n",
    "from sklearn.feature_extraction.text import TfidfVectorizer\n",
    "from sklearn.metrics import make_scorer, confusion_matrix,classification_report,precision_recall_fscore_support as score, average_precision_score\n",
    "from sklearn import metrics\n",
    "from sklearn.model_selection import cross_validate\n",
    "import pickle\n",
    "\n",
    "## training model\n",
    "from sklearn.neural_network import MLPClassifier\n",
    "from sklearn.svm import SVC\n",
    "from sklearn.ensemble import RandomForestClassifier, VotingClassifier\n",
    "from sklearn.naive_bayes import MultinomialNB\n",
    "from sklearn.linear_model import SGDClassifier\n",
    "\n",
    "import matplotlib.pyplot as plt\n",
    "from sklearn.model_selection import GridSearchCV"
   ]
  },
  {
   "cell_type": "code",
   "execution_count": 165,
   "metadata": {},
   "outputs": [],
   "source": [
    "data = arff.load(open('../text-blob-pt/OffComBR3.arff'))\n",
    "df = pd.DataFrame(data['data'])\n",
    "df.columns = ['hate', 'sentence']\n",
    "\n",
    "# transforming 'yes' into 1 and 'no' into 0\n",
    "df['hate'] = df['hate'].apply(lambda x: 1 if x == 'yes' else 0)\n",
    "\n",
    "X = df['sentence'].tolist()\n",
    "y = df['hate'].tolist()\n",
    "X_train, X_test, y_train, y_test = train_test_split(\n",
    "                                    X, y, test_size=0.33, random_state=42)\n",
    "\n",
    "pt_stop_words = nltk.corpus.stopwords.words('portuguese')\n",
    "\n",
    "classifiers = []"
   ]
  },
  {
   "cell_type": "code",
   "execution_count": 166,
   "metadata": {},
   "outputs": [],
   "source": [
    "RandomForest =  Pipeline([\n",
    "        ('tfidf',TfidfVectorizer(ngram_range=(1,4),\n",
    "                                 lowercase=True,\n",
    "                                 strip_accents='ascii',\n",
    "                                 max_df=0.1\n",
    "                                )),\n",
    "        ('clf', RandomForestClassifier(n_estimators=100, max_depth=None, min_samples_leaf=1, min_samples_split=2, min_weight_fraction_leaf=0,)),\n",
    "        ])"
   ]
  },
  {
   "cell_type": "code",
   "execution_count": 167,
   "metadata": {},
   "outputs": [
    {
     "name": "stdout",
     "output_type": "stream",
     "text": [
      "              precision    recall  f1-score   support\n",
      "\n",
      "           0       0.82      0.85      0.84       267\n",
      "           1       0.39      0.35      0.37        74\n",
      "\n",
      "   micro avg       0.74      0.74      0.74       341\n",
      "   macro avg       0.61      0.60      0.60       341\n",
      "weighted avg       0.73      0.74      0.73       341\n",
      "\n"
     ]
    }
   ],
   "source": [
    "RandomForest.fit(X_train, y_train)\n",
    "pred = RandomForest.predict(X_test)\n",
    "classifiers.append(('randomforest', RandomForest))\n",
    "print(classification_report(y_test, pred))"
   ]
  },
  {
   "cell_type": "code",
   "execution_count": 168,
   "metadata": {},
   "outputs": [],
   "source": [
    "MLP = Pipeline([\n",
    "        ('tfidf',TfidfVectorizer(ngram_range=(1, 1),                                  \n",
    "                                 lowercase=True,\n",
    "                                 strip_accents='ascii',\n",
    "                                 max_df=0.1)),\n",
    "        ('clf', MLPClassifier(activation='logistic', alpha=0, solver='lbfgs')),\n",
    "        ])"
   ]
  },
  {
   "cell_type": "code",
   "execution_count": 169,
   "metadata": {},
   "outputs": [
    {
     "name": "stdout",
     "output_type": "stream",
     "text": [
      "              precision    recall  f1-score   support\n",
      "\n",
      "           0       0.86      0.86      0.86       267\n",
      "           1       0.50      0.50      0.50        74\n",
      "\n",
      "   micro avg       0.78      0.78      0.78       341\n",
      "   macro avg       0.68      0.68      0.68       341\n",
      "weighted avg       0.78      0.78      0.78       341\n",
      "\n"
     ]
    }
   ],
   "source": [
    "MLP.fit(X_train, y_train)\n",
    "pred = MLP.predict(X_test)\n",
    "classifiers.append(('mlp', MLP))\n",
    "print(classification_report(y_test, pred))"
   ]
  },
  {
   "cell_type": "code",
   "execution_count": 170,
   "metadata": {},
   "outputs": [],
   "source": [
    "SVCl = Pipeline([\n",
    "        ('tfidf',TfidfVectorizer(ngram_range=(1, 1),                        \n",
    "                                 lowercase=True,\n",
    "                                 strip_accents='ascii',\n",
    "                                 max_df=0.1)),\n",
    "        ('clf', SVC(C=4, kernel='linear', probability=True, shrinking=True, tol=1)),\n",
    "        ])"
   ]
  },
  {
   "cell_type": "code",
   "execution_count": 171,
   "metadata": {},
   "outputs": [
    {
     "name": "stdout",
     "output_type": "stream",
     "text": [
      "              precision    recall  f1-score   support\n",
      "\n",
      "           0       0.83      0.92      0.87       267\n",
      "           1       0.53      0.34      0.41        74\n",
      "\n",
      "   micro avg       0.79      0.79      0.79       341\n",
      "   macro avg       0.68      0.63      0.64       341\n",
      "weighted avg       0.77      0.79      0.77       341\n",
      "\n"
     ]
    }
   ],
   "source": [
    "SVCl.fit(X_train, y_train)\n",
    "pred = SVCl.predict(X_test)\n",
    "classifiers.append(('svc', SVCl))\n",
    "print(classification_report(y_test, pred))"
   ]
  },
  {
   "cell_type": "code",
   "execution_count": 172,
   "metadata": {},
   "outputs": [],
   "source": [
    "SGD = Pipeline([\n",
    "        ('tfidf',TfidfVectorizer(ngram_range=(1, 1),\n",
    "                                 lowercase=True,\n",
    "                                 strip_accents='ascii',\n",
    "                                 max_df=0.1)),\n",
    "        ('clf', SGDClassifier(alpha=0.01, loss='perceptron', penalty='none')),\n",
    "        ])"
   ]
  },
  {
   "cell_type": "code",
   "execution_count": 173,
   "metadata": {},
   "outputs": [
    {
     "name": "stdout",
     "output_type": "stream",
     "text": [
      "              precision    recall  f1-score   support\n",
      "\n",
      "           0       0.82      0.85      0.83       267\n",
      "           1       0.37      0.32      0.35        74\n",
      "\n",
      "   micro avg       0.73      0.73      0.73       341\n",
      "   macro avg       0.59      0.59      0.59       341\n",
      "weighted avg       0.72      0.73      0.73       341\n",
      "\n"
     ]
    },
    {
     "name": "stderr",
     "output_type": "stream",
     "text": [
      "/home/shivwa/.virtualenvs/tcc/lib/python3.7/site-packages/sklearn/linear_model/stochastic_gradient.py:166: FutureWarning: max_iter and tol parameters have been added in SGDClassifier in 0.19. If both are left unset, they default to max_iter=5 and tol=None. If tol is not None, max_iter defaults to max_iter=1000. From 0.21, default max_iter will be 1000, and default tol will be 1e-3.\n",
      "  FutureWarning)\n"
     ]
    }
   ],
   "source": [
    "SGD.fit(X_train, y_train)\n",
    "pred = SGD.predict(X_test)\n",
    "classifiers.append(('sgd', SGD))\n",
    "print(classification_report(y_test, pred))"
   ]
  },
  {
   "cell_type": "code",
   "execution_count": 174,
   "metadata": {},
   "outputs": [],
   "source": [
    "MultiNB = Pipeline([\n",
    "        ('tfidf',TfidfVectorizer(ngram_range=(1, 1),                                  \n",
    "                                 lowercase=True,\n",
    "                                 strip_accents='ascii',\n",
    "                                 max_df=0.1)),\n",
    "        ('clf', MultinomialNB(alpha=0.1, fit_prior=False)),\n",
    "        ])"
   ]
  },
  {
   "cell_type": "code",
   "execution_count": 175,
   "metadata": {},
   "outputs": [
    {
     "name": "stdout",
     "output_type": "stream",
     "text": [
      "              precision    recall  f1-score   support\n",
      "\n",
      "           0       0.85      0.91      0.88       267\n",
      "           1       0.56      0.43      0.49        74\n",
      "\n",
      "   micro avg       0.80      0.80      0.80       341\n",
      "   macro avg       0.71      0.67      0.68       341\n",
      "weighted avg       0.79      0.80      0.79       341\n",
      "\n"
     ]
    }
   ],
   "source": [
    "MultiNB.fit(X_train, y_train)\n",
    "pred = MultiNB.predict(X_test)\n",
    "classifiers.append(('multiNB', MultiNB))\n",
    "print(classification_report(y_test, pred))"
   ]
  },
  {
   "cell_type": "code",
   "execution_count": 176,
   "metadata": {},
   "outputs": [],
   "source": [
    "voting = VotingClassifier(estimators=classifiers[0:3], \n",
    "                          voting='soft',\n",
    "                          weights=[1, 2, 1], \n",
    "                          n_jobs=15)"
   ]
  },
  {
   "cell_type": "code",
   "execution_count": 177,
   "metadata": {},
   "outputs": [],
   "source": [
    "voting.fit(X_train, y_train)\n",
    "pred = voting.predict(X_test)\n",
    "report = classification_report(y_test, pred, output_dict=True)"
   ]
  },
  {
   "cell_type": "code",
   "execution_count": 178,
   "metadata": {},
   "outputs": [],
   "source": [
    "df_report = pd.DataFrame(report).transpose()"
   ]
  },
  {
   "cell_type": "code",
   "execution_count": 164,
   "metadata": {},
   "outputs": [
    {
     "name": "stdout",
     "output_type": "stream",
     "text": [
      "              precision    recall  f1-score   support\n",
      "\n",
      "           0       0.87      0.90      0.88       267\n",
      "           1       0.59      0.50      0.54        74\n",
      "\n",
      "   micro avg       0.82      0.82      0.82       341\n",
      "   macro avg       0.73      0.70      0.71       341\n",
      "weighted avg       0.81      0.82      0.81       341\n",
      "\n"
     ]
    }
   ],
   "source": [
    "print(classification_report(y_test, pred))"
   ]
  },
  {
   "cell_type": "code",
   "execution_count": 179,
   "metadata": {},
   "outputs": [
    {
     "name": "stdout",
     "output_type": "stream",
     "text": [
      "              precision    recall  f1-score   support\n",
      "\n",
      "           0       0.86      0.87      0.86       267\n",
      "           1       0.49      0.47      0.48        74\n",
      "\n",
      "   micro avg       0.78      0.78      0.78       341\n",
      "   macro avg       0.67      0.67      0.67       341\n",
      "weighted avg       0.78      0.78      0.78       341\n",
      "\n"
     ]
    }
   ],
   "source": [
    "print(classification_report(y_test, pred))"
   ]
  },
  {
   "cell_type": "code",
   "execution_count": 63,
   "metadata": {},
   "outputs": [],
   "source": [
    "# df_report.to_csv('./results/csv/hardsoft/1mnb-1mlp-1rf.csv')\n",
    "# df_report.to_pickle('./results/sav/hardsoft/1mnb-1mlp-1rf.sav')"
   ]
  },
  {
   "cell_type": "code",
   "execution_count": 63,
   "metadata": {},
   "outputs": [
    {
     "data": {
      "text/plain": [
       "('multiNB', Pipeline(memory=None,\n",
       "      steps=[('tfidf', TfidfVectorizer(analyzer='word', binary=False, decode_error='strict',\n",
       "         dtype=<class 'numpy.float64'>, encoding='utf-8', input='content',\n",
       "         lowercase=True, max_df=0.5, max_features=None, min_df=1,\n",
       "         ngram_range=(1, 1), norm='l2', preprocessor=None, smooth_idf=True,...ue,\n",
       "         vocabulary=None)), ('clf', MultinomialNB(alpha=0.1, class_prior=None, fit_prior=False))]))"
      ]
     },
     "execution_count": 63,
     "metadata": {},
     "output_type": "execute_result"
    }
   ],
   "source": [
    "classifiers[4]"
   ]
  },
  {
   "cell_type": "code",
   "execution_count": 101,
   "metadata": {},
   "outputs": [
    {
     "data": {
      "text/plain": [
       "('svc', Pipeline(memory=None,\n",
       "      steps=[('tfidf', TfidfVectorizer(analyzer='word', binary=False, decode_error='strict',\n",
       "         dtype=<class 'numpy.float64'>, encoding='utf-8', input='content',\n",
       "         lowercase=True, max_df=0.5, max_features=None, min_df=1,\n",
       "         ngram_range=(1, 1), norm='l2', preprocessor=None, smooth_idf=True,...linear', max_iter=-1, probability=True, random_state=None,\n",
       "   shrinking=True, tol=1, verbose=False))]))"
      ]
     },
     "execution_count": 101,
     "metadata": {},
     "output_type": "execute_result"
    }
   ],
   "source": [
    "classifiers[6]"
   ]
  },
  {
   "cell_type": "code",
   "execution_count": null,
   "metadata": {},
   "outputs": [],
   "source": []
  }
 ],
 "metadata": {
  "kernelspec": {
   "display_name": "Python 3",
   "language": "python",
   "name": "python3"
  },
  "language_info": {
   "codemirror_mode": {
    "name": "ipython",
    "version": 3
   },
   "file_extension": ".py",
   "mimetype": "text/x-python",
   "name": "python",
   "nbconvert_exporter": "python",
   "pygments_lexer": "ipython3",
   "version": "3.7.3"
  }
 },
 "nbformat": 4,
 "nbformat_minor": 2
}
