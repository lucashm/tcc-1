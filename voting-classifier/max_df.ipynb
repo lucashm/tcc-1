{
 "cells": [
  {
   "cell_type": "code",
   "execution_count": 67,
   "metadata": {},
   "outputs": [],
   "source": [
    "import arff\n",
    "import statistics\n",
    "import numpy as np\n",
    "from sklearn.gaussian_process import GaussianProcessRegressor\n",
    "import seaborn as sn\n",
    "import matplotlib.pyplot as plt\n",
    "from numpy.polynomial.polynomial import polyfit\n",
    "from operator import attrgetter, itemgetter\n",
    "from io import StringIO\n",
    "from sklearn.model_selection import train_test_split\n",
    "import nltk\n",
    "import pandas as pd\n",
    "from sklearn.model_selection import train_test_split\n",
    "from sklearn.model_selection import cross_val_score\n",
    "from sklearn import tree\n",
    "from sklearn.pipeline import Pipeline\n",
    "from sklearn.feature_extraction.text import TfidfVectorizer\n",
    "from sklearn.metrics import make_scorer, confusion_matrix,classification_report,precision_recall_fscore_support as score, average_precision_score\n",
    "from sklearn import metrics\n",
    "from sklearn.model_selection import cross_validate\n",
    "\n",
    "from scipy.interpolate import UnivariateSpline, interp1d\n",
    "\n",
    "import pickle\n",
    "\n",
    "## training model\n",
    "from sklearn.neural_network import MLPClassifier\n",
    "from sklearn.svm import SVC\n",
    "from sklearn.ensemble import RandomForestClassifier, VotingClassifier\n",
    "from sklearn.naive_bayes import MultinomialNB\n",
    "from sklearn.linear_model import SGDClassifier\n",
    "\n",
    "import matplotlib.pyplot as plt\n",
    "from sklearn.model_selection import GridSearchCV"
   ]
  },
  {
   "cell_type": "code",
   "execution_count": 8,
   "metadata": {},
   "outputs": [],
   "source": [
    "data = arff.load(open('../text-blob-pt/OffComBR3.arff'))\n",
    "df = pd.DataFrame(data['data'])\n",
    "df.columns = ['hate', 'sentence']\n",
    "\n",
    "# transforming 'yes' into 1 and 'no' into 0\n",
    "df['hate'] = df['hate'].apply(lambda x: 1 if x == 'yes' else 0)\n",
    "\n",
    "X = df['sentence'].tolist()\n",
    "y = df['hate'].tolist()\n",
    "X_train, X_test, y_train, y_test = train_test_split(\n",
    "                                    X, y, test_size=0.33, random_state=42)\n",
    "\n",
    "pt_stop_words = nltk.corpus.stopwords.words('portuguese')\n",
    "\n",
    "classifiers = []"
   ]
  },
  {
   "cell_type": "code",
   "execution_count": 9,
   "metadata": {},
   "outputs": [],
   "source": [
    "max_df = 0.1\n",
    "results_x = []\n",
    "results_y = []"
   ]
  },
  {
   "cell_type": "code",
   "execution_count": 19,
   "metadata": {},
   "outputs": [
    {
     "name": "stdout",
     "output_type": "stream",
     "text": [
      "{'precision': 0.5147058823529411, 'recall': 0.47297297297297297, 'f1-score': 0.4929577464788732, 'support': 74}\n",
      "{'precision': 0.47368421052631576, 'recall': 0.4864864864864865, 'f1-score': 0.4799999999999999, 'support': 74}\n",
      "{'precision': 0.53125, 'recall': 0.4594594594594595, 'f1-score': 0.4927536231884059, 'support': 74}\n",
      "{'precision': 0.47435897435897434, 'recall': 0.5, 'f1-score': 0.4868421052631579, 'support': 74}\n",
      "{'precision': 0.5166666666666667, 'recall': 0.4189189189189189, 'f1-score': 0.46268656716417905, 'support': 74}\n",
      "1.0\n"
     ]
    }
   ],
   "source": [
    "# Obs: Não rode! Resultados gravados abaixo. Processo longo.\n",
    "while(max_df <= 1):\n",
    "    aux = []\n",
    "    for i in range(0,5):\n",
    "        RandomForest =  Pipeline([\n",
    "                ('tfidf',TfidfVectorizer(ngram_range=(1,4),\n",
    "                                         lowercase=True,\n",
    "                                         strip_accents='ascii',\n",
    "                                         max_df=max_df\n",
    "                                        )),\n",
    "                ('clf', RandomForestClassifier(n_estimators=100, max_depth=None, min_samples_leaf=1, min_samples_split=2, min_weight_fraction_leaf=0,)),\n",
    "                ])\n",
    "        MLP = Pipeline([\n",
    "                ('tfidf',TfidfVectorizer(ngram_range=(1, 1),                                  \n",
    "                                         lowercase=True,\n",
    "                                         strip_accents='ascii',\n",
    "                                         max_df=max_df)),\n",
    "                ('clf', MLPClassifier(activation='logistic', alpha=0, solver='lbfgs')),\n",
    "                ])\n",
    "        SVCl = Pipeline([\n",
    "                ('tfidf',TfidfVectorizer(ngram_range=(1, 1),                        \n",
    "                                         lowercase=True,\n",
    "                                         strip_accents='ascii',\n",
    "                                         max_df=max_df)),\n",
    "                ('clf', SVC(C=4, kernel='linear', probability=True, shrinking=True, tol=1)),\n",
    "                ])\n",
    "        classifiers.extend([('rdf',RandomForest), ('mlp', MLP), ('svc', SVCl)])\n",
    "\n",
    "        for classifier in classifiers:\n",
    "            classifier[1].fit(X_train, y_train)\n",
    "\n",
    "        voting = VotingClassifier(estimators=classifiers[0:3], \n",
    "                                  voting='soft',\n",
    "                                  weights=[1, 2, 1], \n",
    "                                  n_jobs=15)\n",
    "        voting.fit(X_train, y_train)\n",
    "        pred = voting.predict(X_test)\n",
    "        report = classification_report(y_test, pred, output_dict=True)\n",
    "        aux.append(report['1'])\n",
    "        print(report['1'])\n",
    "        \n",
    "    results_y.append(aux)    \n",
    "    results_x.append(max_df) \n",
    "    print(max_df)\n",
    "    max_df = round(max_df + 0.1, 2)"
   ]
  },
  {
   "cell_type": "code",
   "execution_count": 21,
   "metadata": {},
   "outputs": [
    {
     "data": {
      "text/plain": [
       "[[{'precision': 0.4675324675324675,\n",
       "   'recall': 0.4864864864864865,\n",
       "   'f1-score': 0.4768211920529801,\n",
       "   'support': 74},\n",
       "  {'precision': 0.5223880597014925,\n",
       "   'recall': 0.47297297297297297,\n",
       "   'f1-score': 0.4964539007092198,\n",
       "   'support': 74},\n",
       "  {'precision': 0.5,\n",
       "   'recall': 0.5135135135135135,\n",
       "   'f1-score': 0.5066666666666666,\n",
       "   'support': 74},\n",
       "  {'precision': 0.47368421052631576,\n",
       "   'recall': 0.4864864864864865,\n",
       "   'f1-score': 0.4799999999999999,\n",
       "   'support': 74},\n",
       "  {'precision': 0.5396825396825397,\n",
       "   'recall': 0.4594594594594595,\n",
       "   'f1-score': 0.49635036496350365,\n",
       "   'support': 74}],\n",
       " [{'precision': 0.4675324675324675,\n",
       "   'recall': 0.4864864864864865,\n",
       "   'f1-score': 0.4768211920529801,\n",
       "   'support': 74},\n",
       "  {'precision': 0.48717948717948717,\n",
       "   'recall': 0.5135135135135135,\n",
       "   'f1-score': 0.5,\n",
       "   'support': 74},\n",
       "  {'precision': 0.4457831325301205,\n",
       "   'recall': 0.5,\n",
       "   'f1-score': 0.4713375796178344,\n",
       "   'support': 74},\n",
       "  {'precision': 0.5076923076923077,\n",
       "   'recall': 0.44594594594594594,\n",
       "   'f1-score': 0.4748201438848921,\n",
       "   'support': 74},\n",
       "  {'precision': 0.4864864864864865,\n",
       "   'recall': 0.4864864864864865,\n",
       "   'f1-score': 0.4864864864864865,\n",
       "   'support': 74}],\n",
       " [{'precision': 0.5, 'recall': 0.5, 'f1-score': 0.5, 'support': 74},\n",
       "  {'precision': 0.4666666666666667,\n",
       "   'recall': 0.47297297297297297,\n",
       "   'f1-score': 0.4697986577181208,\n",
       "   'support': 74},\n",
       "  {'precision': 0.475,\n",
       "   'recall': 0.5135135135135135,\n",
       "   'f1-score': 0.4935064935064935,\n",
       "   'support': 74},\n",
       "  {'precision': 0.5147058823529411,\n",
       "   'recall': 0.47297297297297297,\n",
       "   'f1-score': 0.4929577464788732,\n",
       "   'support': 74},\n",
       "  {'precision': 0.5,\n",
       "   'recall': 0.4594594594594595,\n",
       "   'f1-score': 0.47887323943661975,\n",
       "   'support': 74}],\n",
       " [{'precision': 0.46153846153846156,\n",
       "   'recall': 0.4864864864864865,\n",
       "   'f1-score': 0.47368421052631576,\n",
       "   'support': 74},\n",
       "  {'precision': 0.47368421052631576,\n",
       "   'recall': 0.4864864864864865,\n",
       "   'f1-score': 0.4799999999999999,\n",
       "   'support': 74},\n",
       "  {'precision': 0.5074626865671642,\n",
       "   'recall': 0.4594594594594595,\n",
       "   'f1-score': 0.48226950354609927,\n",
       "   'support': 74},\n",
       "  {'precision': 0.5333333333333333,\n",
       "   'recall': 0.43243243243243246,\n",
       "   'f1-score': 0.47761194029850745,\n",
       "   'support': 74},\n",
       "  {'precision': 0.45569620253164556,\n",
       "   'recall': 0.4864864864864865,\n",
       "   'f1-score': 0.47058823529411764,\n",
       "   'support': 74}],\n",
       " [{'precision': 0.4931506849315068,\n",
       "   'recall': 0.4864864864864865,\n",
       "   'f1-score': 0.489795918367347,\n",
       "   'support': 74},\n",
       "  {'precision': 0.5,\n",
       "   'recall': 0.4864864864864865,\n",
       "   'f1-score': 0.4931506849315069,\n",
       "   'support': 74},\n",
       "  {'precision': 0.49295774647887325,\n",
       "   'recall': 0.47297297297297297,\n",
       "   'f1-score': 0.48275862068965514,\n",
       "   'support': 74},\n",
       "  {'precision': 0.5362318840579711,\n",
       "   'recall': 0.5,\n",
       "   'f1-score': 0.5174825174825175,\n",
       "   'support': 74},\n",
       "  {'precision': 0.5,\n",
       "   'recall': 0.4864864864864865,\n",
       "   'f1-score': 0.4931506849315069,\n",
       "   'support': 74}],\n",
       " [{'precision': 0.4857142857142857,\n",
       "   'recall': 0.4594594594594595,\n",
       "   'f1-score': 0.47222222222222227,\n",
       "   'support': 74},\n",
       "  {'precision': 0.5, 'recall': 0.5, 'f1-score': 0.5, 'support': 74},\n",
       "  {'precision': 0.5142857142857142,\n",
       "   'recall': 0.4864864864864865,\n",
       "   'f1-score': 0.5,\n",
       "   'support': 74},\n",
       "  {'precision': 0.5,\n",
       "   'recall': 0.4864864864864865,\n",
       "   'f1-score': 0.4931506849315069,\n",
       "   'support': 74},\n",
       "  {'precision': 0.5373134328358209,\n",
       "   'recall': 0.4864864864864865,\n",
       "   'f1-score': 0.5106382978723404,\n",
       "   'support': 74}],\n",
       " [{'precision': 0.48,\n",
       "   'recall': 0.4864864864864865,\n",
       "   'f1-score': 0.48322147651006714,\n",
       "   'support': 74},\n",
       "  {'precision': 0.5142857142857142,\n",
       "   'recall': 0.4864864864864865,\n",
       "   'f1-score': 0.5,\n",
       "   'support': 74},\n",
       "  {'precision': 0.4714285714285714,\n",
       "   'recall': 0.44594594594594594,\n",
       "   'f1-score': 0.45833333333333337,\n",
       "   'support': 74},\n",
       "  {'precision': 0.5161290322580645,\n",
       "   'recall': 0.43243243243243246,\n",
       "   'f1-score': 0.47058823529411764,\n",
       "   'support': 74},\n",
       "  {'precision': 0.5074626865671642,\n",
       "   'recall': 0.4594594594594595,\n",
       "   'f1-score': 0.48226950354609927,\n",
       "   'support': 74}],\n",
       " [{'precision': 0.47435897435897434,\n",
       "   'recall': 0.5,\n",
       "   'f1-score': 0.4868421052631579,\n",
       "   'support': 74},\n",
       "  {'precision': 0.47368421052631576,\n",
       "   'recall': 0.4864864864864865,\n",
       "   'f1-score': 0.4799999999999999,\n",
       "   'support': 74},\n",
       "  {'precision': 0.47435897435897434,\n",
       "   'recall': 0.5,\n",
       "   'f1-score': 0.4868421052631579,\n",
       "   'support': 74},\n",
       "  {'precision': 0.5283018867924528,\n",
       "   'recall': 0.3783783783783784,\n",
       "   'f1-score': 0.4409448818897638,\n",
       "   'support': 74},\n",
       "  {'precision': 0.49333333333333335,\n",
       "   'recall': 0.5,\n",
       "   'f1-score': 0.4966442953020134,\n",
       "   'support': 74}],\n",
       " [{'precision': 0.5294117647058824,\n",
       "   'recall': 0.4864864864864865,\n",
       "   'f1-score': 0.5070422535211269,\n",
       "   'support': 74},\n",
       "  {'precision': 0.5142857142857142,\n",
       "   'recall': 0.4864864864864865,\n",
       "   'f1-score': 0.5,\n",
       "   'support': 74},\n",
       "  {'precision': 0.4931506849315068,\n",
       "   'recall': 0.4864864864864865,\n",
       "   'f1-score': 0.489795918367347,\n",
       "   'support': 74},\n",
       "  {'precision': 0.5245901639344263,\n",
       "   'recall': 0.43243243243243246,\n",
       "   'f1-score': 0.4740740740740741,\n",
       "   'support': 74},\n",
       "  {'precision': 0.5238095238095238,\n",
       "   'recall': 0.44594594594594594,\n",
       "   'f1-score': 0.48175182481751827,\n",
       "   'support': 74}],\n",
       " [{'precision': 0.5147058823529411,\n",
       "   'recall': 0.47297297297297297,\n",
       "   'f1-score': 0.4929577464788732,\n",
       "   'support': 74},\n",
       "  {'precision': 0.47368421052631576,\n",
       "   'recall': 0.4864864864864865,\n",
       "   'f1-score': 0.4799999999999999,\n",
       "   'support': 74},\n",
       "  {'precision': 0.53125,\n",
       "   'recall': 0.4594594594594595,\n",
       "   'f1-score': 0.4927536231884059,\n",
       "   'support': 74},\n",
       "  {'precision': 0.47435897435897434,\n",
       "   'recall': 0.5,\n",
       "   'f1-score': 0.4868421052631579,\n",
       "   'support': 74},\n",
       "  {'precision': 0.5166666666666667,\n",
       "   'recall': 0.4189189189189189,\n",
       "   'f1-score': 0.46268656716417905,\n",
       "   'support': 74}]]"
      ]
     },
     "execution_count": 21,
     "metadata": {},
     "output_type": "execute_result"
    }
   ],
   "source": [
    "results_y"
   ]
  },
  {
   "cell_type": "code",
   "execution_count": 22,
   "metadata": {},
   "outputs": [],
   "source": [
    "# pickle_data = {'x': results_x, 'y': results_y}\n",
    "# with open('max_df_results.sav', \"wb\") as f:\n",
    "#    pickle.dump(pickle_data, f)"
   ]
  },
  {
   "cell_type": "code",
   "execution_count": 23,
   "metadata": {},
   "outputs": [],
   "source": [
    "file_read = open('max_df_results.sav', 'rb')\n",
    "a = pickle.load(file_read)\n",
    "\n",
    "results_x = a['x']\n",
    "results_y = a['y']"
   ]
  },
  {
   "cell_type": "code",
   "execution_count": 35,
   "metadata": {},
   "outputs": [],
   "source": [
    "faverage_precision = []\n",
    "faverage_recall = []\n",
    "for i in results_y:\n",
    "    average_precision = 0\n",
    "    average_recall = 0\n",
    "    for j in i:\n",
    "        average_precision += j['precision']\n",
    "        average_recall += j['recall']\n",
    "    faverage_precision.append(average_precision/5)\n",
    "    faverage_recall.append(average_recall/5)    "
   ]
  },
  {
   "cell_type": "code",
   "execution_count": 57,
   "metadata": {},
   "outputs": [
    {
     "name": "stdout",
     "output_type": "stream",
     "text": [
      "---------\n",
      "---------\n",
      "---------\n",
      "---------\n",
      "---------\n",
      "---------\n",
      "---------\n",
      "---------\n",
      "---------\n",
      "---------\n"
     ]
    }
   ],
   "source": [
    "precision_stdev = []\n",
    "recall_stdev = []\n",
    "for i in results_y:\n",
    "    precision_list = []\n",
    "    recall_list = []\n",
    "    for j in i:\n",
    "        precision_list.append(j['precision'])\n",
    "        recall_list.append(j['recall'])\n",
    "    precision_stdev.append(statistics.stdev(precision_list))    \n",
    "    recall_stdev.append(statistics.stdev(recall_list))"
   ]
  },
  {
   "cell_type": "code",
   "execution_count": 116,
   "metadata": {},
   "outputs": [
    {
     "data": {
      "text/plain": [
       "[Text(0, 0.5, 'Precision'),\n",
       " Text(0.5, 0, 'max_df'),\n",
       " Text(0.5, 1.0, 'max_df por precisão')]"
      ]
     },
     "execution_count": 116,
     "metadata": {},
     "output_type": "execute_result"
    },
    {
     "data": {
      "image/png": "[encoded data removed]",
      "text/plain": [
       "<Figure size 432x288 with 1 Axes>"
      ]
     },
     "metadata": {
      "needs_background": "light"
     },
     "output_type": "display_data"
    }
   ],
   "source": [
    "fig, ax = plt.subplots()\n",
    "ax.plot(results_x, faverage_precision)\n",
    "ax.errorbar(results_x, faverage_precision, yerr=precision_stdev, fmt='o', color='black',\n",
    "             ecolor='lightgray', elinewidth=3, capsize=0);\n",
    "\n",
    "ax.set(xlabel='max_df', ylabel='Precision',\n",
    "       title='max_df por precisão')\n",
    "\n"
   ]
  },
  {
   "cell_type": "code",
   "execution_count": 117,
   "metadata": {},
   "outputs": [
    {
     "data": {
      "text/plain": [
       "[Text(0, 0.5, 'Recall'),\n",
       " Text(0.5, 0, 'max_df'),\n",
       " Text(0.5, 1.0, 'max_df por recall')]"
      ]
     },
     "execution_count": 117,
     "metadata": {},
     "output_type": "execute_result"
    },
    {
     "data": {
      "image/png": "[encoded data removed]",
      "text/plain": [
       "<Figure size 432x288 with 1 Axes>"
      ]
     },
     "metadata": {
      "needs_background": "light"
     },
     "output_type": "display_data"
    }
   ],
   "source": [
    "fig, ax = plt.subplots()\n",
    "\n",
    "ax.plot(results_x, faverage_recall)\n",
    "ax.errorbar(results_x, faverage_recall, yerr=recall_stdev, fmt='o', color='black',\n",
    "             ecolor='lightgray', elinewidth=3, capsize=0);\n",
    "\n",
    "ax.set(xlabel='max_df', ylabel='Recall',\n",
    "       title='max_df por recall')"
   ]
  },
  {
   "cell_type": "code",
   "execution_count": null,
   "metadata": {},
   "outputs": [],
   "source": []
  }
 ],
 "metadata": {
  "kernelspec": {
   "display_name": "Python 3",
   "language": "python",
   "name": "python3"
  },
  "language_info": {
   "codemirror_mode": {
    "name": "ipython",
    "version": 3
   },
   "file_extension": ".py",
   "mimetype": "text/x-python",
   "name": "python",
   "nbconvert_exporter": "python",
   "pygments_lexer": "ipython3",
   "version": "3.7.3"
  }
 },
 "nbformat": 4,
 "nbformat_minor": 2
}
