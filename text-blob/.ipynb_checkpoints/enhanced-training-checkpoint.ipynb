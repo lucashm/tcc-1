{
 "cells": [
  {
   "cell_type": "code",
   "execution_count": 14,
   "metadata": {},
   "outputs": [],
   "source": [
    "import pandas as pd\n",
    "import random\n",
    "from stop_words import get_stop_words\n",
    "import nltk\n",
    "import unicodedata\n",
    "import re\n",
    "from textblob.classifiers import NaiveBayesClassifier"
   ]
  },
  {
   "cell_type": "code",
   "execution_count": 2,
   "metadata": {},
   "outputs": [],
   "source": [
    "positive = pd.read_csv('./pos_tweets.csv')\n",
    "negative = pd.read_csv('./neg_tweets.csv')\n",
    "positive.columns = ['sentence']\n",
    "negative.columns = ['sentence']"
   ]
  },
  {
   "cell_type": "code",
   "execution_count": 3,
   "metadata": {},
   "outputs": [
    {
     "data": {
      "text/html": [
       "<div>\n",
       "<style scoped>\n",
       "    .dataframe tbody tr th:only-of-type {\n",
       "        vertical-align: middle;\n",
       "    }\n",
       "\n",
       "    .dataframe tbody tr th {\n",
       "        vertical-align: top;\n",
       "    }\n",
       "\n",
       "    .dataframe thead th {\n",
       "        text-align: right;\n",
       "    }\n",
       "</style>\n",
       "<table border=\"1\" class=\"dataframe\">\n",
       "  <thead>\n",
       "    <tr style=\"text-align: right;\">\n",
       "      <th></th>\n",
       "      <th>sentence</th>\n",
       "    </tr>\n",
       "  </thead>\n",
       "  <tbody>\n",
       "    <tr>\n",
       "      <th>0</th>\n",
       "      <td>Acordei só pra postar esse textão, que começou...</td>\n",
       "    </tr>\n",
       "    <tr>\n",
       "      <th>1</th>\n",
       "      <td>Boa noite para vocês — feeling good</td>\n",
       "    </tr>\n",
       "    <tr>\n",
       "      <th>2</th>\n",
       "      <td>Quando a may nao coloca comida pra mim e a gab...</td>\n",
       "    </tr>\n",
       "    <tr>\n",
       "      <th>3</th>\n",
       "      <td>Parti me todo a descer a avenida de Gaia com o...</td>\n",
       "    </tr>\n",
       "    <tr>\n",
       "      <th>4</th>\n",
       "      <td>To tri feliz! Me dei uma cafeteira de presente</td>\n",
       "    </tr>\n",
       "  </tbody>\n",
       "</table>\n",
       "</div>"
      ],
      "text/plain": [
       "                                            sentence\n",
       "0  Acordei só pra postar esse textão, que começou...\n",
       "1                Boa noite para vocês — feeling good\n",
       "2  Quando a may nao coloca comida pra mim e a gab...\n",
       "3  Parti me todo a descer a avenida de Gaia com o...\n",
       "4     To tri feliz! Me dei uma cafeteira de presente"
      ]
     },
     "execution_count": 3,
     "metadata": {},
     "output_type": "execute_result"
    }
   ],
   "source": [
    "positive.head()"
   ]
  },
  {
   "cell_type": "code",
   "execution_count": 4,
   "metadata": {},
   "outputs": [],
   "source": [
    "def remove_accent_from_words(word):\n",
    "    nfkd = unicodedata.normalize('NFKD', word)\n",
    "    withouth_accent = u\"\".join([c for c in nfkd if not unicodedata.combining(c)])\n",
    "    return re.sub('[^a-zA-Z0-9 \\\\\\]', '', withouth_accent)"
   ]
  },
  {
   "cell_type": "code",
   "execution_count": 5,
   "metadata": {},
   "outputs": [],
   "source": [
    "def normalize(df):\n",
    "    stemmer = nltk.stem.RSLPStemmer()\n",
    "    stop_words = get_stop_words('pt')\n",
    "    for index, row in df.iterrows():\n",
    "        split = str(row['sentence']).split()\n",
    "        split = [word.lower() for word in split]\n",
    "        split = [stemmer.stem(word) for word in split]\n",
    "        for word in stop_words:\n",
    "            if word in split:\n",
    "                split.remove(word)             \n",
    "        split = [remove_accent_from_words(word) for word in split]\n",
    "        row['sentence'] = ' '.join(split)"
   ]
  },
  {
   "cell_type": "code",
   "execution_count": 6,
   "metadata": {},
   "outputs": [],
   "source": [
    "normalize(positive)\n",
    "normalize(negative)"
   ]
  },
  {
   "cell_type": "code",
   "execution_count": 7,
   "metadata": {},
   "outputs": [],
   "source": [
    "positive['feeling'] = 'pos'\n",
    "negative['feeling'] = 'neg'\n",
    "positive = positive.dropna()\n",
    "negative = negative.dropna()"
   ]
  },
  {
   "cell_type": "code",
   "execution_count": 8,
   "metadata": {},
   "outputs": [],
   "source": [
    "pos_train = [tuple(x) for x in positive.to_records(index=False)]\n",
    "neg_train = [tuple(x) for x in negative.to_records(index=False)]"
   ]
  },
  {
   "cell_type": "code",
   "execution_count": 24,
   "metadata": {},
   "outputs": [],
   "source": [
    "train = []\n",
    "for i in range(0, 1100):\n",
    "    train.append(random.choice(pos_train))\n",
    "    train.append(random.choice(neg_train))\n",
    "    \n",
    "test = []\n",
    "for i in range(0, 500):\n",
    "    test.append(random.choice(pos_train))\n",
    "    test.append(random.choice(neg_train))"
   ]
  },
  {
   "cell_type": "code",
   "execution_count": 22,
   "metadata": {},
   "outputs": [],
   "source": [
    "cl = NaiveBayesClassifier(train)"
   ]
  },
  {
   "cell_type": "code",
   "execution_count": 23,
   "metadata": {},
   "outputs": [
    {
     "data": {
      "text/plain": [
       "0.70625"
      ]
     },
     "execution_count": 23,
     "metadata": {},
     "output_type": "execute_result"
    }
   ],
   "source": [
    "cl.accuracy(test)"
   ]
  },
  {
   "cell_type": "code",
   "execution_count": null,
   "metadata": {},
   "outputs": [],
   "source": []
  }
 ],
 "metadata": {
  "kernelspec": {
   "display_name": "Python 3",
   "language": "python",
   "name": "python3"
  },
  "language_info": {
   "codemirror_mode": {
    "name": "ipython",
    "version": 3
   },
   "file_extension": ".py",
   "mimetype": "text/x-python",
   "name": "python",
   "nbconvert_exporter": "python",
   "pygments_lexer": "ipython3",
   "version": "3.6.5"
  }
 },
 "nbformat": 4,
 "nbformat_minor": 2
}
