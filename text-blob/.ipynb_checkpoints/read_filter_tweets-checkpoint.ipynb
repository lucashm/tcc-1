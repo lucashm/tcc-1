{
 "cells": [
  {
   "cell_type": "markdown",
   "metadata": {},
   "source": [
    "# Imports"
   ]
  },
  {
   "cell_type": "code",
   "execution_count": 172,
   "metadata": {},
   "outputs": [],
   "source": [
    "import pandas as pd\n",
    "from tweepy.streaming import StreamListener\n",
    "from tweepy import OAuthHandler\n",
    "from tweepy import Stream\n",
    "from tweepy import API\n",
    "import json\n",
    "import re\n",
    "import csv"
   ]
  },
  {
   "cell_type": "markdown",
   "metadata": {},
   "source": [
    "## Read pos and neg lines\n",
    "- There are around ~30k tweets for positive and negative commentaries\n",
    "- Twitter api only supports 100 tweets per request\n",
    "- Here, we separe all tweets in groups of 100"
   ]
  },
  {
   "cell_type": "code",
   "execution_count": 99,
   "metadata": {},
   "outputs": [],
   "source": [
    "pos_lines_without_n = []\n",
    "with open('./positivos.txt') as f:\n",
    "    lines = f.readlines()\n",
    "\n",
    "for line in lines:\n",
    "    pos_lines_without_n.append(line.strip('\\n'))\n",
    "\n",
    "counter = 0;\n",
    "pos_lines = []\n",
    "aux = []\n",
    "for line in pos_lines_without_n:\n",
    "    if(counter < 100):\n",
    "        aux.append(line)\n",
    "        counter += 1\n",
    "    else:\n",
    "        pos_lines.append(aux)\n",
    "        aux = []\n",
    "        counter = 0"
   ]
  },
  {
   "cell_type": "code",
   "execution_count": 101,
   "metadata": {},
   "outputs": [],
   "source": [
    "neg_lines_without_n = []\n",
    "with open('./negativos.txt') as f:\n",
    "    lines = f.readlines()\n",
    "\n",
    "for line in lines:\n",
    "    neg_lines_without_n.append(line.strip('\\n'))\n",
    "\n",
    "counter = 0;\n",
    "neg_lines = []\n",
    "aux = []\n",
    "for line in neg_lines_without_n:\n",
    "    if(counter < 100):\n",
    "        aux.append(line)\n",
    "        counter += 1\n",
    "    else:\n",
    "        neg_lines.append(aux)\n",
    "        aux = []\n",
    "        counter = 0"
   ]
  },
  {
   "cell_type": "markdown",
   "metadata": {},
   "source": [
    "## Load twitter credentials"
   ]
  },
  {
   "cell_type": "code",
   "execution_count": 103,
   "metadata": {},
   "outputs": [],
   "source": [
    "with open('../twitter-api/twitter_credentials.json', 'r') as file:\n",
    "    creds = json.load(file)\n",
    "\n",
    "auth = OAuthHandler(creds['CONSUMER_KEY'], creds['CONSUMER_SECRET'])\n",
    "auth.set_access_token(creds['ACCESS_TOKEN'], creds['ACCESS_KEY'])\n",
    "api = API(auth)"
   ]
  },
  {
   "cell_type": "markdown",
   "metadata": {},
   "source": [
    "## Fetch positive and negative tweets"
   ]
  },
  {
   "cell_type": "code",
   "execution_count": 155,
   "metadata": {},
   "outputs": [],
   "source": [
    "tweets = []\n",
    "for tweet_list in pos_lines:\n",
    "    aux = api.statuses_lookup(tweet_list)\n",
    "    for single_tweet in aux:\n",
    "        tweets.append(single_tweet)\n",
    "pos_tweets = tweets"
   ]
  },
  {
   "cell_type": "code",
   "execution_count": 128,
   "metadata": {},
   "outputs": [],
   "source": [
    "tweets = []\n",
    "for tweet_list in neg_lines:\n",
    "    aux = api.statuses_lookup(tweet_list)\n",
    "    for single_tweet in aux:\n",
    "        tweets.append(single_tweet)\n",
    "#     tweets = (api.statuses_lookup(pos_lines[0]))\n",
    "neg_tweets = tweets"
   ]
  },
  {
   "cell_type": "code",
   "execution_count": 158,
   "metadata": {},
   "outputs": [
    {
     "name": "stdout",
     "output_type": "stream",
     "text": [
      "27098\n",
      "28929\n"
     ]
    }
   ],
   "source": [
    "print(len(neg_tweets))\n",
    "print(len(pos_tweets))"
   ]
  },
  {
   "cell_type": "markdown",
   "metadata": {},
   "source": [
    "## Filter tweets"
   ]
  },
  {
   "cell_type": "code",
   "execution_count": 191,
   "metadata": {},
   "outputs": [],
   "source": [
    "filtred_pos_tweets = []\n",
    "for idx, tweet in enumerate(pos_tweets):\n",
    "        aux = re.sub(r'http\\S+', '', tweet.text)\n",
    "        aux = aux.replace(':)', '')\n",
    "        aux = aux.replace(':-)', '')\n",
    "        aux = re.sub(r'@\\S+', '', aux)\n",
    "        aux = re.sub(r'#\\S+', '', aux)\n",
    "        aux = ' '.join(aux.split())\n",
    "        filtred_pos_tweets.append(aux)"
   ]
  },
  {
   "cell_type": "code",
   "execution_count": 192,
   "metadata": {},
   "outputs": [],
   "source": [
    "filtred_neg_tweets = []\n",
    "for idx, tweet in enumerate(neg_tweets):\n",
    "        aux = re.sub(r'http\\S+', '', tweet.text)\n",
    "        aux = aux.replace(':(', '')\n",
    "        aux = aux.replace(':-(', '')\n",
    "        aux = re.sub(r'@\\S+', '', aux)\n",
    "        aux = re.sub(r'#\\S+', '', aux)\n",
    "        aux = ' '.join(aux.split())\n",
    "        filtred_neg_tweets.append(aux)"
   ]
  },
  {
   "cell_type": "markdown",
   "metadata": {},
   "source": [
    "## Opens csv files and load writes"
   ]
  },
  {
   "cell_type": "code",
   "execution_count": 188,
   "metadata": {},
   "outputs": [],
   "source": [
    "csv_file = open('pos_tweets.csv', 'a')\n",
    "csv_neg_file = open('neg_tweets.csv', 'a')\n",
    "csv_writer = csv.writer(csv_file)\n",
    "csv_neg_writer = csv.writer(csv_neg_file)"
   ]
  },
  {
   "cell_type": "code",
   "execution_count": 174,
   "metadata": {},
   "outputs": [],
   "source": [
    "for tweet in filtred_pos_tweets:\n",
    "    csv_writer.writerow([tweet])"
   ]
  },
  {
   "cell_type": "code",
   "execution_count": 189,
   "metadata": {},
   "outputs": [],
   "source": [
    "for tweet in filtred_neg_tweets:\n",
    "    csv_neg_writer.writerow([tweet])"
   ]
  },
  {
   "cell_type": "code",
   "execution_count": null,
   "metadata": {},
   "outputs": [],
   "source": []
  }
 ],
 "metadata": {
  "kernelspec": {
   "display_name": "Python 3",
   "language": "python",
   "name": "python3"
  },
  "language_info": {
   "codemirror_mode": {
    "name": "ipython",
    "version": 3
   },
   "file_extension": ".py",
   "mimetype": "text/x-python",
   "name": "python",
   "nbconvert_exporter": "python",
   "pygments_lexer": "ipython3",
   "version": "3.6.5"
  }
 },
 "nbformat": 4,
 "nbformat_minor": 2
}
