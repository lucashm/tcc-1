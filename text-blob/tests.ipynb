{
 "cells": [
  {
   "cell_type": "code",
   "execution_count": 57,
   "metadata": {},
   "outputs": [],
   "source": [
    "from textblob import TextBlob # Imports\n",
    "from textblob.wordnet import VERB, Synset"
   ]
  },
  {
   "cell_type": "code",
   "execution_count": 46,
   "metadata": {},
   "outputs": [],
   "source": [
    "text = TextBlob(\"Hi! I'm Lucas and im trying to write a cool message here... I really like you guys!\") # Declarations"
   ]
  },
  {
   "cell_type": "code",
   "execution_count": 47,
   "metadata": {},
   "outputs": [
    {
     "data": {
      "text/plain": [
       "[('Hi', 'NN'),\n",
       " ('I', 'PRP'),\n",
       " (\"'m\", 'VBP'),\n",
       " ('Lucas', 'JJ'),\n",
       " ('and', 'CC'),\n",
       " ('im', 'JJ'),\n",
       " ('trying', 'VBG'),\n",
       " ('to', 'TO'),\n",
       " ('write', 'VB'),\n",
       " ('a', 'DT'),\n",
       " ('cool', 'JJ'),\n",
       " ('message', 'NN'),\n",
       " ('here', 'RB'),\n",
       " ('I', 'PRP'),\n",
       " ('really', 'RB'),\n",
       " ('like', 'IN'),\n",
       " ('you', 'PRP'),\n",
       " ('guys', 'VBP')]"
      ]
     },
     "execution_count": 47,
     "metadata": {},
     "output_type": "execute_result"
    }
   ],
   "source": [
    "text.tags #Tags"
   ]
  },
  {
   "cell_type": "code",
   "execution_count": 48,
   "metadata": {},
   "outputs": [
    {
     "data": {
      "text/plain": [
       "TextBlob(\"Oi! Eu sou Lucas e estou tentando escrever uma mensagem legal aqui ... Eu realmente gosto de vocês!\")"
      ]
     },
     "execution_count": 48,
     "metadata": {},
     "output_type": "execute_result"
    }
   ],
   "source": [
    "text.translate(to='pt') # Translations"
   ]
  },
  {
   "cell_type": "code",
   "execution_count": 49,
   "metadata": {},
   "outputs": [
    {
     "data": {
      "text/plain": [
       "WordList(['hi', 'lucas', 'cool message'])"
      ]
     },
     "execution_count": 49,
     "metadata": {},
     "output_type": "execute_result"
    }
   ],
   "source": [
    "text.noun_phrases"
   ]
  },
  {
   "cell_type": "code",
   "execution_count": 50,
   "metadata": {},
   "outputs": [
    {
     "data": {
      "text/plain": [
       "Sentiment(polarity=0.3, subjectivity=0.42500000000000004)"
      ]
     },
     "execution_count": 50,
     "metadata": {},
     "output_type": "execute_result"
    }
   ],
   "source": [
    "text.sentiment # Polarity -> -1 to 1 // Subjectivity -> 0 (objective) to 1 (subjective)"
   ]
  },
  {
   "cell_type": "code",
   "execution_count": 51,
   "metadata": {},
   "outputs": [
    {
     "data": {
      "text/plain": [
       "WordList(['Hi', 'I', \"'m\", 'Lucas', 'and', 'im', 'trying', 'to', 'write', 'a', 'cool', 'message', 'here', 'I', 'really', 'like', 'you', 'guys'])"
      ]
     },
     "execution_count": 51,
     "metadata": {},
     "output_type": "execute_result"
    }
   ],
   "source": [
    "text.words # Words"
   ]
  },
  {
   "cell_type": "code",
   "execution_count": 52,
   "metadata": {},
   "outputs": [
    {
     "data": {
      "text/plain": [
       "[Sentence(\"Hi!\"),\n",
       " Sentence(\"I'm Lucas and im trying to write a cool message here...\"),\n",
       " Sentence(\"I really like you guys!\")]"
      ]
     },
     "execution_count": 52,
     "metadata": {},
     "output_type": "execute_result"
    }
   ],
   "source": [
    "text.sentences # Sentences"
   ]
  },
  {
   "cell_type": "code",
   "execution_count": 53,
   "metadata": {},
   "outputs": [
    {
     "name": "stdout",
     "output_type": "stream",
     "text": [
      "Sentiment(polarity=0.0, subjectivity=0.0)\n",
      "Sentiment(polarity=0.35, subjectivity=0.65)\n",
      "Sentiment(polarity=0.25, subjectivity=0.2)\n"
     ]
    }
   ],
   "source": [
    "for sentence in text.sentences: # Sentence sentiment!\n",
    "    print(sentence.sentiment)"
   ]
  },
  {
   "cell_type": "code",
   "execution_count": null,
   "metadata": {},
   "outputs": [],
   "source": []
  },
  {
   "cell_type": "code",
   "execution_count": 54,
   "metadata": {},
   "outputs": [
    {
     "data": {
      "text/plain": [
       "[Synset('message.n.01'),\n",
       " Synset('message.n.02'),\n",
       " Synset('message.v.01'),\n",
       " Synset('message.v.02'),\n",
       " Synset('message.v.03')]"
      ]
     },
     "execution_count": 54,
     "metadata": {},
     "output_type": "execute_result"
    }
   ],
   "source": [
    "word = text.words[11]  # Message Synsets\n",
    "word.synsets"
   ]
  },
  {
   "cell_type": "code",
   "execution_count": 73,
   "metadata": {},
   "outputs": [
    {
     "data": {
      "text/plain": [
       "[Synset('message.v.01'), Synset('message.v.02'), Synset('message.v.03')]"
      ]
     },
     "execution_count": 73,
     "metadata": {},
     "output_type": "execute_result"
    }
   ],
   "source": [
    "word.get_synsets(pos=VERB) # Message verb Synsets"
   ]
  },
  {
   "cell_type": "code",
   "execution_count": 56,
   "metadata": {},
   "outputs": [
    {
     "data": {
      "text/plain": [
       "['a communication (usually brief) that is written or spoken or signaled',\n",
       " 'what a communication that is about something is about',\n",
       " 'send a message to',\n",
       " 'send as a message',\n",
       " 'send a message']"
      ]
     },
     "execution_count": 56,
     "metadata": {},
     "output_type": "execute_result"
    }
   ],
   "source": [
    "word.definitions"
   ]
  },
  {
   "cell_type": "code",
   "execution_count": 85,
   "metadata": {},
   "outputs": [
    {
     "data": {
      "text/plain": [
       "[Synset('cool.n.01'),\n",
       " Synset('aplomb.n.01'),\n",
       " Synset('cool.v.01'),\n",
       " Synset('cool.v.02'),\n",
       " Synset('cool.v.03'),\n",
       " Synset('cool.a.01'),\n",
       " Synset('cool.s.02'),\n",
       " Synset('cool.a.03'),\n",
       " Synset('cool.a.04'),\n",
       " Synset('cool.s.05'),\n",
       " Synset('cool.s.06')]"
      ]
     },
     "execution_count": 85,
     "metadata": {},
     "output_type": "execute_result"
    }
   ],
   "source": [
    "another_word = text.words[10] # Cool\n",
    "another_word.synsets"
   ]
  },
  {
   "cell_type": "code",
   "execution_count": 83,
   "metadata": {},
   "outputs": [
    {
     "data": {
      "text/plain": [
       "['the quality of being at a refreshingly low temperature',\n",
       " 'great coolness and composure under strain',\n",
       " 'make cool or cooler',\n",
       " 'loose heat',\n",
       " 'lose intensity',\n",
       " 'neither warm nor very cold; giving relief from heat',\n",
       " 'marked by calm self-control (especially in trying circumstances); unemotional',\n",
       " '(color) inducing the impression of coolness; used especially of greens and blues and violets',\n",
       " 'psychologically cool and unenthusiastic; unfriendly or unresponsive or showing dislike',\n",
       " '(used of a number or sum) without exaggeration or qualification',\n",
       " 'fashionable and attractive at the time; often skilled or socially adept']"
      ]
     },
     "execution_count": 83,
     "metadata": {},
     "output_type": "execute_result"
    }
   ],
   "source": [
    "another_word.definitions"
   ]
  },
  {
   "cell_type": "code",
   "execution_count": 76,
   "metadata": {},
   "outputs": [],
   "source": [
    "another_word_synset = another_word.get_synsets(pos=VERB)[0]"
   ]
  },
  {
   "cell_type": "code",
   "execution_count": 70,
   "metadata": {},
   "outputs": [],
   "source": [
    "word_synset = word.get_synsets(pos=VERB)[0]"
   ]
  },
  {
   "cell_type": "raw",
   "metadata": {},
   "source": []
  },
  {
   "cell_type": "code",
   "execution_count": 72,
   "metadata": {},
   "outputs": [
    {
     "data": {
      "text/plain": [
       "0.125"
      ]
     },
     "execution_count": 72,
     "metadata": {},
     "output_type": "execute_result"
    }
   ],
   "source": [
    "word_synset.path_similarity(another_word_synset)"
   ]
  },
  {
   "cell_type": "code",
   "execution_count": null,
   "metadata": {},
   "outputs": [],
   "source": []
  }
 ],
 "metadata": {
  "kernelspec": {
   "display_name": "Python 3",
   "language": "python",
   "name": "python3"
  },
  "language_info": {
   "codemirror_mode": {
    "name": "ipython",
    "version": 3
   },
   "file_extension": ".py",
   "mimetype": "text/x-python",
   "name": "python",
   "nbconvert_exporter": "python",
   "pygments_lexer": "ipython3",
   "version": "3.6.5"
  }
 },
 "nbformat": 4,
 "nbformat_minor": 2
}
