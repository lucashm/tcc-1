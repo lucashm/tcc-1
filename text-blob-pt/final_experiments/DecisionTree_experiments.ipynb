{
 "cells": [
  {
   "cell_type": "code",
   "execution_count": 1,
   "metadata": {},
   "outputs": [],
   "source": [
    "import arff\n",
    "import numpy as np\n",
    "import seaborn as sn\n",
    "import matplotlib.pyplot as plt\n",
    "from operator import attrgetter, itemgetter\n",
    "from io import StringIO\n",
    "from sklearn.model_selection import train_test_split\n",
    "import nltk\n",
    "import pandas as pd\n",
    "from sklearn.model_selection import train_test_split\n",
    "from sklearn.model_selection import cross_val_score\n",
    "from sklearn import tree\n",
    "from sklearn.pipeline import Pipeline\n",
    "from sklearn.feature_extraction.text import TfidfVectorizer\n",
    "from sklearn.metrics import make_scorer, confusion_matrix,classification_report,precision_recall_fscore_support as score, average_precision_score\n",
    "from sklearn import metrics\n",
    "from sklearn.model_selection import cross_validate\n",
    "\n",
    "## training model\n",
    "from sklearn.tree import DecisionTreeClassifier\n",
    "\n",
    "import matplotlib.pyplot as plt\n",
    "from sklearn.model_selection import GridSearchCV"
   ]
  },
  {
   "cell_type": "code",
   "execution_count": 13,
   "metadata": {},
   "outputs": [],
   "source": [
    "def get_recal_1(y_true, y_pred):\n",
    "    precision, recall, fscore, support = score(y_true, y_pred)\n",
    "    print(classification_report(y_true, y_pred))\n",
    "    print(recall)\n",
    "    return(recall[1])"
   ]
  },
  {
   "cell_type": "code",
   "execution_count": 3,
   "metadata": {},
   "outputs": [
    {
     "name": "stderr",
     "output_type": "stream",
     "text": [
      "[nltk_data] Downloading package stopwords to /home/shivwa/nltk_data...\n",
      "[nltk_data]   Unzipping corpora/stopwords.zip.\n",
      "[nltk_data] Downloading package rslp to /home/shivwa/nltk_data...\n",
      "[nltk_data]   Package rslp is already up-to-date!\n",
      "[nltk_data] Downloading package punkt to /home/shivwa/nltk_data...\n",
      "[nltk_data]   Package punkt is already up-to-date!\n"
     ]
    }
   ],
   "source": [
    "nltk.download('stopwords')\n",
    "nltk.download('rslp')\n",
    "stopwords = nltk.corpus.stopwords.words('portuguese')\n",
    "stemmer = nltk.stem.RSLPStemmer()\n",
    "nltk.download('punkt')\n",
    "\n",
    "\n",
    "def clean_text(txt):\n",
    "    text = ''\n",
    "    for w in nltk.word_tokenize(txt):\n",
    "        if w not in stopwords:\n",
    "            text = text + stemmer.stem(w) + ' '\n",
    "    return text.strip()"
   ]
  },
  {
   "cell_type": "markdown",
   "metadata": {},
   "source": [
    "## Fase 1"
   ]
  },
  {
   "cell_type": "code",
   "execution_count": 4,
   "metadata": {},
   "outputs": [
    {
     "name": "stdout",
     "output_type": "stream",
     "text": [
      "              precision    recall  f1-score   support\n",
      "\n",
      "           0       0.85      0.86      0.85       167\n",
      "           1       0.39      0.37      0.38        41\n",
      "\n",
      "   micro avg       0.76      0.76      0.76       208\n",
      "   macro avg       0.62      0.61      0.62       208\n",
      "weighted avg       0.76      0.76      0.76       208\n",
      "\n",
      "              precision    recall  f1-score   support\n",
      "\n",
      "           0       0.87      0.78      0.82       166\n",
      "           1       0.36      0.51      0.42        41\n",
      "\n",
      "   micro avg       0.72      0.72      0.72       207\n",
      "   macro avg       0.61      0.64      0.62       207\n",
      "weighted avg       0.77      0.72      0.74       207\n",
      "\n",
      "              precision    recall  f1-score   support\n",
      "\n",
      "           0       0.85      0.79      0.82       166\n",
      "           1       0.31      0.40      0.35        40\n",
      "\n",
      "   micro avg       0.71      0.71      0.71       206\n",
      "   macro avg       0.58      0.59      0.58       206\n",
      "weighted avg       0.74      0.71      0.73       206\n",
      "\n",
      "              precision    recall  f1-score   support\n",
      "\n",
      "           0       0.84      0.81      0.83       166\n",
      "           1       0.33      0.38      0.35        40\n",
      "\n",
      "   micro avg       0.73      0.73      0.73       206\n",
      "   macro avg       0.58      0.59      0.59       206\n",
      "weighted avg       0.74      0.73      0.74       206\n",
      "\n",
      "              precision    recall  f1-score   support\n",
      "\n",
      "           0       0.82      0.60      0.69       166\n",
      "           1       0.22      0.47      0.30        40\n",
      "\n",
      "   micro avg       0.57      0.57      0.57       206\n",
      "   macro avg       0.52      0.54      0.50       206\n",
      "weighted avg       0.71      0.57      0.62       206\n",
      "\n"
     ]
    }
   ],
   "source": [
    "data = arff.load(open('../OffComBR3.arff'))\n",
    "df = pd.DataFrame(data['data'])\n",
    "df.columns = ['hate', 'sentence']\n",
    "\n",
    "# transforming 'yes' into 1 and 'no' into 0\n",
    "df['hate'] = df['hate'].apply(lambda x: 1 if x == 'yes' else 0)\n",
    "\n",
    "X = df['sentence'].tolist()\n",
    "y = df['hate'].tolist()\n",
    "\n",
    "cl =  Pipeline([\n",
    "        ('tfidf',TfidfVectorizer()),\n",
    "        ('clf', DecisionTreeClassifier()),\n",
    "        ])\n",
    "\n",
    "scores = cross_validate(cl, X, y,\n",
    "                        cv=5, return_train_score=True, scoring=make_scorer(get_recal_1))"
   ]
  },
  {
   "cell_type": "markdown",
   "metadata": {},
   "source": [
    "## Fase 2"
   ]
  },
  {
   "cell_type": "code",
   "execution_count": 5,
   "metadata": {},
   "outputs": [
    {
     "name": "stdout",
     "output_type": "stream",
     "text": [
      "              precision    recall  f1-score   support\n",
      "\n",
      "           0       0.84      0.92      0.88       167\n",
      "           1       0.48      0.29      0.36        41\n",
      "\n",
      "   micro avg       0.80      0.80      0.80       208\n",
      "   macro avg       0.66      0.61      0.62       208\n",
      "weighted avg       0.77      0.80      0.78       208\n",
      "\n",
      "              precision    recall  f1-score   support\n",
      "\n",
      "           0       0.83      0.85      0.84       166\n",
      "           1       0.34      0.32      0.33        41\n",
      "\n",
      "   micro avg       0.74      0.74      0.74       207\n",
      "   macro avg       0.59      0.58      0.59       207\n",
      "weighted avg       0.74      0.74      0.74       207\n",
      "\n",
      "              precision    recall  f1-score   support\n",
      "\n",
      "           0       0.85      0.78      0.81       166\n",
      "           1       0.31      0.42      0.36        40\n",
      "\n",
      "   micro avg       0.71      0.71      0.71       206\n",
      "   macro avg       0.58      0.60      0.59       206\n",
      "weighted avg       0.75      0.71      0.72       206\n",
      "\n",
      "              precision    recall  f1-score   support\n",
      "\n",
      "           0       0.85      0.86      0.86       166\n",
      "           1       0.39      0.38      0.38        40\n",
      "\n",
      "   micro avg       0.77      0.77      0.77       206\n",
      "   macro avg       0.62      0.62      0.62       206\n",
      "weighted avg       0.76      0.77      0.76       206\n",
      "\n",
      "              precision    recall  f1-score   support\n",
      "\n",
      "           0       0.83      0.57      0.68       166\n",
      "           1       0.22      0.50      0.31        40\n",
      "\n",
      "   micro avg       0.56      0.56      0.56       206\n",
      "   macro avg       0.52      0.54      0.49       206\n",
      "weighted avg       0.71      0.56      0.60       206\n",
      "\n"
     ]
    }
   ],
   "source": [
    "data = arff.load(open('../OffComBR3.arff'))\n",
    "df = pd.DataFrame(data['data'])\n",
    "df.columns = ['hate', 'sentence']\n",
    "\n",
    "# transforming 'yes' into 1 and 'no' into 0\n",
    "df['hate'] = df['hate'].apply(lambda x: 1 if x == 'yes' else 0)\n",
    "\n",
    "X = df['sentence'].tolist()\n",
    "y = df['hate'].tolist()\n",
    "\n",
    "## Cleaning text before\n",
    "\n",
    "for i in range(len(X)):\n",
    "    n_txt = clean_text(X[i])\n",
    "    X[i] = n_txt\n",
    "    \n",
    "cl =  Pipeline([\n",
    "        ('tfidf',TfidfVectorizer()),\n",
    "        ('clf', DecisionTreeClassifier()),\n",
    "        ])\n",
    "\n",
    "scores = cross_validate(cl, X, y,\n",
    "                        cv=5, return_train_score=False, scoring=make_scorer(get_recal_1))"
   ]
  },
  {
   "cell_type": "markdown",
   "metadata": {},
   "source": [
    "## Fase 3"
   ]
  },
  {
   "cell_type": "code",
   "execution_count": 6,
   "metadata": {},
   "outputs": [
    {
     "name": "stdout",
     "output_type": "stream",
     "text": [
      "0.5795121951219512\n",
      "{'clf__class_weight': {0: 1, 1: 4}, 'clf__criterion': 'gini', 'clf__min_samples_split': 5, 'tfidf__ngram_range': (1, 2)}\n"
     ]
    }
   ],
   "source": [
    "data = arff.load(open('../OffComBR3.arff'))\n",
    "df = pd.DataFrame(data['data'])\n",
    "df.columns = ['hate', 'sentence']\n",
    "\n",
    "# transforming 'yes' into 1 and 'no' into 0\n",
    "df['hate'] = df['hate'].apply(lambda x: 1 if x == 'yes' else 0)\n",
    "\n",
    "X = df['sentence'].tolist()\n",
    "y = df['hate'].tolist()\n",
    "\n",
    "## Cleaning text before\n",
    "\n",
    "for i in range(len(X)):\n",
    "    n_txt = clean_text(X[i])\n",
    "    X[i] = n_txt\n",
    "    \n",
    "cl =  Pipeline([\n",
    "        ('tfidf',TfidfVectorizer()),\n",
    "        ('clf', DecisionTreeClassifier()),\n",
    "        ])\n",
    "    \n",
    "parameters = {'tfidf__ngram_range': [(1,1), (1,2), (1,3), (1,4)],\n",
    "              'clf__criterion': ('gini', 'entropy'),\n",
    "              'clf__class_weight': ({0: 1, 1: 1}, {0: 1, 1: 2}, {0: 1, 1: 3}, {0: 1, 1: 4}, {0: 2, 1: 1},\n",
    "                                    {0: 2, 1: 1}, {0: 3, 1: 1}, {0: 4, 1: 1}),\n",
    "              'clf__min_samples_split': (2, 3, 4, 5, 6, 7, 8)\n",
    "             }\n",
    "\n",
    "gs_clf = GridSearchCV(cl, parameters, cv=5, iid=False, n_jobs=-1, scoring='recall')\n",
    "\n",
    "gs_clf.fit(X, y)\n",
    "print(gs_clf.best_score_)\n",
    "print(gs_clf.best_params_)"
   ]
  },
  {
   "cell_type": "code",
   "execution_count": 18,
   "metadata": {},
   "outputs": [
    {
     "name": "stdout",
     "output_type": "stream",
     "text": [
      "              precision    recall  f1-score   support\n",
      "\n",
      "           0       0.85      0.74      0.79       167\n",
      "           1       0.31      0.46      0.37        41\n",
      "\n",
      "   micro avg       0.69      0.69      0.69       208\n",
      "   macro avg       0.58      0.60      0.58       208\n",
      "weighted avg       0.74      0.69      0.71       208\n",
      "\n",
      "[0.74251497 0.46341463]\n",
      "              precision    recall  f1-score   support\n",
      "\n",
      "           0       0.89      0.66      0.76       166\n",
      "           1       0.33      0.68      0.45        41\n",
      "\n",
      "   micro avg       0.67      0.67      0.67       207\n",
      "   macro avg       0.61      0.67      0.60       207\n",
      "weighted avg       0.78      0.67      0.70       207\n",
      "\n",
      "[0.6626506  0.68292683]\n",
      "              precision    recall  f1-score   support\n",
      "\n",
      "           0       0.89      0.63      0.73       166\n",
      "           1       0.30      0.68      0.42        40\n",
      "\n",
      "   micro avg       0.64      0.64      0.64       206\n",
      "   macro avg       0.60      0.65      0.58       206\n",
      "weighted avg       0.78      0.64      0.67       206\n",
      "\n",
      "[0.62650602 0.675     ]\n",
      "              precision    recall  f1-score   support\n",
      "\n",
      "           0       0.85      0.84      0.85       166\n",
      "           1       0.37      0.38      0.37        40\n",
      "\n",
      "   micro avg       0.75      0.75      0.75       206\n",
      "   macro avg       0.61      0.61      0.61       206\n",
      "weighted avg       0.75      0.75      0.75       206\n",
      "\n",
      "[0.84337349 0.375     ]\n",
      "              precision    recall  f1-score   support\n",
      "\n",
      "           0       0.80      0.50      0.61       166\n",
      "           1       0.19      0.47      0.27        40\n",
      "\n",
      "   micro avg       0.50      0.50      0.50       206\n",
      "   macro avg       0.49      0.49      0.44       206\n",
      "weighted avg       0.68      0.50      0.55       206\n",
      "\n",
      "[0.5   0.475]\n"
     ]
    }
   ],
   "source": [
    "cl =  Pipeline([\n",
    "        ('tfidf',TfidfVectorizer(ngram_range=(1, 3))),\n",
    "        ('clf', DecisionTreeClassifier(class_weight={0: 1, 1: 2}, criterion='gini', min_samples_split=3)),\n",
    "        ])\n",
    "\n",
    "scores = cross_validate(cl, X, y,\n",
    "                        cv=5, return_train_score=False, scoring=make_scorer(get_recal_1))"
   ]
  },
  {
   "cell_type": "code",
   "execution_count": 19,
   "metadata": {},
   "outputs": [
    {
     "data": {
      "text/plain": [
       "{'fit_time': array([0.33917713, 0.3157599 , 0.34552932, 0.36317945, 0.35612655]),\n",
       " 'score_time': array([0.01675677, 0.01406407, 0.01433468, 0.01357198, 0.01354027]),\n",
       " 'test_score': array([0.46341463, 0.68292683, 0.675     , 0.375     , 0.475     ])}"
      ]
     },
     "execution_count": 19,
     "metadata": {},
     "output_type": "execute_result"
    }
   ],
   "source": [
    "scores"
   ]
  },
  {
   "cell_type": "code",
   "execution_count": null,
   "metadata": {},
   "outputs": [],
   "source": []
  },
  {
   "cell_type": "code",
   "execution_count": null,
   "metadata": {},
   "outputs": [],
   "source": []
  },
  {
   "cell_type": "code",
   "execution_count": null,
   "metadata": {},
   "outputs": [],
   "source": []
  }
 ],
 "metadata": {
  "kernelspec": {
   "display_name": "Python 3",
   "language": "python",
   "name": "python3"
  },
  "language_info": {
   "codemirror_mode": {
    "name": "ipython",
    "version": 3
   },
   "file_extension": ".py",
   "mimetype": "text/x-python",
   "name": "python",
   "nbconvert_exporter": "python",
   "pygments_lexer": "ipython3",
   "version": "3.7.3"
  }
 },
 "nbformat": 4,
 "nbformat_minor": 2
}
