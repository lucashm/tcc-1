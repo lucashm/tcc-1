{
 "cells": [
  {
   "cell_type": "code",
   "execution_count": 2,
   "metadata": {},
   "outputs": [],
   "source": [
    "import arff\n",
    "import numpy as np\n",
    "import seaborn as sn\n",
    "import matplotlib.pyplot as plt\n",
    "from operator import attrgetter, itemgetter\n",
    "from io import StringIO\n",
    "from sklearn.model_selection import train_test_split\n",
    "import nltk\n",
    "import pandas as pd\n",
    "from sklearn.model_selection import train_test_split\n",
    "from sklearn.model_selection import cross_val_score\n",
    "from sklearn import tree\n",
    "from sklearn.pipeline import Pipeline\n",
    "from sklearn.feature_extraction.text import TfidfVectorizer\n",
    "from sklearn.metrics import make_scorer, confusion_matrix,classification_report,precision_recall_fscore_support as score, average_precision_score\n",
    "from sklearn import metrics\n",
    "from sklearn.model_selection import cross_validate\n",
    "\n",
    "## training model\n",
    "from sklearn.naive_bayes import MultinomialNB\n",
    "\n",
    "import matplotlib.pyplot as plt\n",
    "from sklearn.model_selection import GridSearchCV"
   ]
  },
  {
   "cell_type": "code",
   "execution_count": 3,
   "metadata": {},
   "outputs": [],
   "source": [
    "def get_recal_1(y_true, y_pred):\n",
    "    precision, recall, fscore, support = score(y_true, y_pred)\n",
    "    print(classification_report(y_true, y_pred))\n",
    "    return(recall[1])"
   ]
  },
  {
   "cell_type": "code",
   "execution_count": 4,
   "metadata": {},
   "outputs": [
    {
     "name": "stdout",
     "output_type": "stream",
     "text": [
      "[nltk_data] Downloading package stopwords to /home/shivwa/nltk_data...\n",
      "[nltk_data]   Package stopwords is already up-to-date!\n",
      "[nltk_data] Downloading package rslp to /home/shivwa/nltk_data...\n",
      "[nltk_data]   Package rslp is already up-to-date!\n",
      "[nltk_data] Downloading package punkt to /home/shivwa/nltk_data...\n",
      "[nltk_data]   Package punkt is already up-to-date!\n"
     ]
    }
   ],
   "source": [
    "nltk.download('stopwords')\n",
    "nltk.download('rslp')\n",
    "stopwords = nltk.corpus.stopwords.words('portuguese')\n",
    "stemmer = nltk.stem.RSLPStemmer()\n",
    "nltk.download('punkt')\n",
    "\n",
    "\n",
    "def clean_text(txt):\n",
    "    text = ''\n",
    "    for w in nltk.word_tokenize(txt):\n",
    "        if w not in stopwords:\n",
    "            text = text + stemmer.stem(w) + ' '\n",
    "    return text.strip()"
   ]
  },
  {
   "cell_type": "markdown",
   "metadata": {},
   "source": [
    "## Fase 1"
   ]
  },
  {
   "cell_type": "code",
   "execution_count": 5,
   "metadata": {},
   "outputs": [
    {
     "name": "stdout",
     "output_type": "stream",
     "text": [
      "              precision    recall  f1-score   support\n",
      "\n",
      "           0       0.80      1.00      0.89       167\n",
      "           1       0.00      0.00      0.00        41\n",
      "\n",
      "   micro avg       0.80      0.80      0.80       208\n",
      "   macro avg       0.40      0.50      0.45       208\n",
      "weighted avg       0.64      0.80      0.72       208\n",
      "\n",
      "              precision    recall  f1-score   support\n",
      "\n",
      "           0       0.80      1.00      0.89       166\n",
      "           1       0.00      0.00      0.00        41\n",
      "\n",
      "   micro avg       0.80      0.80      0.80       207\n",
      "   macro avg       0.40      0.50      0.45       207\n",
      "weighted avg       0.64      0.80      0.71       207\n",
      "\n",
      "              precision    recall  f1-score   support\n",
      "\n",
      "           0       0.81      1.00      0.89       166\n",
      "           1       1.00      0.03      0.05        40\n",
      "\n",
      "   micro avg       0.81      0.81      0.81       206\n",
      "   macro avg       0.90      0.51      0.47       206\n",
      "weighted avg       0.85      0.81      0.73       206\n",
      "\n",
      "              precision    recall  f1-score   support\n",
      "\n",
      "           0       0.81      1.00      0.90       166\n",
      "           1       1.00      0.05      0.10        40\n",
      "\n",
      "   micro avg       0.82      0.82      0.82       206\n",
      "   macro avg       0.91      0.53      0.50       206\n",
      "weighted avg       0.85      0.82      0.74       206\n",
      "\n",
      "              precision    recall  f1-score   support\n",
      "\n",
      "           0       0.81      1.00      0.89       166\n",
      "           1       0.00      0.00      0.00        40\n",
      "\n",
      "   micro avg       0.81      0.81      0.81       206\n",
      "   macro avg       0.40      0.50      0.45       206\n",
      "weighted avg       0.65      0.81      0.72       206\n",
      "\n"
     ]
    },
    {
     "name": "stderr",
     "output_type": "stream",
     "text": [
      "/home/shivwa/.virtualenvs/tcc/lib/python3.6/site-packages/sklearn/metrics/classification.py:1143: UndefinedMetricWarning: Precision and F-score are ill-defined and being set to 0.0 in labels with no predicted samples.\n",
      "  'precision', 'predicted', average, warn_for)\n",
      "/home/shivwa/.virtualenvs/tcc/lib/python3.6/site-packages/sklearn/metrics/classification.py:1143: UndefinedMetricWarning: Precision and F-score are ill-defined and being set to 0.0 in labels with no predicted samples.\n",
      "  'precision', 'predicted', average, warn_for)\n",
      "/home/shivwa/.virtualenvs/tcc/lib/python3.6/site-packages/sklearn/metrics/classification.py:1143: UndefinedMetricWarning: Precision and F-score are ill-defined and being set to 0.0 in labels with no predicted samples.\n",
      "  'precision', 'predicted', average, warn_for)\n"
     ]
    }
   ],
   "source": [
    "data = arff.load(open('../OffComBR3.arff'))\n",
    "df = pd.DataFrame(data['data'])\n",
    "df.columns = ['hate', 'sentence']\n",
    "\n",
    "# transforming 'yes' into 1 and 'no' into 0\n",
    "df['hate'] = df['hate'].apply(lambda x: 1 if x == 'yes' else 0)\n",
    "\n",
    "X = df['sentence'].tolist()\n",
    "y = df['hate'].tolist()\n",
    "\n",
    "cl =  Pipeline([\n",
    "        ('tfidf',TfidfVectorizer()),\n",
    "        ('clf', MultinomialNB()),\n",
    "        ])\n",
    "\n",
    "scores = cross_validate(cl, X, y,\n",
    "                        cv=5, return_train_score=False, scoring=make_scorer(get_recal_1))"
   ]
  },
  {
   "cell_type": "markdown",
   "metadata": {},
   "source": [
    "## Fase 2"
   ]
  },
  {
   "cell_type": "code",
   "execution_count": 7,
   "metadata": {},
   "outputs": [
    {
     "name": "stdout",
     "output_type": "stream",
     "text": [
      "              precision    recall  f1-score   support\n",
      "\n",
      "           0       0.80      1.00      0.89       167\n",
      "           1       0.00      0.00      0.00        41\n",
      "\n",
      "   micro avg       0.80      0.80      0.80       208\n",
      "   macro avg       0.40      0.50      0.45       208\n",
      "weighted avg       0.64      0.80      0.72       208\n",
      "\n",
      "              precision    recall  f1-score   support\n",
      "\n",
      "           0       0.81      1.00      0.90       166\n",
      "           1       1.00      0.07      0.14        41\n",
      "\n",
      "   micro avg       0.82      0.82      0.82       207\n",
      "   macro avg       0.91      0.54      0.52       207\n",
      "weighted avg       0.85      0.82      0.75       207\n",
      "\n",
      "              precision    recall  f1-score   support\n",
      "\n",
      "           0       0.81      1.00      0.90       166\n",
      "           1       1.00      0.05      0.10        40\n",
      "\n",
      "   micro avg       0.82      0.82      0.82       206\n",
      "   macro avg       0.91      0.53      0.50       206\n",
      "weighted avg       0.85      0.82      0.74       206\n",
      "\n",
      "              precision    recall  f1-score   support\n",
      "\n",
      "           0       0.82      1.00      0.90       166\n",
      "           1       1.00      0.10      0.18        40\n",
      "\n",
      "   micro avg       0.83      0.83      0.83       206\n",
      "   macro avg       0.91      0.55      0.54       206\n",
      "weighted avg       0.86      0.83      0.76       206\n",
      "\n",
      "              precision    recall  f1-score   support\n",
      "\n",
      "           0       0.81      1.00      0.89       166\n",
      "           1       0.00      0.00      0.00        40\n",
      "\n",
      "   micro avg       0.81      0.81      0.81       206\n",
      "   macro avg       0.40      0.50      0.45       206\n",
      "weighted avg       0.65      0.81      0.72       206\n",
      "\n"
     ]
    },
    {
     "name": "stderr",
     "output_type": "stream",
     "text": [
      "/home/shivwa/.virtualenvs/tcc/lib/python3.6/site-packages/sklearn/metrics/classification.py:1143: UndefinedMetricWarning: Precision and F-score are ill-defined and being set to 0.0 in labels with no predicted samples.\n",
      "  'precision', 'predicted', average, warn_for)\n",
      "/home/shivwa/.virtualenvs/tcc/lib/python3.6/site-packages/sklearn/metrics/classification.py:1143: UndefinedMetricWarning: Precision and F-score are ill-defined and being set to 0.0 in labels with no predicted samples.\n",
      "  'precision', 'predicted', average, warn_for)\n"
     ]
    }
   ],
   "source": [
    "data = arff.load(open('../OffComBR3.arff'))\n",
    "df = pd.DataFrame(data['data'])\n",
    "df.columns = ['hate', 'sentence']\n",
    "\n",
    "# transforming 'yes' into 1 and 'no' into 0\n",
    "df['hate'] = df['hate'].apply(lambda x: 1 if x == 'yes' else 0)\n",
    "\n",
    "X = df['sentence'].tolist()\n",
    "y = df['hate'].tolist()\n",
    "\n",
    "## Cleaning text before\n",
    "\n",
    "for i in range(len(X)):\n",
    "    n_txt = clean_text(X[i])\n",
    "    X[i] = n_txt\n",
    "    \n",
    "cl =  Pipeline([\n",
    "        ('tfidf',TfidfVectorizer()),\n",
    "        ('clf', MultinomialNB()),\n",
    "        ])\n",
    "\n",
    "scores = cross_validate(cl, X, y,\n",
    "                        cv=5, return_train_score=False, scoring=make_scorer(get_recal_1))"
   ]
  },
  {
   "cell_type": "markdown",
   "metadata": {},
   "source": [
    "## Fase 3"
   ]
  },
  {
   "cell_type": "code",
   "execution_count": 16,
   "metadata": {},
   "outputs": [
    {
     "name": "stdout",
     "output_type": "stream",
     "text": [
      "0.505\n",
      "{'clf__alpha': 0.1, 'clf__fit_prior': False, 'tfidf__ngram_range': (1, 1)}\n"
     ]
    }
   ],
   "source": [
    "data = arff.load(open('../OffComBR3.arff'))\n",
    "df = pd.DataFrame(data['data'])\n",
    "df.columns = ['hate', 'sentence']\n",
    "\n",
    "# transforming 'yes' into 1 and 'no' into 0\n",
    "df['hate'] = df['hate'].apply(lambda x: 1 if x == 'yes' else 0)\n",
    "\n",
    "X = df['sentence'].tolist()\n",
    "y = df['hate'].tolist()\n",
    "\n",
    "## Cleaning text before\n",
    "\n",
    "for i in range(len(X)):\n",
    "    n_txt = clean_text(X[i])\n",
    "    X[i] = n_txt\n",
    "    \n",
    "cl =  Pipeline([\n",
    "        ('tfidf',TfidfVectorizer()),\n",
    "        ('clf', MultinomialNB()),\n",
    "        ])\n",
    "    \n",
    "parameters = {'tfidf__ngram_range': [(1,1), (1,2), (1,3), (1,4)],\n",
    "              'clf__alpha': (0, 0.1, 0.2, 0.4, 0.5, 0.6, 0.7, 1),\n",
    "              'clf__fit_prior': (True, False),\n",
    "             }\n",
    "\n",
    "gs_clf = GridSearchCV(cl, parameters, cv=5, iid=False, n_jobs=-1, scoring='recall')\n",
    "\n",
    "gs_clf.fit(X, y)\n",
    "print(gs_clf.best_score_)\n",
    "print(gs_clf.best_params_)\n",
    "    "
   ]
  },
  {
   "cell_type": "code",
   "execution_count": 18,
   "metadata": {},
   "outputs": [
    {
     "name": "stdout",
     "output_type": "stream",
     "text": [
      "              precision    recall  f1-score   support\n",
      "\n",
      "           0       0.87      0.90      0.89       167\n",
      "           1       0.54      0.46      0.50        41\n",
      "\n",
      "   micro avg       0.82      0.82      0.82       208\n",
      "   macro avg       0.71      0.68      0.69       208\n",
      "weighted avg       0.81      0.82      0.81       208\n",
      "\n",
      "              precision    recall  f1-score   support\n",
      "\n",
      "           0       0.88      0.81      0.84       166\n",
      "           1       0.41      0.54      0.46        41\n",
      "\n",
      "   micro avg       0.75      0.75      0.75       207\n",
      "   macro avg       0.64      0.67      0.65       207\n",
      "weighted avg       0.78      0.75      0.77       207\n",
      "\n",
      "              precision    recall  f1-score   support\n",
      "\n",
      "           0       0.88      0.81      0.84       166\n",
      "           1       0.40      0.53      0.46        40\n",
      "\n",
      "   micro avg       0.76      0.76      0.76       206\n",
      "   macro avg       0.64      0.67      0.65       206\n",
      "weighted avg       0.78      0.76      0.77       206\n",
      "\n",
      "              precision    recall  f1-score   support\n",
      "\n",
      "           0       0.89      0.81      0.85       166\n",
      "           1       0.44      0.60      0.51        40\n",
      "\n",
      "   micro avg       0.77      0.77      0.77       206\n",
      "   macro avg       0.67      0.71      0.68       206\n",
      "weighted avg       0.81      0.77      0.78       206\n",
      "\n",
      "              precision    recall  f1-score   support\n",
      "\n",
      "           0       0.84      0.78      0.81       166\n",
      "           1       0.30      0.40      0.34        40\n",
      "\n",
      "   micro avg       0.70      0.70      0.70       206\n",
      "   macro avg       0.57      0.59      0.58       206\n",
      "weighted avg       0.74      0.70      0.72       206\n",
      "\n"
     ]
    }
   ],
   "source": [
    "data = arff.load(open('../OffComBR3.arff'))\n",
    "df = pd.DataFrame(data['data'])\n",
    "df.columns = ['hate', 'sentence']\n",
    "\n",
    "# transforming 'yes' into 1 and 'no' into 0\n",
    "df['hate'] = df['hate'].apply(lambda x: 1 if x == 'yes' else 0)\n",
    "\n",
    "X = df['sentence'].tolist()\n",
    "y = df['hate'].tolist()\n",
    "\n",
    "## Cleaning text before\n",
    "\n",
    "for i in range(len(X)):\n",
    "    n_txt = clean_text(X[i])\n",
    "    X[i] = n_txt\n",
    "    \n",
    "cl =  Pipeline([\n",
    "        ('tfidf',TfidfVectorizer(ngram_range=(1, 1))),\n",
    "        ('clf', MultinomialNB(alpha=0.1, fit_prior=False)),\n",
    "        ])\n",
    "\n",
    "scores = cross_validate(cl, X, y,\n",
    "                        cv=5, return_train_score=False, scoring=make_scorer(get_recal_1))"
   ]
  },
  {
   "cell_type": "code",
   "execution_count": null,
   "metadata": {},
   "outputs": [],
   "source": []
  }
 ],
 "metadata": {
  "kernelspec": {
   "display_name": "Python 3",
   "language": "python",
   "name": "python3"
  },
  "language_info": {
   "codemirror_mode": {
    "name": "ipython",
    "version": 3
   },
   "file_extension": ".py",
   "mimetype": "text/x-python",
   "name": "python",
   "nbconvert_exporter": "python",
   "pygments_lexer": "ipython3",
   "version": "3.6.3"
  }
 },
 "nbformat": 4,
 "nbformat_minor": 2
}
