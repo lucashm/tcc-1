{
 "cells": [
  {
   "cell_type": "code",
   "execution_count": 9,
   "metadata": {},
   "outputs": [],
   "source": [
    "import arff\n",
    "import numpy as np\n",
    "from operator import attrgetter, itemgetter\n",
    "from io import StringIO\n",
    "from sklearn.model_selection import train_test_split\n",
    "import nltk\n",
    "import pandas as pd\n",
    "from sklearn.model_selection import train_test_split\n",
    "from sklearn.model_selection import cross_val_score\n",
    "from sklearn import tree\n",
    "from sklearn.pipeline import Pipeline\n",
    "from sklearn.feature_extraction.text import TfidfVectorizer\n",
    "from sklearn.metrics import classification_report, precision_recall_fscore_support as score, average_precision_score\n",
    "\n",
    "## training model\n",
    "from sklearn.linear_model import SGDClassifier\n",
    "\n",
    "import matplotlib.pyplot as plt\n",
    "from sklearn.model_selection import GridSearchCV"
   ]
  },
  {
   "cell_type": "markdown",
   "metadata": {},
   "source": [
    "# Importing dataset"
   ]
  },
  {
   "cell_type": "code",
   "execution_count": 3,
   "metadata": {},
   "outputs": [],
   "source": [
    "data = arff.load(open('../OffComBR3.arff'))\n",
    "df = pd.DataFrame(data['data'])\n",
    "df.columns = ['hate', 'sentence']\n",
    "\n",
    "# transforming 'yes' into 1 and 'no' into 0\n",
    "df['hate'] = df['hate'].apply(lambda x: 1 if x == 'yes' else 0)\n",
    "\n",
    "X = df['sentence'].tolist()\n",
    "y = df['hate'].tolist()\n",
    "X_train, X_test, y_train, y_test = train_test_split(\n",
    "                                    X, y, test_size=0.33, random_state=42)"
   ]
  },
  {
   "cell_type": "code",
   "execution_count": 26,
   "metadata": {},
   "outputs": [],
   "source": [
    "cl =  Pipeline([\n",
    "        ('tfidf',TfidfVectorizer()),\n",
    "        ('clf', SGDClassifier()),\n",
    "        ])"
   ]
  },
  {
   "cell_type": "code",
   "execution_count": 27,
   "metadata": {},
   "outputs": [
    {
     "name": "stdout",
     "output_type": "stream",
     "text": [
      "              precision    recall  f1-score   support\n",
      "\n",
      "           0       0.83      0.95      0.89       267\n",
      "           1       0.62      0.28      0.39        74\n",
      "\n",
      "   micro avg       0.81      0.81      0.81       341\n",
      "   macro avg       0.72      0.62      0.64       341\n",
      "weighted avg       0.78      0.81      0.78       341\n",
      "\n"
     ]
    }
   ],
   "source": [
    "cl.fit(X_train, y_train)\n",
    "pred = cl.predict(X_test)\n",
    "print(classification_report(y_test, pred))"
   ]
  },
  {
   "cell_type": "code",
   "execution_count": 36,
   "metadata": {},
   "outputs": [
    {
     "name": "stderr",
     "output_type": "stream",
     "text": [
      "[nltk_data] Downloading package stopwords to /home/marco/nltk_data...\n",
      "[nltk_data]   Package stopwords is already up-to-date!\n",
      "[nltk_data] Downloading package rslp to /home/marco/nltk_data...\n",
      "[nltk_data]   Package rslp is already up-to-date!\n",
      "[nltk_data] Downloading package punkt to /home/marco/nltk_data...\n",
      "[nltk_data]   Unzipping tokenizers/punkt.zip.\n"
     ]
    }
   ],
   "source": [
    "nltk.download('stopwords')\n",
    "nltk.download('rslp')\n",
    "stopwords = nltk.corpus.stopwords.words('portuguese')\n",
    "stemmer = nltk.stem.RSLPStemmer()\n",
    "nltk.download('punkt')\n",
    "\n",
    "\n",
    "def clean_text(txt):\n",
    "    text = ''\n",
    "    for w in nltk.word_tokenize(txt):\n",
    "        if w not in stopwords:\n",
    "            text = text + stemmer.stem(w) + ' '\n",
    "    return text.strip()"
   ]
  },
  {
   "cell_type": "code",
   "execution_count": 37,
   "metadata": {},
   "outputs": [],
   "source": [
    "## Cleaning text before\n",
    "\n",
    "for i in range(len(X_train)):\n",
    "    n_txt = clean_text(X_train[i])\n",
    "    X_train[i] = n_txt\n",
    "    \n",
    "for i in range(len(X_test)):\n",
    "    n_txt = clean_text(X_test[i])\n",
    "    X_test[i] = n_txt"
   ]
  },
  {
   "cell_type": "code",
   "execution_count": 42,
   "metadata": {},
   "outputs": [
    {
     "name": "stdout",
     "output_type": "stream",
     "text": [
      "              precision    recall  f1-score   support\n",
      "\n",
      "           0       0.84      0.96      0.89       267\n",
      "           1       0.68      0.34      0.45        74\n",
      "\n",
      "   micro avg       0.82      0.82      0.82       341\n",
      "   macro avg       0.76      0.65      0.67       341\n",
      "weighted avg       0.80      0.82      0.80       341\n",
      "\n"
     ]
    }
   ],
   "source": [
    "cl.fit(X_train, y_train)\n",
    "pred = cl.predict(X_test)\n",
    "print(classification_report(y_test, pred))"
   ]
  },
  {
   "cell_type": "markdown",
   "metadata": {},
   "source": [
    "## Grid tests with dynamic parameters"
   ]
  },
  {
   "cell_type": "code",
   "execution_count": 80,
   "metadata": {},
   "outputs": [],
   "source": [
    "parameters = {'tfidf__ngram_range': [(1,1), (1,2), (1,3), (1,4)],\n",
    "              'clf__alpha': (1, 1e-2),\n",
    "              'clf__loss': ('hinge', 'log', 'modified_huber', 'squared_hinge', 'perceptron')\n",
    "             }\n",
    "\n",
    "gs_clf = GridSearchCV(cl, parameters, cv=5, iid=False, n_jobs=-1)\n",
    "# iidd: \"If True, return the average score across folds, weighted by the number of samples\"\n",
    "# cv: Number of folds\n",
    "# n_jobs: -1 means using all processors"
   ]
  },
  {
   "cell_type": "code",
   "execution_count": 81,
   "metadata": {},
   "outputs": [
    {
     "name": "stderr",
     "output_type": "stream",
     "text": [
      "/home/marco/Documents/tcc/tcc_env/lib/python3.6/site-packages/sklearn/linear_model/stochastic_gradient.py:144: FutureWarning: max_iter and tol parameters have been added in SGDClassifier in 0.19. If both are left unset, they default to max_iter=5 and tol=None. If tol is not None, max_iter defaults to max_iter=1000. From 0.21, default max_iter will be 1000, and default tol will be 1e-3.\n",
      "  FutureWarning)\n"
     ]
    },
    {
     "data": {
      "text/plain": [
       "GridSearchCV(cv=5, error_score='raise-deprecating',\n",
       "       estimator=Pipeline(memory=None,\n",
       "     steps=[('tfidf', TfidfVectorizer(analyzer='word', binary=False, decode_error='strict',\n",
       "        dtype=<class 'numpy.float64'>, encoding='utf-8', input='content',\n",
       "        lowercase=True, max_df=1.0, max_features=None, min_df=1,\n",
       "        ngram_range=(1, 1), norm='l2', preprocessor=None, smooth_idf=True,...m_state=None, shuffle=True, tol=None,\n",
       "       validation_fraction=0.1, verbose=0, warm_start=False))]),\n",
       "       fit_params=None, iid=False, n_jobs=-1,\n",
       "       param_grid={'tfidf__ngram_range': [(1, 1), (1, 2), (1, 3), (1, 4)], 'clf__alpha': (1, 0.01), 'clf__loss': ('hinge', 'log', 'modified_huber', 'squared_hinge', 'perceptron')},\n",
       "       pre_dispatch='2*n_jobs', refit=True, return_train_score='warn',\n",
       "       scoring=None, verbose=0)"
      ]
     },
     "execution_count": 81,
     "metadata": {},
     "output_type": "execute_result"
    }
   ],
   "source": [
    "gs_clf.fit(X_train, y_train)"
   ]
  },
  {
   "cell_type": "code",
   "execution_count": 82,
   "metadata": {},
   "outputs": [
    {
     "data": {
      "text/plain": [
       "{'clf__alpha': 1, 'clf__loss': 'perceptron', 'tfidf__ngram_range': (1, 3)}"
      ]
     },
     "execution_count": 82,
     "metadata": {},
     "output_type": "execute_result"
    }
   ],
   "source": [
    "gs_clf.best_params_"
   ]
  },
  {
   "cell_type": "code",
   "execution_count": 83,
   "metadata": {},
   "outputs": [
    {
     "data": {
      "text/plain": [
       "0.8353110085717527"
      ]
     },
     "execution_count": 83,
     "metadata": {},
     "output_type": "execute_result"
    }
   ],
   "source": [
    "gs_clf.best_score_"
   ]
  },
  {
   "cell_type": "code",
   "execution_count": null,
   "metadata": {},
   "outputs": [],
   "source": []
  }
 ],
 "metadata": {
  "kernelspec": {
   "display_name": "Python 3",
   "language": "python",
   "name": "python3"
  },
  "language_info": {
   "codemirror_mode": {
    "name": "ipython",
    "version": 3
   },
   "file_extension": ".py",
   "mimetype": "text/x-python",
   "name": "python",
   "nbconvert_exporter": "python",
   "pygments_lexer": "ipython3",
   "version": "3.6.5"
  }
 },
 "nbformat": 4,
 "nbformat_minor": 2
}
