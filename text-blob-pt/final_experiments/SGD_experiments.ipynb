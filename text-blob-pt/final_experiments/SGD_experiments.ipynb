{
 "cells": [
  {
   "cell_type": "code",
   "execution_count": 5,
   "metadata": {},
   "outputs": [],
   "source": [
    "import arff\n",
    "import numpy as np\n",
    "import seaborn as sn\n",
    "import matplotlib.pyplot as plt\n",
    "from operator import attrgetter, itemgetter\n",
    "from io import StringIO\n",
    "from sklearn.model_selection import train_test_split\n",
    "import nltk\n",
    "import pandas as pd\n",
    "from sklearn.model_selection import train_test_split\n",
    "from sklearn.model_selection import cross_val_score\n",
    "from sklearn import tree\n",
    "from sklearn.pipeline import Pipeline\n",
    "from sklearn.feature_extraction.text import TfidfVectorizer\n",
    "from sklearn.metrics import make_scorer, confusion_matrix,classification_report,precision_recall_fscore_support as score, average_precision_score\n",
    "from sklearn import metrics\n",
    "from sklearn.model_selection import cross_validate\n",
    "\n",
    "## training model\n",
    "from sklearn.linear_model import SGDClassifier\n",
    "\n",
    "import matplotlib.pyplot as plt\n",
    "from sklearn.model_selection import GridSearchCV"
   ]
  },
  {
   "cell_type": "markdown",
   "metadata": {},
   "source": [
    "# Importing dataset"
   ]
  },
  {
   "cell_type": "code",
   "execution_count": 6,
   "metadata": {},
   "outputs": [],
   "source": [
    "data = arff.load(open('../OffComBR3.arff'))\n",
    "df = pd.DataFrame(data['data'])\n",
    "df.columns = ['hate', 'sentence']\n",
    "\n",
    "# transforming 'yes' into 1 and 'no' into 0\n",
    "df['hate'] = df['hate'].apply(lambda x: 1 if x == 'yes' else 0)\n",
    "\n",
    "X = df['sentence'].tolist()\n",
    "y = df['hate'].tolist()\n",
    "X_train, X_test, y_train, y_test = train_test_split(\n",
    "                                    X, y, test_size=0.33, random_state=42)"
   ]
  },
  {
   "cell_type": "code",
   "execution_count": 3,
   "metadata": {},
   "outputs": [],
   "source": [
    "cl =  Pipeline([\n",
    "        ('tfidf',TfidfVectorizer()),\n",
    "        ('clf', SGDClassifier()),\n",
    "        ])"
   ]
  },
  {
   "cell_type": "code",
   "execution_count": 4,
   "metadata": {},
   "outputs": [
    {
     "name": "stdout",
     "output_type": "stream",
     "text": [
      "              precision    recall  f1-score   support\n",
      "\n",
      "           0       0.82      0.94      0.88       267\n",
      "           1       0.57      0.27      0.37        74\n",
      "\n",
      "   micro avg       0.80      0.80      0.80       341\n",
      "   macro avg       0.70      0.61      0.62       341\n",
      "weighted avg       0.77      0.80      0.77       341\n",
      "\n"
     ]
    },
    {
     "name": "stderr",
     "output_type": "stream",
     "text": [
      "/home/marco/tcc/env_tcc/lib/python3.6/site-packages/sklearn/linear_model/stochastic_gradient.py:166: FutureWarning: max_iter and tol parameters have been added in SGDClassifier in 0.19. If both are left unset, they default to max_iter=5 and tol=None. If tol is not None, max_iter defaults to max_iter=1000. From 0.21, default max_iter will be 1000, and default tol will be 1e-3.\n",
      "  FutureWarning)\n"
     ]
    }
   ],
   "source": [
    "cl.fit(X_train, y_train)\n",
    "pred = cl.predict(X_test)\n",
    "print(classification_report(y_test, pred))"
   ]
  },
  {
   "cell_type": "code",
   "execution_count": 4,
   "metadata": {},
   "outputs": [
    {
     "name": "stderr",
     "output_type": "stream",
     "text": [
      "[nltk_data] Downloading package stopwords to /home/marco/nltk_data...\n",
      "[nltk_data]   Package stopwords is already up-to-date!\n",
      "[nltk_data] Downloading package rslp to /home/marco/nltk_data...\n",
      "[nltk_data]   Package rslp is already up-to-date!\n",
      "[nltk_data] Downloading package punkt to /home/marco/nltk_data...\n",
      "[nltk_data]   Package punkt is already up-to-date!\n"
     ]
    }
   ],
   "source": [
    "nltk.download('stopwords')\n",
    "nltk.download('rslp')\n",
    "stopwords = nltk.corpus.stopwords.words('portuguese')\n",
    "stemmer = nltk.stem.RSLPStemmer()\n",
    "nltk.download('punkt')\n",
    "\n",
    "\n",
    "def clean_text(txt):\n",
    "    text = ''\n",
    "    for w in nltk.word_tokenize(txt):\n",
    "        if w not in stopwords:\n",
    "            text = text + stemmer.stem(w) + ' '\n",
    "    return text.strip()"
   ]
  },
  {
   "cell_type": "code",
   "execution_count": 5,
   "metadata": {},
   "outputs": [],
   "source": [
    "## Cleaning text before\n",
    "\n",
    "for i in range(len(X_train)):\n",
    "    n_txt = clean_text(X_train[i])\n",
    "    X_train[i] = n_txt\n",
    "    \n",
    "for i in range(len(X_test)):\n",
    "    n_txt = clean_text(X_test[i])\n",
    "    X_test[i] = n_txt"
   ]
  },
  {
   "cell_type": "code",
   "execution_count": 7,
   "metadata": {},
   "outputs": [
    {
     "name": "stdout",
     "output_type": "stream",
     "text": [
      "              precision    recall  f1-score   support\n",
      "\n",
      "           0       0.84      0.93      0.88       267\n",
      "           1       0.60      0.36      0.45        74\n",
      "\n",
      "   micro avg       0.81      0.81      0.81       341\n",
      "   macro avg       0.72      0.65      0.67       341\n",
      "weighted avg       0.79      0.81      0.79       341\n",
      "\n"
     ]
    }
   ],
   "source": [
    "cl.fit(X_train, y_train)\n",
    "pred = cl.predict(X_test)\n",
    "print(classification_report(y_test, pred))"
   ]
  },
  {
   "cell_type": "code",
   "execution_count": 29,
   "metadata": {},
   "outputs": [
    {
     "data": {
      "text/plain": [
       "<matplotlib.axes._subplots.AxesSubplot at 0x7ff32bc52860>"
      ]
     },
     "execution_count": 29,
     "metadata": {},
     "output_type": "execute_result"
    },
    {
     "data": {
      "image/png": "[encoded data removed]",
      "text/plain": [
       "<Figure size 432x288 with 2 Axes>"
      ]
     },
     "metadata": {},
     "output_type": "display_data"
    }
   ],
   "source": [
    "cm = confusion_matrix(y_test, pred)\n",
    "df_cm = pd.DataFrame(cm, ('0 real', '1 real'), ('0 previsto', '1 previsto'))\n",
    "sn.set(font_scale=1.4)#for label size\n",
    "sn.heatmap(df_cm, annot=True,annot_kws={\"size\": 16})# font size"
   ]
  },
  {
   "cell_type": "code",
   "execution_count": 33,
   "metadata": {},
   "outputs": [
    {
     "data": {
      "text/plain": [
       "<matplotlib.axes._subplots.AxesSubplot at 0x7ff32b9cafd0>"
      ]
     },
     "execution_count": 33,
     "metadata": {},
     "output_type": "execute_result"
    },
    {
     "data": {
      "image/png": "[encoded data removed]",
      "text/plain": [
       "<Figure size 432x288 with 2 Axes>"
      ]
     },
     "metadata": {},
     "output_type": "display_data"
    }
   ],
   "source": [
    "cm = confusion_matrix(y_test, pred)/ [[267,267],[74,74]] # deviding it by its real count so we can get the percentage\n",
    "df_cm = pd.DataFrame(cm, ('0 real', '1 real'), ('0 previsto', '1 previsto'))\n",
    "sn.set(font_scale=1.4)#for label size\n",
    "sn.heatmap(df_cm, annot=True,annot_kws={\"size\": 16})# font size"
   ]
  },
  {
   "cell_type": "markdown",
   "metadata": {},
   "source": [
    "## Grid tests with dynamic parameters"
   ]
  },
  {
   "cell_type": "markdown",
   "metadata": {},
   "source": [
    "### Tests with accuracy as scoring paramether"
   ]
  },
  {
   "cell_type": "code",
   "execution_count": 16,
   "metadata": {},
   "outputs": [
    {
     "name": "stdout",
     "output_type": "stream",
     "text": [
      "0.8468221043603075\n",
      "{'clf__alpha': 0.01, 'clf__loss': 'squared_hinge', 'clf__penalty': 'none', 'tfidf__ngram_range': (1, 4)}\n"
     ]
    },
    {
     "name": "stderr",
     "output_type": "stream",
     "text": [
      "/home/marco/tcc/env_tcc/lib/python3.6/site-packages/sklearn/linear_model/stochastic_gradient.py:166: FutureWarning: max_iter and tol parameters have been added in SGDClassifier in 0.19. If both are left unset, they default to max_iter=5 and tol=None. If tol is not None, max_iter defaults to max_iter=1000. From 0.21, default max_iter will be 1000, and default tol will be 1e-3.\n",
      "  FutureWarning)\n"
     ]
    }
   ],
   "source": [
    "## Teste com accuracy\n",
    "\n",
    "parameters = {'tfidf__ngram_range': [(1,1), (1,2), (1,3), (1,4)],\n",
    "              'clf__alpha': (1, 1e-2),\n",
    "              'clf__loss': ('hinge', 'log', 'modified_huber', 'squared_hinge', 'perceptron'),\n",
    "              'clf__penalty': ('none', 'l2', 'l1','elasticnet')\n",
    "             }\n",
    "\n",
    "gs_clf = GridSearchCV(cl, parameters, cv=5, iid=False, n_jobs=-1, scoring='accuracy')\n",
    "# iidd: \"If True, return the average score across folds, weighted by the number of samples\"\n",
    "# cv: Number of folds\n",
    "# n_jobs: -1 means using all processors\n",
    "# scoring: 'balanced accuracy is the average of recall obtained on each class.'\n",
    "\n",
    "gs_clf.fit(X_train, y_train)\n",
    "print(gs_clf.best_score_)\n",
    "print(gs_clf.best_params_)"
   ]
  },
  {
   "cell_type": "code",
   "execution_count": 21,
   "metadata": {},
   "outputs": [
    {
     "name": "stdout",
     "output_type": "stream",
     "text": [
      "              precision    recall  f1-score   support\n",
      "\n",
      "           0       0.81      0.97      0.89       267\n",
      "           1       0.67      0.19      0.29        74\n",
      "\n",
      "   micro avg       0.80      0.80      0.80       341\n",
      "   macro avg       0.74      0.58      0.59       341\n",
      "weighted avg       0.78      0.80      0.76       341\n",
      "\n"
     ]
    }
   ],
   "source": [
    "cl_enhanced =  Pipeline([\n",
    "        ('tfidf',TfidfVectorizer(ngram_range=(1,4))),\n",
    "        ('clf', SGDClassifier(alpha=0.01, loss='squared_hinge', penalty='none')),\n",
    "        ])\n",
    "cl_enhanced.fit(X_train, y_train)\n",
    "pred = cl_enhanced.predict(X_test)\n",
    "print(classification_report(y_test, pred))"
   ]
  },
  {
   "cell_type": "markdown",
   "metadata": {},
   "source": [
    "### Tests with f1_macro as scoring paramether"
   ]
  },
  {
   "cell_type": "code",
   "execution_count": 14,
   "metadata": {},
   "outputs": [
    {
     "name": "stdout",
     "output_type": "stream",
     "text": [
      "0.6849917499152081\n",
      "{'clf__alpha': 0.01, 'clf__loss': 'modified_huber', 'clf__penalty': 'none', 'tfidf__ngram_range': (1, 1)}\n"
     ]
    },
    {
     "name": "stderr",
     "output_type": "stream",
     "text": [
      "/home/marco/tcc/env_tcc/lib/python3.6/site-packages/sklearn/linear_model/stochastic_gradient.py:166: FutureWarning: max_iter and tol parameters have been added in SGDClassifier in 0.19. If both are left unset, they default to max_iter=5 and tol=None. If tol is not None, max_iter defaults to max_iter=1000. From 0.21, default max_iter will be 1000, and default tol will be 1e-3.\n",
      "  FutureWarning)\n"
     ]
    }
   ],
   "source": [
    "parameters = {'tfidf__ngram_range': [(1,1), (1,2), (1,3), (1,4)],\n",
    "              'clf__alpha': (1, 1e-2),\n",
    "              'clf__loss': ('hinge', 'log', 'modified_huber', 'squared_hinge', 'perceptron'),\n",
    "              'clf__penalty': ('none', 'l2', 'l1','elasticnet')\n",
    "             }\n",
    "\n",
    "gs_clf = GridSearchCV(cl, parameters, cv=5, iid=False, n_jobs=-1, scoring='f1_macro')\n",
    "\n",
    "gs_clf.fit(X_train, y_train)\n",
    "print(gs_clf.best_score_)\n",
    "print(gs_clf.best_params_)"
   ]
  },
  {
   "cell_type": "code",
   "execution_count": 22,
   "metadata": {},
   "outputs": [
    {
     "name": "stdout",
     "output_type": "stream",
     "text": [
      "              precision    recall  f1-score   support\n",
      "\n",
      "           0       0.83      0.91      0.86       267\n",
      "           1       0.48      0.31      0.38        74\n",
      "\n",
      "   micro avg       0.78      0.78      0.78       341\n",
      "   macro avg       0.65      0.61      0.62       341\n",
      "weighted avg       0.75      0.78      0.76       341\n",
      "\n"
     ]
    }
   ],
   "source": [
    "cl_enhanced =  Pipeline([\n",
    "        ('tfidf',TfidfVectorizer(ngram_range=(1,1))),\n",
    "        ('clf', SGDClassifier(alpha=0.01, loss='modified_huber', penalty='none')),\n",
    "        ])\n",
    "cl_enhanced.fit(X_train, y_train)\n",
    "pred = cl_enhanced.predict(X_test)\n",
    "print(classification_report(y_test, pred))"
   ]
  },
  {
   "cell_type": "markdown",
   "metadata": {},
   "source": [
    "### Tests with precision as scoring paramether"
   ]
  },
  {
   "cell_type": "code",
   "execution_count": 17,
   "metadata": {},
   "outputs": [
    {
     "name": "stdout",
     "output_type": "stream",
     "text": [
      "1.0\n",
      "{'clf__alpha': 0.01, 'clf__loss': 'modified_huber', 'clf__penalty': 'l2', 'tfidf__ngram_range': (1, 1)}\n"
     ]
    },
    {
     "name": "stderr",
     "output_type": "stream",
     "text": [
      "/home/marco/tcc/env_tcc/lib/python3.6/site-packages/sklearn/linear_model/stochastic_gradient.py:166: FutureWarning: max_iter and tol parameters have been added in SGDClassifier in 0.19. If both are left unset, they default to max_iter=5 and tol=None. If tol is not None, max_iter defaults to max_iter=1000. From 0.21, default max_iter will be 1000, and default tol will be 1e-3.\n",
      "  FutureWarning)\n"
     ]
    }
   ],
   "source": [
    "parameters = {'tfidf__ngram_range': [(1,1), (1,2), (1,3), (1,4)],\n",
    "              'clf__alpha': (1, 1e-2),\n",
    "              'clf__loss': ('hinge', 'log', 'modified_huber', 'squared_hinge', 'perceptron'),\n",
    "              'clf__penalty': ('none', 'l2', 'l1','elasticnet')\n",
    "             }\n",
    "\n",
    "gs_clf = GridSearchCV(cl, parameters, cv=5, iid=False, n_jobs=-1, scoring='precision')\n",
    "\n",
    "gs_clf.fit(X_train, y_train)\n",
    "print(gs_clf.best_score_)\n",
    "print(gs_clf.best_params_)"
   ]
  },
  {
   "cell_type": "code",
   "execution_count": 23,
   "metadata": {},
   "outputs": [
    {
     "name": "stdout",
     "output_type": "stream",
     "text": [
      "              precision    recall  f1-score   support\n",
      "\n",
      "           0       0.79      1.00      0.88       267\n",
      "           1       0.75      0.04      0.08        74\n",
      "\n",
      "   micro avg       0.79      0.79      0.79       341\n",
      "   macro avg       0.77      0.52      0.48       341\n",
      "weighted avg       0.78      0.79      0.71       341\n",
      "\n"
     ]
    }
   ],
   "source": [
    "cl_enhanced =  Pipeline([\n",
    "        ('tfidf',TfidfVectorizer(ngram_range=(1,1))),\n",
    "        ('clf', SGDClassifier(alpha=0.01, loss='modified_huber', penalty='l2')),\n",
    "        ])\n",
    "cl_enhanced.fit(X_train, y_train)\n",
    "pred = cl_enhanced.predict(X_test)\n",
    "print(classification_report(y_test, pred))"
   ]
  },
  {
   "cell_type": "markdown",
   "metadata": {},
   "source": [
    "### Tests with recall as scoring paramether"
   ]
  },
  {
   "cell_type": "code",
   "execution_count": 18,
   "metadata": {
    "scrolled": true
   },
   "outputs": [
    {
     "name": "stdout",
     "output_type": "stream",
     "text": [
      "0.5393846153846155\n",
      "{'clf__alpha': 0.01, 'clf__loss': 'perceptron', 'clf__penalty': 'none', 'tfidf__ngram_range': (1, 3)}\n"
     ]
    },
    {
     "name": "stderr",
     "output_type": "stream",
     "text": [
      "/home/marco/tcc/env_tcc/lib/python3.6/site-packages/sklearn/linear_model/stochastic_gradient.py:166: FutureWarning: max_iter and tol parameters have been added in SGDClassifier in 0.19. If both are left unset, they default to max_iter=5 and tol=None. If tol is not None, max_iter defaults to max_iter=1000. From 0.21, default max_iter will be 1000, and default tol will be 1e-3.\n",
      "  FutureWarning)\n"
     ]
    }
   ],
   "source": [
    "parameters = {'tfidf__ngram_range': [(1,1), (1,2), (1,3), (1,4)],\n",
    "              'clf__alpha': (1, 1e-2),\n",
    "              'clf__loss': ('hinge', 'log', 'modified_huber', 'squared_hinge', 'perceptron'),\n",
    "              'clf__penalty': ('none', 'l2', 'l1','elasticnet')\n",
    "             }\n",
    "\n",
    "gs_clf = GridSearchCV(cl, parameters, cv=5, iid=False, n_jobs=-1, scoring='recall')\n",
    "\n",
    "gs_clf.fit(X_train, y_train)\n",
    "print(gs_clf.best_score_)\n",
    "print(gs_clf.best_params_)"
   ]
  },
  {
   "cell_type": "code",
   "execution_count": 24,
   "metadata": {},
   "outputs": [
    {
     "name": "stdout",
     "output_type": "stream",
     "text": [
      "              precision    recall  f1-score   support\n",
      "\n",
      "           0       0.85      0.82      0.84       267\n",
      "           1       0.43      0.50      0.46        74\n",
      "\n",
      "   micro avg       0.75      0.75      0.75       341\n",
      "   macro avg       0.64      0.66      0.65       341\n",
      "weighted avg       0.76      0.75      0.75       341\n",
      "\n"
     ]
    }
   ],
   "source": [
    "cl_enhanced =  Pipeline([\n",
    "        ('tfidf',TfidfVectorizer(ngram_range=(1,3))),\n",
    "        ('clf', SGDClassifier(alpha=0.01, loss='perceptron', penalty='none')),\n",
    "        ])\n",
    "cl_enhanced.fit(X_train, y_train)\n",
    "pred = cl_enhanced.predict(X_test)\n",
    "print(classification_report(y_test, pred))"
   ]
  },
  {
   "cell_type": "markdown",
   "metadata": {},
   "source": [
    "## Usign K-FoldCV"
   ]
  },
  {
   "cell_type": "code",
   "execution_count": 8,
   "metadata": {},
   "outputs": [],
   "source": [
    "def get_recal_1(y_true, y_pred):\n",
    "    precision, recall, fscore, support = score(y_true, y_pred)\n",
    "    print(classification_report(y_true, y_pred))\n",
    "    return(recall[1])"
   ]
  },
  {
   "cell_type": "markdown",
   "metadata": {},
   "source": [
    "## Fase 0"
   ]
  },
  {
   "cell_type": "code",
   "execution_count": 55,
   "metadata": {},
   "outputs": [
    {
     "name": "stdout",
     "output_type": "stream",
     "text": [
      "              precision    recall  f1-score   support\n",
      "\n",
      "           0       0.83      0.97      0.90       167\n",
      "           1       0.62      0.20      0.30        41\n",
      "\n",
      "   micro avg       0.82      0.82      0.82       208\n",
      "   macro avg       0.72      0.58      0.60       208\n",
      "weighted avg       0.79      0.82      0.78       208\n",
      "\n",
      "              precision    recall  f1-score   support\n",
      "\n",
      "           0       0.88      0.93      0.90       166\n",
      "           1       0.63      0.46      0.54        41\n",
      "\n",
      "   micro avg       0.84      0.84      0.84       207\n",
      "   macro avg       0.75      0.70      0.72       207\n",
      "weighted avg       0.83      0.84      0.83       207\n",
      "\n",
      "              precision    recall  f1-score   support\n",
      "\n",
      "           0       0.84      0.95      0.89       166\n",
      "           1       0.53      0.23      0.32        40\n",
      "\n",
      "   micro avg       0.81      0.81      0.81       206\n",
      "   macro avg       0.68      0.59      0.60       206\n",
      "weighted avg       0.78      0.81      0.78       206\n",
      "\n",
      "              precision    recall  f1-score   support\n",
      "\n",
      "           0       0.86      0.92      0.89       166\n",
      "           1       0.54      0.38      0.44        40\n",
      "\n",
      "   micro avg       0.82      0.82      0.82       206\n",
      "   macro avg       0.70      0.65      0.67       206\n",
      "weighted avg       0.80      0.82      0.80       206\n",
      "\n",
      "              precision    recall  f1-score   support\n",
      "\n",
      "           0       0.82      0.90      0.86       166\n",
      "           1       0.33      0.20      0.25        40\n",
      "\n",
      "   micro avg       0.77      0.77      0.77       206\n",
      "   macro avg       0.58      0.55      0.56       206\n",
      "weighted avg       0.73      0.77      0.74       206\n",
      "\n"
     ]
    },
    {
     "name": "stderr",
     "output_type": "stream",
     "text": [
      "/home/marco/tcc/env_tcc/lib/python3.6/site-packages/sklearn/linear_model/stochastic_gradient.py:166: FutureWarning: max_iter and tol parameters have been added in SGDClassifier in 0.19. If both are left unset, they default to max_iter=5 and tol=None. If tol is not None, max_iter defaults to max_iter=1000. From 0.21, default max_iter will be 1000, and default tol will be 1e-3.\n",
      "  FutureWarning)\n"
     ]
    }
   ],
   "source": [
    "data = arff.load(open('../OffComBR3.arff'))\n",
    "df = pd.DataFrame(data['data'])\n",
    "df.columns = ['hate', 'sentence']\n",
    "\n",
    "# transforming 'yes' into 1 and 'no' into 0\n",
    "df['hate'] = df['hate'].apply(lambda x: 1 if x == 'yes' else 0)\n",
    "\n",
    "X = df['sentence'].tolist()\n",
    "y = df['hate'].tolist()\n",
    "\n",
    "cl =  Pipeline([\n",
    "        ('tfidf',TfidfVectorizer()),\n",
    "        ('clf', SGDClassifier()),\n",
    "        ])\n",
    "\n",
    "scores = cross_validate(cl, X, y,\n",
    "                        cv=5, return_train_score=False, scoring=make_scorer(get_recal_1))"
   ]
  },
  {
   "cell_type": "markdown",
   "metadata": {},
   "source": [
    "## Fase 1"
   ]
  },
  {
   "cell_type": "code",
   "execution_count": 10,
   "metadata": {},
   "outputs": [
    {
     "name": "stdout",
     "output_type": "stream",
     "text": [
      "              precision    recall  f1-score   support\n",
      "\n",
      "           0       0.84      0.96      0.89       167\n",
      "           1       0.59      0.24      0.34        41\n",
      "\n",
      "   micro avg       0.82      0.82      0.82       208\n",
      "   macro avg       0.71      0.60      0.62       208\n",
      "weighted avg       0.79      0.82      0.79       208\n",
      "\n",
      "              precision    recall  f1-score   support\n",
      "\n",
      "           0       0.86      0.92      0.89       166\n",
      "           1       0.53      0.39      0.45        41\n",
      "\n",
      "   micro avg       0.81      0.81      0.81       207\n",
      "   macro avg       0.70      0.65      0.67       207\n",
      "weighted avg       0.79      0.81      0.80       207\n",
      "\n",
      "              precision    recall  f1-score   support\n",
      "\n",
      "           0       0.88      0.93      0.90       166\n",
      "           1       0.60      0.45      0.51        40\n",
      "\n",
      "   micro avg       0.83      0.83      0.83       206\n",
      "   macro avg       0.74      0.69      0.71       206\n",
      "weighted avg       0.82      0.83      0.83       206\n",
      "\n",
      "              precision    recall  f1-score   support\n",
      "\n",
      "           0       0.86      0.92      0.89       166\n",
      "           1       0.55      0.40      0.46        40\n",
      "\n",
      "   micro avg       0.82      0.82      0.82       206\n",
      "   macro avg       0.71      0.66      0.68       206\n",
      "weighted avg       0.80      0.82      0.81       206\n",
      "\n",
      "              precision    recall  f1-score   support\n",
      "\n",
      "           0       0.84      0.89      0.86       166\n",
      "           1       0.41      0.33      0.36        40\n",
      "\n",
      "   micro avg       0.78      0.78      0.78       206\n",
      "   macro avg       0.63      0.61      0.61       206\n",
      "weighted avg       0.76      0.78      0.77       206\n",
      "\n"
     ]
    },
    {
     "name": "stderr",
     "output_type": "stream",
     "text": [
      "/home/marco/tcc/env_tcc/lib/python3.6/site-packages/sklearn/linear_model/stochastic_gradient.py:166: FutureWarning: max_iter and tol parameters have been added in SGDClassifier in 0.19. If both are left unset, they default to max_iter=5 and tol=None. If tol is not None, max_iter defaults to max_iter=1000. From 0.21, default max_iter will be 1000, and default tol will be 1e-3.\n",
      "  FutureWarning)\n"
     ]
    }
   ],
   "source": [
    "data = arff.load(open('../OffComBR3.arff'))\n",
    "df = pd.DataFrame(data['data'])\n",
    "df.columns = ['hate', 'sentence']\n",
    "\n",
    "# transforming 'yes' into 1 and 'no' into 0\n",
    "df['hate'] = df['hate'].apply(lambda x: 1 if x == 'yes' else 0)\n",
    "\n",
    "X = df['sentence'].tolist()\n",
    "y = df['hate'].tolist()\n",
    "\n",
    "## Cleaning text before\n",
    "\n",
    "for i in range(len(X)):\n",
    "    n_txt = clean_text(X[i])\n",
    "    X[i] = n_txt\n",
    "    \n",
    "cl =  Pipeline([\n",
    "        ('tfidf',TfidfVectorizer()),\n",
    "        ('clf', SGDClassifier()),\n",
    "        ])\n",
    "\n",
    "scores = cross_validate(cl, X, y,\n",
    "                        cv=5, return_train_score=False, scoring=make_scorer(get_recal_1))"
   ]
  },
  {
   "cell_type": "markdown",
   "metadata": {},
   "source": [
    "## Fase 2"
   ]
  },
  {
   "cell_type": "code",
   "execution_count": 11,
   "metadata": {},
   "outputs": [
    {
     "name": "stderr",
     "output_type": "stream",
     "text": [
      "/home/marco/tcc/env_tcc/lib/python3.6/site-packages/sklearn/linear_model/stochastic_gradient.py:166: FutureWarning: max_iter and tol parameters have been added in SGDClassifier in 0.19. If both are left unset, they default to max_iter=5 and tol=None. If tol is not None, max_iter defaults to max_iter=1000. From 0.21, default max_iter will be 1000, and default tol will be 1e-3.\n",
      "  FutureWarning)\n"
     ]
    },
    {
     "name": "stdout",
     "output_type": "stream",
     "text": [
      "              precision    recall  f1-score   support\n",
      "\n",
      "           0       0.83      0.90      0.86       167\n",
      "           1       0.39      0.27      0.32        41\n",
      "\n",
      "   micro avg       0.77      0.77      0.77       208\n",
      "   macro avg       0.61      0.58      0.59       208\n",
      "weighted avg       0.75      0.77      0.76       208\n",
      "\n",
      "              precision    recall  f1-score   support\n",
      "\n",
      "           0       0.85      0.76      0.80       166\n",
      "           1       0.32      0.46      0.38        41\n",
      "\n",
      "   micro avg       0.70      0.70      0.70       207\n",
      "   macro avg       0.59      0.61      0.59       207\n",
      "weighted avg       0.75      0.70      0.72       207\n",
      "\n",
      "              precision    recall  f1-score   support\n",
      "\n",
      "           0       0.84      0.78      0.81       166\n",
      "           1       0.31      0.40      0.35        40\n",
      "\n",
      "   micro avg       0.71      0.71      0.71       206\n",
      "   macro avg       0.58      0.59      0.58       206\n",
      "weighted avg       0.74      0.71      0.72       206\n",
      "\n",
      "              precision    recall  f1-score   support\n",
      "\n",
      "           0       0.88      0.83      0.85       166\n",
      "           1       0.43      0.53      0.47        40\n",
      "\n",
      "   micro avg       0.77      0.77      0.77       206\n",
      "   macro avg       0.65      0.68      0.66       206\n",
      "weighted avg       0.79      0.77      0.78       206\n",
      "\n",
      "              precision    recall  f1-score   support\n",
      "\n",
      "           0       0.84      0.81      0.82       166\n",
      "           1       0.30      0.35      0.33        40\n",
      "\n",
      "   micro avg       0.72      0.72      0.72       206\n",
      "   macro avg       0.57      0.58      0.57       206\n",
      "weighted avg       0.73      0.72      0.73       206\n",
      "\n"
     ]
    }
   ],
   "source": [
    "data = arff.load(open('../OffComBR3.arff'))\n",
    "df = pd.DataFrame(data['data'])\n",
    "df.columns = ['hate', 'sentence']\n",
    "\n",
    "# transforming 'yes' into 1 and 'no' into 0\n",
    "df['hate'] = df['hate'].apply(lambda x: 1 if x == 'yes' else 0)\n",
    "\n",
    "X = df['sentence'].tolist()\n",
    "y = df['hate'].tolist()\n",
    "\n",
    "## Cleaning text before\n",
    "\n",
    "for i in range(len(X)):\n",
    "    n_txt = clean_text(X[i])\n",
    "    X[i] = n_txt\n",
    "    \n",
    "cl =  Pipeline([\n",
    "        ('tfidf',TfidfVectorizer(ngram_range=(1,3))),\n",
    "        ('clf', SGDClassifier(alpha=0.01, loss='perceptron', penalty='none')),\n",
    "        ])\n",
    "\n",
    "scores = cross_validate(cl, X, y,\n",
    "                        cv=5, return_train_score=False, scoring=make_scorer(get_recal_1))"
   ]
  },
  {
   "cell_type": "code",
   "execution_count": null,
   "metadata": {},
   "outputs": [],
   "source": []
  }
 ],
 "metadata": {
  "kernelspec": {
   "display_name": "Python 3",
   "language": "python",
   "name": "python3"
  },
  "language_info": {
   "codemirror_mode": {
    "name": "ipython",
    "version": 3
   },
   "file_extension": ".py",
   "mimetype": "text/x-python",
   "name": "python",
   "nbconvert_exporter": "python",
   "pygments_lexer": "ipython3",
   "version": "3.6.5"
  }
 },
 "nbformat": 4,
 "nbformat_minor": 2
}
