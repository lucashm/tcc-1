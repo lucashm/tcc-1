{
 "cells": [
  {
   "cell_type": "code",
   "execution_count": 1,
   "metadata": {},
   "outputs": [],
   "source": [
    "import arff\n",
    "import numpy as np\n",
    "import seaborn as sn\n",
    "import matplotlib.pyplot as plt\n",
    "from operator import attrgetter, itemgetter\n",
    "from io import StringIO\n",
    "from sklearn.model_selection import train_test_split\n",
    "import nltk\n",
    "import pandas as pd\n",
    "from sklearn.model_selection import train_test_split\n",
    "from sklearn.model_selection import cross_val_score\n",
    "from sklearn import tree\n",
    "from sklearn.pipeline import Pipeline\n",
    "from sklearn.feature_extraction.text import TfidfVectorizer\n",
    "from sklearn.metrics import make_scorer, confusion_matrix,classification_report,precision_recall_fscore_support as score, average_precision_score\n",
    "from sklearn import metrics\n",
    "from sklearn.model_selection import cross_validate\n",
    "\n",
    "## training model\n",
    "from sklearn.neural_network import MLPClassifier\n",
    "\n",
    "import matplotlib.pyplot as plt\n",
    "from sklearn.model_selection import GridSearchCV"
   ]
  },
  {
   "cell_type": "code",
   "execution_count": 2,
   "metadata": {},
   "outputs": [],
   "source": [
    "def get_recal_1(y_true, y_pred):\n",
    "    precision, recall, fscore, support = score(y_true, y_pred)\n",
    "    print(classification_report(y_true, y_pred))\n",
    "    return(recall[1])"
   ]
  },
  {
   "cell_type": "code",
   "execution_count": 3,
   "metadata": {},
   "outputs": [
    {
     "name": "stdout",
     "output_type": "stream",
     "text": [
      "[nltk_data] Downloading package stopwords to /home/shivwa/nltk_data...\n",
      "[nltk_data]   Package stopwords is already up-to-date!\n",
      "[nltk_data] Downloading package rslp to /home/shivwa/nltk_data...\n",
      "[nltk_data]   Package rslp is already up-to-date!\n",
      "[nltk_data] Downloading package punkt to /home/shivwa/nltk_data...\n",
      "[nltk_data]   Package punkt is already up-to-date!\n"
     ]
    }
   ],
   "source": [
    "nltk.download('stopwords')\n",
    "nltk.download('rslp')\n",
    "stopwords = nltk.corpus.stopwords.words('portuguese')\n",
    "stemmer = nltk.stem.RSLPStemmer()\n",
    "nltk.download('punkt')\n",
    "\n",
    "\n",
    "def clean_text(txt):\n",
    "    text = ''\n",
    "    for w in nltk.word_tokenize(txt):\n",
    "        if w not in stopwords:\n",
    "            text = text + stemmer.stem(w) + ' '\n",
    "    return text.strip()"
   ]
  },
  {
   "cell_type": "markdown",
   "metadata": {},
   "source": [
    "## Fase 1"
   ]
  },
  {
   "cell_type": "code",
   "execution_count": 4,
   "metadata": {},
   "outputs": [
    {
     "name": "stdout",
     "output_type": "stream",
     "text": [
      "              precision    recall  f1-score   support\n",
      "\n",
      "           0       0.86      0.96      0.90       167\n",
      "           1       0.67      0.34      0.45        41\n",
      "\n",
      "   micro avg       0.84      0.84      0.84       208\n",
      "   macro avg       0.76      0.65      0.68       208\n",
      "weighted avg       0.82      0.84      0.81       208\n",
      "\n",
      "              precision    recall  f1-score   support\n",
      "\n",
      "           0       0.87      0.90      0.88       166\n",
      "           1       0.51      0.44      0.47        41\n",
      "\n",
      "   micro avg       0.81      0.81      0.81       207\n",
      "   macro avg       0.69      0.67      0.68       207\n",
      "weighted avg       0.80      0.81      0.80       207\n",
      "\n",
      "              precision    recall  f1-score   support\n",
      "\n",
      "           0       0.86      0.91      0.88       166\n",
      "           1       0.50      0.38      0.43        40\n",
      "\n",
      "   micro avg       0.81      0.81      0.81       206\n",
      "   macro avg       0.68      0.64      0.66       206\n",
      "weighted avg       0.79      0.81      0.79       206\n",
      "\n",
      "              precision    recall  f1-score   support\n",
      "\n",
      "           0       0.87      0.92      0.89       166\n",
      "           1       0.56      0.45      0.50        40\n",
      "\n",
      "   micro avg       0.83      0.83      0.83       206\n",
      "   macro avg       0.72      0.68      0.70       206\n",
      "weighted avg       0.81      0.83      0.82       206\n",
      "\n",
      "              precision    recall  f1-score   support\n",
      "\n",
      "           0       0.83      0.83      0.83       166\n",
      "           1       0.28      0.28      0.28        40\n",
      "\n",
      "   micro avg       0.72      0.72      0.72       206\n",
      "   macro avg       0.55      0.55      0.55       206\n",
      "weighted avg       0.72      0.72      0.72       206\n",
      "\n"
     ]
    }
   ],
   "source": [
    "data = arff.load(open('../OffComBR3.arff'))\n",
    "df = pd.DataFrame(data['data'])\n",
    "df.columns = ['hate', 'sentence']\n",
    "\n",
    "# transforming 'yes' into 1 and 'no' into 0\n",
    "df['hate'] = df['hate'].apply(lambda x: 1 if x == 'yes' else 0)\n",
    "\n",
    "X = df['sentence'].tolist()\n",
    "y = df['hate'].tolist()\n",
    "\n",
    "cl =  Pipeline([\n",
    "        ('tfidf',TfidfVectorizer()),\n",
    "        ('clf', MLPClassifier()),\n",
    "        ])\n",
    "\n",
    "scores = cross_validate(cl, X, y,\n",
    "                        cv=5, return_train_score=False, scoring=make_scorer(get_recal_1))"
   ]
  },
  {
   "cell_type": "markdown",
   "metadata": {},
   "source": [
    "## Fase 2"
   ]
  },
  {
   "cell_type": "code",
   "execution_count": 5,
   "metadata": {},
   "outputs": [
    {
     "name": "stdout",
     "output_type": "stream",
     "text": [
      "              precision    recall  f1-score   support\n",
      "\n",
      "           0       0.84      0.95      0.89       167\n",
      "           1       0.58      0.27      0.37        41\n",
      "\n",
      "   micro avg       0.82      0.82      0.82       208\n",
      "   macro avg       0.71      0.61      0.63       208\n",
      "weighted avg       0.79      0.82      0.79       208\n",
      "\n",
      "              precision    recall  f1-score   support\n",
      "\n",
      "           0       0.85      0.88      0.86       166\n",
      "           1       0.43      0.37      0.39        41\n",
      "\n",
      "   micro avg       0.78      0.78      0.78       207\n",
      "   macro avg       0.64      0.62      0.63       207\n",
      "weighted avg       0.77      0.78      0.77       207\n",
      "\n",
      "              precision    recall  f1-score   support\n",
      "\n",
      "           0       0.86      0.91      0.88       166\n",
      "           1       0.50      0.38      0.43        40\n",
      "\n",
      "   micro avg       0.81      0.81      0.81       206\n",
      "   macro avg       0.68      0.64      0.66       206\n",
      "weighted avg       0.79      0.81      0.79       206\n",
      "\n",
      "              precision    recall  f1-score   support\n",
      "\n",
      "           0       0.88      0.94      0.91       166\n",
      "           1       0.66      0.47      0.55        40\n",
      "\n",
      "   micro avg       0.85      0.85      0.85       206\n",
      "   macro avg       0.77      0.71      0.73       206\n",
      "weighted avg       0.84      0.85      0.84       206\n",
      "\n",
      "              precision    recall  f1-score   support\n",
      "\n",
      "           0       0.82      0.79      0.80       166\n",
      "           1       0.24      0.28      0.26        40\n",
      "\n",
      "   micro avg       0.69      0.69      0.69       206\n",
      "   macro avg       0.53      0.53      0.53       206\n",
      "weighted avg       0.71      0.69      0.70       206\n",
      "\n"
     ]
    }
   ],
   "source": [
    "data = arff.load(open('../OffComBR3.arff'))\n",
    "df = pd.DataFrame(data['data'])\n",
    "df.columns = ['hate', 'sentence']\n",
    "\n",
    "# transforming 'yes' into 1 and 'no' into 0\n",
    "df['hate'] = df['hate'].apply(lambda x: 1 if x == 'yes' else 0)\n",
    "\n",
    "X = df['sentence'].tolist()\n",
    "y = df['hate'].tolist()\n",
    "\n",
    "## Cleaning text before\n",
    "\n",
    "for i in range(len(X)):\n",
    "    n_txt = clean_text(X[i])\n",
    "    X[i] = n_txt\n",
    "    \n",
    "cl =  Pipeline([\n",
    "        ('tfidf',TfidfVectorizer()),\n",
    "        ('clf', MLPClassifier()),\n",
    "        ])\n",
    "\n",
    "scores = cross_validate(cl, X, y,\n",
    "                        cv=5, return_train_score=False, scoring=make_scorer(get_recal_1))"
   ]
  },
  {
   "cell_type": "markdown",
   "metadata": {},
   "source": [
    "## Fase 3"
   ]
  },
  {
   "cell_type": "code",
   "execution_count": 6,
   "metadata": {},
   "outputs": [
    {
     "name": "stdout",
     "output_type": "stream",
     "text": [
      "0.5595121951219513\n",
      "{'clf__activation': 'logistic', 'clf__alpha': 0, 'clf__solver': 'lbfgs', 'tfidf__ngram_range': (1, 4)}\n"
     ]
    }
   ],
   "source": [
    "data = arff.load(open('../OffComBR3.arff'))\n",
    "df = pd.DataFrame(data['data'])\n",
    "df.columns = ['hate', 'sentence']\n",
    "\n",
    "# transforming 'yes' into 1 and 'no' into 0\n",
    "df['hate'] = df['hate'].apply(lambda x: 1 if x == 'yes' else 0)\n",
    "\n",
    "X = df['sentence'].tolist()\n",
    "y = df['hate'].tolist()\n",
    "\n",
    "## Cleaning text before\n",
    "\n",
    "for i in range(len(X)):\n",
    "    n_txt = clean_text(X[i])\n",
    "    X[i] = n_txt\n",
    "    \n",
    "cl =  Pipeline([\n",
    "        ('tfidf',TfidfVectorizer()),\n",
    "        ('clf', MLPClassifier()),\n",
    "        ])\n",
    "    \n",
    "parameters = {'tfidf__ngram_range': [(1,1), (1,2), (1,3), (1,4)],\n",
    "              'clf__alpha': (0, 0.5, 1),\n",
    "              'clf__activation': ('identity', 'logistic'),\n",
    "              'clf__solver': ('lbfgs', 'sgd', 'adam')\n",
    "             }\n",
    "\n",
    "# gs_clf = GridSearchCV(cl, parameters, cv=5, iid=False, n_jobs=-1, scoring='recall')\n",
    "\n",
    "gs_clf.fit(X, y)\n",
    "print(gs_clf.best_score_)\n",
    "print(gs_clf.best_params_)\n",
    "    "
   ]
  },
  {
   "cell_type": "code",
   "execution_count": 7,
   "metadata": {},
   "outputs": [
    {
     "name": "stdout",
     "output_type": "stream",
     "text": [
      "              precision    recall  f1-score   support\n",
      "\n",
      "           0       0.87      0.91      0.89       167\n",
      "           1       0.55      0.44      0.49        41\n",
      "\n",
      "   micro avg       0.82      0.82      0.82       208\n",
      "   macro avg       0.71      0.67      0.69       208\n",
      "weighted avg       0.80      0.82      0.81       208\n",
      "\n",
      "              precision    recall  f1-score   support\n",
      "\n",
      "           0       0.87      0.82      0.84       166\n",
      "           1       0.41      0.51      0.46        41\n",
      "\n",
      "   micro avg       0.76      0.76      0.76       207\n",
      "   macro avg       0.64      0.67      0.65       207\n",
      "weighted avg       0.78      0.76      0.77       207\n",
      "\n",
      "              precision    recall  f1-score   support\n",
      "\n",
      "           0       0.89      0.79      0.83       166\n",
      "           1       0.40      0.57      0.47        40\n",
      "\n",
      "   micro avg       0.75      0.75      0.75       206\n",
      "   macro avg       0.64      0.68      0.65       206\n",
      "weighted avg       0.79      0.75      0.76       206\n",
      "\n",
      "              precision    recall  f1-score   support\n",
      "\n",
      "           0       0.88      0.89      0.89       166\n",
      "           1       0.53      0.50      0.51        40\n",
      "\n",
      "   micro avg       0.82      0.82      0.82       206\n",
      "   macro avg       0.70      0.70      0.70       206\n",
      "weighted avg       0.81      0.82      0.81       206\n",
      "\n",
      "              precision    recall  f1-score   support\n",
      "\n",
      "           0       0.87      0.72      0.79       166\n",
      "           1       0.32      0.55      0.40        40\n",
      "\n",
      "   micro avg       0.68      0.68      0.68       206\n",
      "   macro avg       0.59      0.63      0.59       206\n",
      "weighted avg       0.76      0.68      0.71       206\n",
      "\n"
     ]
    }
   ],
   "source": [
    "data = arff.load(open('../OffComBR3.arff'))\n",
    "df = pd.DataFrame(data['data'])\n",
    "df.columns = ['hate', 'sentence']\n",
    "\n",
    "# transforming 'yes' into 1 and 'no' into 0\n",
    "df['hate'] = df['hate'].apply(lambda x: 1 if x == 'yes' else 0)\n",
    "\n",
    "X = df['sentence'].tolist()\n",
    "y = df['hate'].tolist()\n",
    "\n",
    "## Cleaning text before\n",
    "\n",
    "for i in range(len(X)):\n",
    "    n_txt = clean_text(X[i])\n",
    "    X[i] = n_txt\n",
    "    \n",
    "cl =  Pipeline([\n",
    "        ('tfidf',TfidfVectorizer(ngram_range=(1, 1))),\n",
    "        ('clf', MLPClassifier(activation='logistic', alpha=0, solver='lbfgs')),\n",
    "        ])\n",
    "\n",
    "scores = cross_validate(cl, X, y,\n",
    "                        cv=5, return_train_score=False, scoring=make_scorer(get_recal_1))"
   ]
  },
  {
   "cell_type": "code",
   "execution_count": null,
   "metadata": {},
   "outputs": [],
   "source": []
  }
 ],
 "metadata": {
  "kernelspec": {
   "display_name": "Python 3",
   "language": "python",
   "name": "python3"
  },
  "language_info": {
   "codemirror_mode": {
    "name": "ipython",
    "version": 3
   },
   "file_extension": ".py",
   "mimetype": "text/x-python",
   "name": "python",
   "nbconvert_exporter": "python",
   "pygments_lexer": "ipython3",
   "version": "3.7.3"
  }
 },
 "nbformat": 4,
 "nbformat_minor": 2
}
