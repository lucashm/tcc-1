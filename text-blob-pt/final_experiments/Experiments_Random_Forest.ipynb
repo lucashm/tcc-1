{
  "nbformat": 4,
  "nbformat_minor": 0,
  "metadata": {
    "colab": {
      "name": "Experiments_Random_Forest.ipynb",
      "version": "0.3.2",
      "provenance": [],
      "collapsed_sections": []
    },
    "kernelspec": {
      "name": "python3",
      "display_name": "Python 3"
    },
    "accelerator": "GPU"
  },
  "cells": [
    {
      "cell_type": "code",
      "metadata": {
        "id": "1UCXyycm-Qh3",
        "colab_type": "code",
        "outputId": "43757310-8a6b-4569-b328-f6000b87acff",
        "colab": {
          "base_uri": "https://localhost:8080/",
          "height": 35
        }
      },
      "source": [
        "# pip install arff"
      ],
      "execution_count": 1,
      "outputs": [
        {
          "output_type": "stream",
          "text": [
            "Requirement already satisfied: arff in /usr/local/lib/python3.6/dist-packages (0.9)\n"
          ],
          "name": "stdout"
        }
      ]
    },
    {
      "cell_type": "code",
      "metadata": {
        "id": "iFQac2wr-LNy",
        "colab_type": "code",
        "colab": {}
      },
      "source": [
        "import arff\n",
        "import numpy as np\n",
        "import seaborn as sn\n",
        "import matplotlib.pyplot as plt\n",
        "from operator import attrgetter, itemgetter\n",
        "from io import StringIO\n",
        "from sklearn.model_selection import train_test_split\n",
        "import nltk\n",
        "import pandas as pd\n",
        "from sklearn.model_selection import train_test_split\n",
        "from sklearn.model_selection import cross_val_score\n",
        "from sklearn import tree\n",
        "from sklearn.pipeline import Pipeline\n",
        "from sklearn.feature_extraction.text import TfidfVectorizer\n",
        "from sklearn.metrics import make_scorer, confusion_matrix,classification_report,precision_recall_fscore_support as score, average_precision_score\n",
        "from sklearn import metrics\n",
        "from sklearn.model_selection import cross_validate\n",
        "from pickle import Pickler, Unpickler\n",
        "\n",
        "## training model\n",
        "from sklearn.neural_network import MLPClassifier\n",
        "from sklearn.svm import SVC\n",
        "from sklearn.ensemble import RandomForestClassifier, VotingClassifier\n",
        "from sklearn.naive_bayes import MultinomialNB\n",
        "from sklearn.linear_model import SGDClassifier\n",
        "from sklearn.tree import DecisionTreeClassifier\n",
        "\n",
        "import matplotlib.pyplot as plt\n",
        "from sklearn.model_selection import GridSearchCV"
      ],
      "execution_count": 0,
      "outputs": []
    },
    {
      "cell_type": "code",
      "metadata": {
        "id": "vAIR83pK-xmT",
        "colab_type": "code",
        "outputId": "97b9ddc9-3a36-4e48-8ed4-692eb3016065",
        "colab": {
          "base_uri": "https://localhost:8080/",
          "height": 35
        }
      },
      "source": [
        "from google.colab import drive\n",
        "drive.mount(\"/content/gdrive\", force_remount=True)"
      ],
      "execution_count": 3,
      "outputs": [
        {
          "output_type": "stream",
          "text": [
            "Mounted at /content/gdrive\n"
          ],
          "name": "stdout"
        }
      ]
    },
    {
      "cell_type": "code",
      "metadata": {
        "id": "D64VUJKt-ZiK",
        "colab_type": "code",
        "outputId": "fa903ccd-949f-4868-ab42-b10b7aac34c9",
        "colab": {
          "base_uri": "https://localhost:8080/",
          "height": 122
        }
      },
      "source": [
        "root_path = \"gdrive/My Drive/Colab Notebooks/\"\n",
        "df = Unpickler(open(root_path + \"dataset/OffComBR3.sav\", 'rb')).load()\n",
        "\n",
        "X = df['sentence'].tolist()\n",
        "y = df['hate'].tolist()\n",
        "\n",
        "\n",
        "nltk.download('stopwords')\n",
        "nltk.download('rslp')\n",
        "stopwords = nltk.corpus.stopwords.words('portuguese')\n",
        "stemmer = nltk.stem.RSLPStemmer()\n",
        "nltk.download('punkt')\n",
        "\n",
        "def clean_text(txt):\n",
        "    text = ''\n",
        "    for w in nltk.word_tokenize(txt):\n",
        "        if w not in stopwords:\n",
        "            text = text + stemmer.stem(w) + ' '\n",
        "    return text.strip()\n",
        "\n",
        "\n",
        "for i in range(len(X)):\n",
        "    n_txt = clean_text(X[i])\n",
        "    X[i] = n_txt\n",
        "\n",
        "X_train, X_test, y_train, y_test = train_test_split(\n",
        "                                X, y, test_size=0.33, random_state=42)"
      ],
      "execution_count": 4,
      "outputs": [
        {
          "output_type": "stream",
          "text": [
            "[nltk_data] Downloading package stopwords to /root/nltk_data...\n",
            "[nltk_data]   Package stopwords is already up-to-date!\n",
            "[nltk_data] Downloading package rslp to /root/nltk_data...\n",
            "[nltk_data]   Package rslp is already up-to-date!\n",
            "[nltk_data] Downloading package punkt to /root/nltk_data...\n",
            "[nltk_data]   Package punkt is already up-to-date!\n"
          ],
          "name": "stdout"
        }
      ]
    },
    {
      "cell_type": "code",
      "metadata": {
        "id": "qXNd24kK9h5U",
        "colab_type": "code",
        "colab": {}
      },
      "source": [
        "\n",
        "\n",
        "parameters_rf = {'tfidf__ngram_range': [(1,1)],\n",
        "                 'tfidf__max_df': [0.2],\n",
        "                 'tfidf__min_df': [2],\n",
        "                 'tfidf__use_idf': [True],\n",
        "                 'tfidf__smooth_idf': [False],\n",
        "                 'tfidf__sublinear_tf': [True],\n",
        "                 'tfidf__strip_accents': ['ascii'],\n",
        "                 'clf__n_estimators': [10, 100, 1000],\n",
        "                 'clf__max_depth': [None],\n",
        "                 'clf__min_samples_split': [2, 4],\n",
        "                 'clf__min_samples_leaf': [1, 2, 4],\n",
        "                 'clf__class_weight': [{0:1, 1:3}]\n",
        "                }\n",
        "\n",
        "parameters = [parameters_rf]"
      ],
      "execution_count": 0,
      "outputs": []
    },
    {
      "cell_type": "code",
      "metadata": {
        "id": "4zdsHaWAHvB2",
        "colab_type": "code",
        "colab": {}
      },
      "source": [
        "classifiers = [RandomForestClassifier()]"
      ],
      "execution_count": 0,
      "outputs": []
    },
    {
      "cell_type": "code",
      "metadata": {
        "id": "Ak2r8ZAUCDoo",
        "colab_type": "code",
        "outputId": "86949833-699d-44d9-96b5-2b19a33cb2c6",
        "colab": {
          "base_uri": "https://localhost:8080/",
          "height": 90
        }
      },
      "source": [
        "for i, classifier in enumerate(classifiers):\n",
        "  cl = Pipeline([\n",
        "          ('tfidf',TfidfVectorizer()),\n",
        "          ('clf', classifier),\n",
        "        ])\n",
        "\n",
        "  gs_clf = GridSearchCV(cl, parameters[i], cv=10, iid=False, n_jobs=-1, scoring='recall')\n",
        "\n",
        "  gs_clf.fit(X, y)\n",
        "  print(classifier.__class__.__name__)\n",
        "  print(gs_clf.best_score_)\n",
        "  print(gs_clf.best_params_)"
      ],
      "execution_count": 15,
      "outputs": [
        {
          "output_type": "stream",
          "text": [
            "RandomForestClassifier\n",
            "0.4521428571428571\n",
            "{'clf__class_weight': {0: 1, 1: 3}, 'clf__max_depth': None, 'clf__min_samples_leaf': 1, 'clf__min_samples_split': 4, 'clf__n_estimators': 10, 'tfidf__max_df': 0.2, 'tfidf__min_df': 2, 'tfidf__ngram_range': (1, 1), 'tfidf__smooth_idf': False, 'tfidf__strip_accents': 'ascii', 'tfidf__sublinear_tf': True, 'tfidf__use_idf': True}\n"
          ],
          "name": "stdout"
        }
      ]
    },
    {
      "cell_type": "code",
      "metadata": {
        "id": "SYWnK1sgv3ny",
        "colab_type": "code",
        "colab": {
          "base_uri": "https://localhost:8080/",
          "height": 125
        },
        "outputId": "c83dc404-163b-4098-f77c-3f4e3230cfbc"
      },
      "source": [
        "for i, classifier in enumerate(classifiers):\n",
        "  cl = Pipeline([\n",
        "          ('tfidf',TfidfVectorizer()),\n",
        "          ('clf', classifier),\n",
        "        ])\n",
        "\n",
        "  gs_clf = GridSearchCV(cl, parameters[i], cv=10, iid=False, n_jobs=-1, scoring='precision')\n",
        "\n",
        "  gs_clf.fit(X, y)\n",
        "  print(classifier.__class__.__name__)\n",
        "  print(gs_clf.best_score_)\n",
        "  print(gs_clf.best_params_)"
      ],
      "execution_count": 16,
      "outputs": [
        {
          "output_type": "stream",
          "text": [
            "/usr/local/lib/python3.6/dist-packages/joblib/externals/loky/process_executor.py:706: UserWarning: A worker stopped while some jobs were given to the executor. This can be caused by a too short worker timeout or by a memory leak.\n",
            "  \"timeout or by a memory leak.\", UserWarning\n"
          ],
          "name": "stderr"
        },
        {
          "output_type": "stream",
          "text": [
            "RandomForestClassifier\n",
            "0.5611011904761904\n",
            "{'clf__class_weight': {0: 1, 1: 3}, 'clf__max_depth': None, 'clf__min_samples_leaf': 1, 'clf__min_samples_split': 2, 'clf__n_estimators': 1000, 'tfidf__max_df': 0.2, 'tfidf__min_df': 2, 'tfidf__ngram_range': (1, 1), 'tfidf__smooth_idf': False, 'tfidf__strip_accents': 'ascii', 'tfidf__sublinear_tf': True, 'tfidf__use_idf': True}\n"
          ],
          "name": "stdout"
        }
      ]
    },
    {
      "cell_type": "code",
      "metadata": {
        "id": "ZHLkORpYv7Hb",
        "colab_type": "code",
        "colab": {
          "base_uri": "https://localhost:8080/",
          "height": 125
        },
        "outputId": "f6544798-5e33-4394-e41d-750009c6d762"
      },
      "source": [
        "for i, classifier in enumerate(classifiers):\n",
        "  cl = Pipeline([\n",
        "          ('tfidf',TfidfVectorizer()),\n",
        "          ('clf', classifier),\n",
        "        ])\n",
        "\n",
        "  gs_clf = GridSearchCV(cl, parameters[i], cv=10, iid=False, n_jobs=-1, scoring='accuracy')\n",
        "\n",
        "  gs_clf.fit(X, y)\n",
        "  print(classifier.__class__.__name__)\n",
        "  print(gs_clf.best_score_)\n",
        "  print(gs_clf.best_params_)"
      ],
      "execution_count": 17,
      "outputs": [
        {
          "output_type": "stream",
          "text": [
            "/usr/local/lib/python3.6/dist-packages/joblib/externals/loky/process_executor.py:706: UserWarning: A worker stopped while some jobs were given to the executor. This can be caused by a too short worker timeout or by a memory leak.\n",
            "  \"timeout or by a memory leak.\", UserWarning\n"
          ],
          "name": "stderr"
        },
        {
          "output_type": "stream",
          "text": [
            "RandomForestClassifier\n",
            "0.8043659091717343\n",
            "{'clf__class_weight': {0: 1, 1: 3}, 'clf__max_depth': None, 'clf__min_samples_leaf': 2, 'clf__min_samples_split': 2, 'clf__n_estimators': 1000, 'tfidf__max_df': 0.2, 'tfidf__min_df': 2, 'tfidf__ngram_range': (1, 1), 'tfidf__smooth_idf': False, 'tfidf__strip_accents': 'ascii', 'tfidf__sublinear_tf': True, 'tfidf__use_idf': True}\n"
          ],
          "name": "stdout"
        }
      ]
    },
    {
      "cell_type": "code",
      "metadata": {
        "id": "exf-5n2tTw2M",
        "colab_type": "code",
        "colab": {}
      },
      "source": [
        "## classificadores com os melhores hiperparametros\n",
        "\n",
        "## recall\n",
        "rf1 = Pipeline([\n",
        "        ('tfidf',TfidfVectorizer(max_df= 0.2,\n",
        "                                 min_df= 2,\n",
        "                                 ngram_range= (1, 1),\n",
        "                                 smooth_idf= False,\n",
        "                                 strip_accents= 'ascii',\n",
        "                                 sublinear_tf= True,\n",
        "                                 use_idf = True)),\n",
        "        ('clf', RandomForestClassifier(class_weight= {0:1, 1:3}, max_depth=None, min_samples_leaf= 1, min_samples_split= 4, n_estimators=10)),\n",
        "        ])\n",
        "\n",
        "rf2 = Pipeline([\n",
        "        ('tfidf',TfidfVectorizer(max_df= 0.2,\n",
        "                                 min_df= 2,\n",
        "                                 ngram_range= (1, 1),\n",
        "                                 smooth_idf= False,\n",
        "                                 strip_accents= 'ascii',\n",
        "                                 sublinear_tf= True,\n",
        "                                 use_idf = True)),\n",
        "        ('clf', RandomForestClassifier(max_depth=None, min_samples_leaf= 1, min_samples_split= 4, n_estimators=10)),\n",
        "        ])\n",
        "\n",
        "rf3 = Pipeline([\n",
        "        ('tfidf',TfidfVectorizer(max_df= 0.2,\n",
        "                                 min_df= 2,\n",
        "                                 ngram_range= (1, 1),\n",
        "                                 smooth_idf= False,\n",
        "                                 strip_accents= 'ascii',\n",
        "                                 sublinear_tf= True,\n",
        "                                 use_idf = True)),\n",
        "        ('clf', RandomForestClassifier(class_weight= {0:3, 1:1}, max_depth=None, min_samples_leaf= 1, min_samples_split= 4, n_estimators=10)),\n",
        "        ])\n",
        "\n",
        "##precision\n",
        "rf4 = Pipeline([\n",
        "        ('tfidf',TfidfVectorizer(max_df= 0.2,\n",
        "                                 min_df= 2,\n",
        "                                 ngram_range= (1, 1),\n",
        "                                 smooth_idf= False,\n",
        "                                 strip_accents= 'ascii',\n",
        "                                 sublinear_tf= True,\n",
        "                                 use_idf = True)),\n",
        "        ('clf', RandomForestClassifier(class_weight= {0:1, 1:3}, max_depth=None, min_samples_leaf= 1, min_samples_split= 2, n_estimators=1000)),\n",
        "        ])\n",
        "rf5 = Pipeline([\n",
        "        ('tfidf',TfidfVectorizer(max_df= 0.2,\n",
        "                                 min_df= 2,\n",
        "                                 ngram_range= (1, 1),\n",
        "                                 smooth_idf= False,\n",
        "                                 strip_accents= 'ascii',\n",
        "                                 sublinear_tf= True,\n",
        "                                 use_idf = True)),\n",
        "        ('clf', RandomForestClassifier(max_depth=None, min_samples_leaf= 1, min_samples_split= 2, n_estimators=1000)),\n",
        "        ])\n",
        "\n",
        "\n",
        "## accuracy\n",
        "rf6 = Pipeline([\n",
        "        ('tfidf',TfidfVectorizer(max_df= 0.2,\n",
        "                                 min_df= 2,\n",
        "                                 ngram_range= (1, 1),\n",
        "                                 smooth_idf= False,\n",
        "                                 strip_accents= 'ascii',\n",
        "                                 sublinear_tf= True,\n",
        "                                 use_idf = True)),\n",
        "        ('clf', RandomForestClassifier(class_weight= {0:1, 1:3}, max_depth=None, min_samples_leaf= 2, min_samples_split= 2, n_estimators=1000)),\n",
        "        ])\n",
        "\n",
        "rf7 = Pipeline([\n",
        "        ('tfidf',TfidfVectorizer(max_df= 0.2,\n",
        "                                 min_df= 2,\n",
        "                                 ngram_range= (1, 1),\n",
        "                                 smooth_idf= False,\n",
        "                                 strip_accents= 'ascii',\n",
        "                                 sublinear_tf= True,\n",
        "                                 use_idf = True)),\n",
        "        ('clf', RandomForestClassifier(max_depth=None, min_samples_leaf= 2, min_samples_split= 2, n_estimators=1000)),\n",
        "        ])\n",
        "\n",
        "improved_classifiers = [rf1, rf2, rf3, rf4, rf5, rf6, rf7]\n"
      ],
      "execution_count": 0,
      "outputs": []
    },
    {
      "cell_type": "code",
      "metadata": {
        "id": "qSEmihzam0CV",
        "colab_type": "code",
        "outputId": "7aeaf578-bb56-4461-fc00-57dc434ba4a7",
        "colab": {
          "base_uri": "https://localhost:8080/",
          "height": 1000
        }
      },
      "source": [
        "for classifier in improved_classifiers:\n",
        "    classifier.fit(X_train, y_train)\n",
        "\n",
        "    print(classifier['clf'].__class__.__name__)\n",
        "    ## Report normal\n",
        "    pred = classifier.predict(X_test)\n",
        "    print(classification_report(y_test, pred))\n",
        "\n",
        "    ## Métricas do CV:\n",
        "\n",
        "\n",
        "    recall = cross_val_score(classifier, X, y, cv=10, scoring='recall')\n",
        "    print(\"Recall: %0.2f (+/- %0.2f) [%s]\" % (recall.mean(), recall.std(), classifier['clf'].__class__.__name__))\n",
        "    precision = cross_val_score(classifier, X, y, cv=10, scoring='precision')\n",
        "    print(\"Precision: %0.2f (+/- %0.2f) [%s]\" % (precision.mean(), precision.std(), classifier['clf'].__class__.__name__))\n",
        "    accuracy = cross_val_score(classifier, X, y, cv=10, scoring='accuracy')\n",
        "    print(\"Accuracy: %0.2f (+/- %0.2f) [%s]\" % (accuracy.mean(), accuracy.std(), classifier['clf'].__class__.__name__))\n",
        "    print(\"=================================================================\")\n",
        "  "
      ],
      "execution_count": 22,
      "outputs": [
        {
          "output_type": "stream",
          "text": [
            "RandomForestClassifier\n",
            "              precision    recall  f1-score   support\n",
            "\n",
            "           0       0.83      0.91      0.86       267\n",
            "           1       0.48      0.31      0.38        74\n",
            "\n",
            "    accuracy                           0.78       341\n",
            "   macro avg       0.65      0.61      0.62       341\n",
            "weighted avg       0.75      0.78      0.76       341\n",
            "\n",
            "Recall: 0.41 (+/- 0.13) [RandomForestClassifier]\n",
            "Precision: 0.46 (+/- 0.14) [RandomForestClassifier]\n",
            "Accuracy: 0.76 (+/- 0.09) [RandomForestClassifier]\n",
            "=================================================================\n",
            "RandomForestClassifier\n",
            "              precision    recall  f1-score   support\n",
            "\n",
            "           0       0.83      0.96      0.89       267\n",
            "           1       0.62      0.27      0.38        74\n",
            "\n",
            "    accuracy                           0.81       341\n",
            "   macro avg       0.73      0.61      0.63       341\n",
            "weighted avg       0.78      0.81      0.78       341\n",
            "\n",
            "Recall: 0.29 (+/- 0.10) [RandomForestClassifier]\n",
            "Precision: 0.55 (+/- 0.23) [RandomForestClassifier]\n",
            "Accuracy: 0.80 (+/- 0.04) [RandomForestClassifier]\n",
            "=================================================================\n",
            "RandomForestClassifier\n",
            "              precision    recall  f1-score   support\n",
            "\n",
            "           0       0.81      0.97      0.88       267\n",
            "           1       0.62      0.20      0.31        74\n",
            "\n",
            "    accuracy                           0.80       341\n",
            "   macro avg       0.72      0.58      0.59       341\n",
            "weighted avg       0.77      0.80      0.76       341\n",
            "\n",
            "Recall: 0.25 (+/- 0.08) [RandomForestClassifier]\n",
            "Precision: 0.60 (+/- 0.21) [RandomForestClassifier]\n",
            "Accuracy: 0.82 (+/- 0.03) [RandomForestClassifier]\n",
            "=================================================================\n",
            "RandomForestClassifier\n",
            "              precision    recall  f1-score   support\n",
            "\n",
            "           0       0.84      0.91      0.88       267\n",
            "           1       0.56      0.39      0.46        74\n",
            "\n",
            "    accuracy                           0.80       341\n",
            "   macro avg       0.70      0.65      0.67       341\n",
            "weighted avg       0.78      0.80      0.79       341\n",
            "\n",
            "Recall: 0.40 (+/- 0.12) [RandomForestClassifier]\n",
            "Precision: 0.55 (+/- 0.23) [RandomForestClassifier]\n",
            "Accuracy: 0.80 (+/- 0.08) [RandomForestClassifier]\n",
            "=================================================================\n",
            "RandomForestClassifier\n",
            "              precision    recall  f1-score   support\n",
            "\n",
            "           0       0.83      0.98      0.90       267\n",
            "           1       0.77      0.27      0.40        74\n",
            "\n",
            "    accuracy                           0.82       341\n",
            "   macro avg       0.80      0.62      0.65       341\n",
            "weighted avg       0.82      0.82      0.79       341\n",
            "\n",
            "Recall: 0.27 (+/- 0.08) [RandomForestClassifier]\n",
            "Precision: 0.62 (+/- 0.17) [RandomForestClassifier]\n",
            "Accuracy: 0.82 (+/- 0.04) [RandomForestClassifier]\n",
            "=================================================================\n",
            "RandomForestClassifier\n",
            "              precision    recall  f1-score   support\n",
            "\n",
            "           0       0.82      0.95      0.88       267\n",
            "           1       0.58      0.24      0.34        74\n",
            "\n",
            "    accuracy                           0.80       341\n",
            "   macro avg       0.70      0.60      0.61       341\n",
            "weighted avg       0.77      0.80      0.76       341\n",
            "\n",
            "Recall: 0.30 (+/- 0.09) [RandomForestClassifier]\n",
            "Precision: 0.53 (+/- 0.18) [RandomForestClassifier]\n",
            "Accuracy: 0.80 (+/- 0.04) [RandomForestClassifier]\n",
            "=================================================================\n",
            "RandomForestClassifier\n",
            "              precision    recall  f1-score   support\n",
            "\n",
            "           0       0.82      0.99      0.90       267\n",
            "           1       0.84      0.22      0.34        74\n",
            "\n",
            "    accuracy                           0.82       341\n",
            "   macro avg       0.83      0.60      0.62       341\n",
            "weighted avg       0.82      0.82      0.78       341\n",
            "\n",
            "Recall: 0.22 (+/- 0.09) [RandomForestClassifier]\n",
            "Precision: 0.66 (+/- 0.18) [RandomForestClassifier]\n",
            "Accuracy: 0.83 (+/- 0.02) [RandomForestClassifier]\n",
            "=================================================================\n"
          ],
          "name": "stdout"
        }
      ]
    },
    {
      "cell_type": "code",
      "metadata": {
        "id": "C8T4KsPOqTjW",
        "colab_type": "code",
        "colab": {}
      },
      "source": [
        ""
      ],
      "execution_count": 0,
      "outputs": []
    }
  ]
}