{
 "cells": [
  {
   "cell_type": "code",
   "execution_count": 3,
   "metadata": {},
   "outputs": [],
   "source": [
    "import arff\n",
    "import numpy as np\n",
    "import seaborn as sn\n",
    "import matplotlib.pyplot as plt\n",
    "from operator import attrgetter, itemgetter\n",
    "from io import StringIO\n",
    "from sklearn.model_selection import train_test_split\n",
    "import nltk\n",
    "import pandas as pd\n",
    "from sklearn.model_selection import train_test_split\n",
    "from sklearn.model_selection import cross_val_score\n",
    "from sklearn import tree\n",
    "from sklearn.pipeline import Pipeline\n",
    "from sklearn.feature_extraction.text import TfidfVectorizer\n",
    "from sklearn.metrics import make_scorer, confusion_matrix,classification_report,precision_recall_fscore_support as score, average_precision_score\n",
    "from sklearn import metrics\n",
    "from sklearn.model_selection import cross_validate\n",
    "import pickle\n",
    "\n",
    "## training model\n",
    "from sklearn.neural_network import MLPClassifier\n",
    "from sklearn.svm import SVC\n",
    "from sklearn.ensemble import RandomForestClassifier, VotingClassifier\n",
    "from sklearn.naive_bayes import MultinomialNB\n",
    "from sklearn.linear_model import SGDClassifier\n",
    "from sklearn.tree import DecisionTreeClassifier\n",
    "\n",
    "import matplotlib.pyplot as plt\n",
    "from sklearn.model_selection import GridSearchCV"
   ]
  },
  {
   "cell_type": "code",
   "execution_count": 10,
   "metadata": {},
   "outputs": [],
   "source": [
    "data = arff.load(open('../OffComBR3.arff'))\n",
    "df = pd.DataFrame(data['data'])\n",
    "df.columns = ['hate', 'sentence']\n",
    "\n",
    "# transforming 'yes' into 1 and 'no' into 0\n",
    "df['hate'] = df['hate'].apply(lambda x: 1 if x == 'yes' else 0)\n",
    "\n",
    "X = df['sentence'].tolist()\n",
    "y = df['hate'].tolist()\n",
    "X_train, X_test, y_train, y_test = train_test_split(\n",
    "                                    X, y, test_size=0.33, random_state=42)\n",
    "\n",
    "pt_stop_words = nltk.corpus.stopwords.words('portuguese')\n",
    "classifiers = []\n",
    "max_df = 0.6"
   ]
  },
  {
   "cell_type": "code",
   "execution_count": 11,
   "metadata": {},
   "outputs": [],
   "source": [
    "RandomForest =  Pipeline([\n",
    "        ('tfidf',TfidfVectorizer(ngram_range=(1,4),\n",
    "                                 lowercase=True,\n",
    "                                 strip_accents='ascii',\n",
    "                                 max_df=max_df\n",
    "                                )),\n",
    "        ('clf', RandomForestClassifier(n_estimators=100, max_depth=None, min_samples_leaf=1, min_samples_split=2, min_weight_fraction_leaf=0,)),\n",
    "        ])\n",
    "RandomForest.fit(X_train, y_train)\n",
    "classifiers.append(('randomforest', RandomForest))"
   ]
  },
  {
   "cell_type": "code",
   "execution_count": 12,
   "metadata": {},
   "outputs": [],
   "source": [
    "MLP = Pipeline([\n",
    "        ('tfidf',TfidfVectorizer(ngram_range=(1, 1),                                  \n",
    "                                 lowercase=True,\n",
    "                                 strip_accents='ascii',\n",
    "                                 max_df=max_df)),\n",
    "        ('clf', MLPClassifier(activation='logistic', alpha=0, solver='lbfgs')),\n",
    "        ])\n",
    "MLP.fit(X_train, y_train)\n",
    "classifiers.append(('mlp', MLP))"
   ]
  },
  {
   "cell_type": "code",
   "execution_count": 13,
   "metadata": {},
   "outputs": [],
   "source": [
    "SVCl = Pipeline([\n",
    "        ('tfidf',TfidfVectorizer(ngram_range=(1, 1),                        \n",
    "                                 lowercase=True,\n",
    "                                 strip_accents='ascii',\n",
    "                                 max_df=max_df)),\n",
    "        ('clf', SVC(C=4, kernel='linear', probability=True, shrinking=True, tol=1)),\n",
    "        ])\n",
    "SVCl.fit(X_train, y_train)\n",
    "classifiers.append(('svc', SVCl))"
   ]
  },
  {
   "cell_type": "code",
   "execution_count": 15,
   "metadata": {},
   "outputs": [],
   "source": [
    "multiNB =  Pipeline([\n",
    "        ('tfidf',TfidfVectorizer(ngram_range=(1, 1))),\n",
    "        ('clf', MultinomialNB(alpha=0.1, fit_prior=False)),\n",
    "        ])\n",
    "multiNB.fit(X_train, y_train)\n",
    "classifiers.append(('multinb', multiNB))"
   ]
  },
  {
   "cell_type": "code",
   "execution_count": 16,
   "metadata": {},
   "outputs": [
    {
     "name": "stderr",
     "output_type": "stream",
     "text": [
      "/home/shivwa/.virtualenvs/tcc/lib/python3.7/site-packages/sklearn/linear_model/stochastic_gradient.py:166: FutureWarning: max_iter and tol parameters have been added in SGDClassifier in 0.19. If both are left unset, they default to max_iter=5 and tol=None. If tol is not None, max_iter defaults to max_iter=1000. From 0.21, default max_iter will be 1000, and default tol will be 1e-3.\n",
      "  FutureWarning)\n"
     ]
    }
   ],
   "source": [
    "SGD = Pipeline([\n",
    "        ('tfidf',TfidfVectorizer(ngram_range=(1, 1))),\n",
    "        ('clf', SGDClassifier(alpha=0.01, loss='perceptron', penalty='none')),\n",
    "        ])\n",
    "SGD.fit(X_train, y_train)\n",
    "classifiers.append(('sgd', SGD))"
   ]
  },
  {
   "cell_type": "code",
   "execution_count": 23,
   "metadata": {},
   "outputs": [],
   "source": [
    "DecisionTree = Pipeline([\n",
    "        ('tfidf',TfidfVectorizer(ngram_range=(1, 1))),\n",
    "        ('clf', DecisionTreeClassifier(class_weight={0: 1, 1: 2}, criterion='gini', min_samples_split=3)),\n",
    "        ])\n",
    "DecisionTree.fit(X_train, y_train)\n",
    "classifiers.append(('decisiontree', DecisionTree))"
   ]
  },
  {
   "cell_type": "code",
   "execution_count": 24,
   "metadata": {},
   "outputs": [
    {
     "name": "stdout",
     "output_type": "stream",
     "text": [
      "randomforest\n",
      "              precision    recall  f1-score   support\n",
      "\n",
      "           0       0.82      0.93      0.87       267\n",
      "           1       0.51      0.26      0.34        74\n",
      "\n",
      "   micro avg       0.79      0.79      0.79       341\n",
      "   macro avg       0.67      0.59      0.61       341\n",
      "weighted avg       0.75      0.79      0.76       341\n",
      "\n",
      "mlp\n",
      "              precision    recall  f1-score   support\n",
      "\n",
      "           0       0.86      0.89      0.87       267\n",
      "           1       0.54      0.47      0.50        74\n",
      "\n",
      "   micro avg       0.80      0.80      0.80       341\n",
      "   macro avg       0.70      0.68      0.69       341\n",
      "weighted avg       0.79      0.80      0.79       341\n",
      "\n",
      "svc\n",
      "              precision    recall  f1-score   support\n",
      "\n",
      "           0       0.84      0.94      0.89       267\n",
      "           1       0.62      0.34      0.44        74\n",
      "\n",
      "   micro avg       0.81      0.81      0.81       341\n",
      "   macro avg       0.73      0.64      0.66       341\n",
      "weighted avg       0.79      0.81      0.79       341\n",
      "\n",
      "multinb\n",
      "              precision    recall  f1-score   support\n",
      "\n",
      "           0       0.85      0.91      0.88       267\n",
      "           1       0.57      0.42      0.48        74\n",
      "\n",
      "   micro avg       0.81      0.81      0.81       341\n",
      "   macro avg       0.71      0.67      0.68       341\n",
      "weighted avg       0.79      0.81      0.79       341\n",
      "\n",
      "sgd\n",
      "              precision    recall  f1-score   support\n",
      "\n",
      "           0       0.83      0.90      0.86       267\n",
      "           1       0.48      0.34      0.40        74\n",
      "\n",
      "   micro avg       0.78      0.78      0.78       341\n",
      "   macro avg       0.66      0.62      0.63       341\n",
      "weighted avg       0.75      0.78      0.76       341\n",
      "\n",
      "decisiontree\n",
      "              precision    recall  f1-score   support\n",
      "\n",
      "           0       0.82      0.72      0.76       267\n",
      "           1       0.30      0.43      0.35        74\n",
      "\n",
      "   micro avg       0.65      0.65      0.65       341\n",
      "   macro avg       0.56      0.57      0.56       341\n",
      "weighted avg       0.71      0.65      0.67       341\n",
      "\n"
     ]
    }
   ],
   "source": [
    "for classifier in classifiers:\n",
    "    pred = classifier[1].predict(X_test)\n",
    "    print(classifier[0])\n",
    "    print(classification_report(y_test, pred))"
   ]
  },
  {
   "cell_type": "code",
   "execution_count": null,
   "metadata": {},
   "outputs": [],
   "source": []
  }
 ],
 "metadata": {
  "kernelspec": {
   "display_name": "Python 3",
   "language": "python",
   "name": "python3"
  },
  "language_info": {
   "codemirror_mode": {
    "name": "ipython",
    "version": 3
   },
   "file_extension": ".py",
   "mimetype": "text/x-python",
   "name": "python",
   "nbconvert_exporter": "python",
   "pygments_lexer": "ipython3",
   "version": "3.7.3"
  }
 },
 "nbformat": 4,
 "nbformat_minor": 2
}
