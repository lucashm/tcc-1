{
 "cells": [
  {
   "cell_type": "code",
   "execution_count": 25,
   "metadata": {},
   "outputs": [],
   "source": [
    "import arff\n",
    "import numpy as np\n",
    "import seaborn as sn\n",
    "import matplotlib.pyplot as plt\n",
    "from operator import attrgetter, itemgetter\n",
    "from io import StringIO\n",
    "from sklearn.model_selection import train_test_split\n",
    "import nltk\n",
    "import pandas as pd\n",
    "from sklearn.model_selection import train_test_split\n",
    "from sklearn.model_selection import cross_val_score\n",
    "from sklearn import tree\n",
    "from sklearn.pipeline import Pipeline\n",
    "from sklearn.feature_extraction.text import TfidfVectorizer\n",
    "from sklearn.metrics import make_scorer, confusion_matrix,classification_report,precision_recall_fscore_support as score, average_precision_score\n",
    "from sklearn import metrics\n",
    "from sklearn.model_selection import cross_validate\n",
    "import pickle\n",
    "\n",
    "## training model\n",
    "from sklearn.neural_network import MLPClassifier\n",
    "from sklearn.svm import SVC\n",
    "from sklearn.ensemble import RandomForestClassifier, VotingClassifier\n",
    "from sklearn.naive_bayes import MultinomialNB\n",
    "from sklearn.linear_model import SGDClassifier\n",
    "from sklearn.tree import DecisionTreeClassifier\n",
    "\n",
    "from sklearn.model_selection import cross_validate\n",
    "\n",
    "import matplotlib.pyplot as plt\n",
    "from sklearn.model_selection import GridSearchCV"
   ]
  },
  {
   "cell_type": "code",
   "execution_count": 57,
   "metadata": {},
   "outputs": [],
   "source": [
    "data = arff.load(open('../OffComBR3.arff'))\n",
    "df = pd.DataFrame(data['data'])\n",
    "df.columns = ['hate', 'sentence']\n",
    "\n",
    "# transforming 'yes' into 1 and 'no' into 0\n",
    "df['hate'] = df['hate'].apply(lambda x: 1 if x == 'yes' else 0)\n",
    "\n",
    "X = df['sentence'].tolist()\n",
    "y = df['hate'].tolist()\n",
    "X_train, X_test, y_train, y_test = train_test_split(\n",
    "                                    X, y, test_size=0.33, random_state=42)\n",
    "\n",
    "pt_stop_words = nltk.corpus.stopwords.words('portuguese')\n",
    "classifiers = []\n",
    "max_df = 0.6"
   ]
  },
  {
   "cell_type": "code",
   "execution_count": 58,
   "metadata": {},
   "outputs": [],
   "source": [
    "RandomForest =  Pipeline([\n",
    "        ('tfidf',TfidfVectorizer(ngram_range=(1,4),\n",
    "                                 lowercase=True,\n",
    "                                 strip_accents='ascii',\n",
    "                                 max_df=max_df\n",
    "                                )),\n",
    "        ('clf', RandomForestClassifier(n_estimators=100, max_depth=None, min_samples_leaf=1, min_samples_split=2, min_weight_fraction_leaf=0,)),\n",
    "        ])\n",
    "RandomForest.fit(X_train, y_train)\n",
    "classifiers.append(('randomforest', RandomForest))"
   ]
  },
  {
   "cell_type": "code",
   "execution_count": 59,
   "metadata": {},
   "outputs": [],
   "source": [
    "MLP = Pipeline([\n",
    "        ('tfidf',TfidfVectorizer(ngram_range=(1, 1),                                  \n",
    "                                 lowercase=True,\n",
    "                                 strip_accents='ascii',\n",
    "                                 max_df=max_df)),\n",
    "        ('clf', MLPClassifier(activation='logistic', alpha=0, solver='lbfgs')),\n",
    "        ])\n",
    "MLP.fit(X_train, y_train)\n",
    "classifiers.append(('mlp', MLP))"
   ]
  },
  {
   "cell_type": "code",
   "execution_count": 60,
   "metadata": {},
   "outputs": [],
   "source": [
    "SVCl = Pipeline([\n",
    "        ('tfidf',TfidfVectorizer(ngram_range=(1, 1),                        \n",
    "                                 lowercase=True,\n",
    "                                 strip_accents='ascii',\n",
    "                                 max_df=max_df)),\n",
    "        ('clf', SVC(C=4, kernel='linear', probability=True, shrinking=True, tol=1)),\n",
    "        ])\n",
    "SVCl.fit(X_train, y_train)\n",
    "classifiers.append(('svc', SVCl))"
   ]
  },
  {
   "cell_type": "code",
   "execution_count": 61,
   "metadata": {},
   "outputs": [],
   "source": [
    "multiNB =  Pipeline([\n",
    "        ('tfidf',TfidfVectorizer(ngram_range=(1, 1))),\n",
    "        ('clf', MultinomialNB(alpha=0.1, fit_prior=False)),\n",
    "        ])\n",
    "multiNB.fit(X_train, y_train)\n",
    "classifiers.append(('multinb', multiNB))"
   ]
  },
  {
   "cell_type": "code",
   "execution_count": 62,
   "metadata": {},
   "outputs": [],
   "source": [
    "SGD = Pipeline([\n",
    "        ('tfidf',TfidfVectorizer(ngram_range=(1, 1))),\n",
    "        ('clf', SGDClassifier(alpha=0.01, loss='perceptron', penalty='none', max_iter=1000, tol=0.001)),\n",
    "        ])\n",
    "SGD.fit(X_train, y_train)\n",
    "classifiers.append(('sgd', SGD))"
   ]
  },
  {
   "cell_type": "code",
   "execution_count": 63,
   "metadata": {},
   "outputs": [],
   "source": [
    "DecisionTree = Pipeline([\n",
    "        ('tfidf',TfidfVectorizer(ngram_range=(1, 1))),\n",
    "        ('clf', DecisionTreeClassifier(class_weight={0: 1, 1: 2}, criterion='gini', min_samples_split=3)),\n",
    "        ])\n",
    "DecisionTree.fit(X_train, y_train)\n",
    "classifiers.append(('decisiontree', DecisionTree))"
   ]
  },
  {
   "cell_type": "code",
   "execution_count": 66,
   "metadata": {},
   "outputs": [
    {
     "name": "stdout",
     "output_type": "stream",
     "text": [
      "Accuracy: 0.79 (+/- 0.07) [randomforest]\n",
      "Accuracy: 0.77 (+/- 0.05) [mlp]\n",
      "Accuracy: 0.80 (+/- 0.03) [svc]\n",
      "Accuracy: 0.78 (+/- 0.03) [multinb]\n",
      "Accuracy: 0.76 (+/- 0.03) [sgd]\n",
      "Accuracy: 0.71 (+/- 0.08) [decisiontree]\n"
     ]
    }
   ],
   "source": [
    "for classifier in classifiers:\n",
    "        scores = cross_val_score(classifier[1], X, y, cv=5, scoring='accuracy')\n",
    "        print(\"Accuracy: %0.2f (+/- %0.2f) [%s]\" \n",
    "            % (scores.mean(), scores.std(), classifier[0]))"
   ]
  },
  {
   "cell_type": "code",
   "execution_count": 72,
   "metadata": {},
   "outputs": [
    {
     "name": "stdout",
     "output_type": "stream",
     "text": [
      "Recall: 0.23 (+/- 0.07) [randomforest]\n",
      "Recall: 0.47 (+/- 0.11) [mlp]\n",
      "Recall: 0.38 (+/- 0.08) [svc]\n",
      "Recall: 0.47 (+/- 0.06) [multinb]\n",
      "Recall: 0.40 (+/- 0.05) [sgd]\n",
      "Recall: 0.47 (+/- 0.05) [decisiontree]\n"
     ]
    }
   ],
   "source": [
    "for classifier in classifiers:\n",
    "    scores = cross_val_score(classifier[1], X, y, cv=5, scoring='recall')\n",
    "    print(\"Recall: %0.2f (+/- %0.2f) [%s]\" \n",
    "        % (scores.mean(), scores.std(), classifier[0]))"
   ]
  },
  {
   "cell_type": "code",
   "execution_count": 73,
   "metadata": {},
   "outputs": [
    {
     "name": "stdout",
     "output_type": "stream",
     "text": [
      "Precision: 0.59 (+/- 0.22) [randomforest]\n",
      "Precision: 0.46 (+/- 0.11) [mlp]\n",
      "Precision: 0.49 (+/- 0.09) [svc]\n",
      "Precision: 0.46 (+/- 0.08) [multinb]\n",
      "Precision: 0.36 (+/- 0.05) [sgd]\n",
      "Precision: 0.34 (+/- 0.08) [decisiontree]\n"
     ]
    }
   ],
   "source": [
    "for classifier in classifiers:\n",
    "    scores = cross_val_score(classifier[1], X, y, cv=5, scoring='precision')\n",
    "    print(\"Precision: %0.2f (+/- %0.2f) [%s]\" \n",
    "        % (scores.mean(), scores.std(), classifier[0]))"
   ]
  },
  {
   "cell_type": "code",
   "execution_count": null,
   "metadata": {},
   "outputs": [],
   "source": []
  }
 ],
 "metadata": {
  "kernelspec": {
   "display_name": "Python 3",
   "language": "python",
   "name": "python3"
  },
  "language_info": {
   "codemirror_mode": {
    "name": "ipython",
    "version": 3
   },
   "file_extension": ".py",
   "mimetype": "text/x-python",
   "name": "python",
   "nbconvert_exporter": "python",
   "pygments_lexer": "ipython3",
   "version": "3.7.3"
  }
 },
 "nbformat": 4,
 "nbformat_minor": 2
}
