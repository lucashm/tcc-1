{
 "cells": [
  {
   "cell_type": "code",
   "execution_count": 11,
   "metadata": {},
   "outputs": [],
   "source": [
    "import arff\n",
    "from io import StringIO\n",
    "from sklearn.model_selection import train_test_split\n",
    "import nltk\n",
    "import pandas as pd\n",
    "from sklearn.model_selection import train_test_split\n",
    "from sklearn.model_selection import cross_val_score\n",
    "from sklearn import tree\n",
    "from sklearn.pipeline import Pipeline\n",
    "from sklearn.feature_extraction.text import TfidfVectorizer\n",
    "from sklearn.metrics import classification_report, precision_recall_fscore_support as score\n",
    "\n",
    "## training models\n",
    "from sklearn.naive_bayes import MultinomialNB\n",
    "from sklearn.ensemble import GradientBoostingClassifier\n",
    "from sklearn.ensemble import RandomForestClassifier\n",
    "from sklearn import tree\n",
    "from sklearn.linear_model import SGDClassifier\n",
    "from sklearn import svm\n"
   ]
  },
  {
   "cell_type": "markdown",
   "metadata": {},
   "source": [
    "# Importing dataset"
   ]
  },
  {
   "cell_type": "code",
   "execution_count": 17,
   "metadata": {},
   "outputs": [],
   "source": [
    "data = arff.load(open('OffComBR3.arff'))\n",
    "df = pd.DataFrame(data['data'])\n",
    "df.columns = ['hate', 'sentence']\n",
    "\n",
    "# transforming 'yes' into 1 and 'no' into 0\n",
    "df['hate'] = df['hate'].apply(lambda x: 1 if x == 'yes' else 0)\n",
    "\n",
    "X = df['sentence'].tolist()\n",
    "y = df['hate'].tolist()\n",
    "X_train, X_test, y_train, y_test = train_test_split(\n",
    "                                    X, y, test_size=0.33, random_state=42)"
   ]
  },
  {
   "cell_type": "markdown",
   "metadata": {},
   "source": [
    "# Creating multiple Classifiers Pipelines"
   ]
  },
  {
   "cell_type": "code",
   "execution_count": 59,
   "metadata": {},
   "outputs": [],
   "source": [
    "classifiers = [\n",
    "    Pipeline([\n",
    "        ('tfidf',TfidfVectorizer()),\n",
    "        ('clf',GradientBoostingClassifier()),\n",
    "    ]),\n",
    "    \n",
    "    Pipeline([\n",
    "        ('tfidf',TfidfVectorizer()),\n",
    "        ('clf', MultinomialNB()),\n",
    "    ]),\n",
    "    \n",
    "    Pipeline([\n",
    "        ('tfidf',TfidfVectorizer()),\n",
    "        ('clf', RandomForestClassifier()),\n",
    "    ]),\n",
    "    \n",
    "    Pipeline([\n",
    "        ('tfidf',TfidfVectorizer()),\n",
    "        ('clf', tree.DecisionTreeClassifier()),\n",
    "    ]),\n",
    "    \n",
    "    Pipeline([\n",
    "        ('tfidf',TfidfVectorizer()),\n",
    "        ('clf', SGDClassifier()),\n",
    "    ]),\n",
    "    \n",
    "    Pipeline([\n",
    "        ('tfidf',TfidfVectorizer()),\n",
    "        ('clf', svm.SVC()),\n",
    "    ])\n",
    "]"
   ]
  },
  {
   "cell_type": "code",
   "execution_count": 10,
   "metadata": {},
   "outputs": [
    {
     "name": "stdout",
     "output_type": "stream",
     "text": [
      "<class 'sklearn.ensemble.gradient_boosting.GradientBoostingClassifier'>\n",
      "(array([0.81388013, 0.625     ]), array([0.96629213, 0.2027027 ]), array([0.88356164, 0.30612245]), array([267,  74]))\n",
      "<class 'sklearn.naive_bayes.MultinomialNB'>\n",
      "(array([0.78698225, 0.66666667]), array([0.99625468, 0.02702703]), array([0.87933884, 0.05194805]), array([267,  74]))\n",
      "<class 'sklearn.ensemble.forest.RandomForestClassifier'>\n",
      "(array([0.83389831, 0.54347826]), array([0.92134831, 0.33783784]), array([0.87544484, 0.41666667]), array([267,  74]))\n",
      "<class 'sklearn.tree.tree.DecisionTreeClassifier'>\n",
      "(array([0.8436214 , 0.36734694]), array([0.76779026, 0.48648649]), array([0.80392157, 0.41860465]), array([267,  74]))\n",
      "<class 'sklearn.linear_model.stochastic_gradient.SGDClassifier'>\n",
      "(array([0.82467532, 0.60606061]), array([0.95131086, 0.27027027]), array([0.88347826, 0.37383178]), array([267,  74]))\n",
      "<class 'sklearn.svm.classes.SVC'>\n",
      "(array([0.7829912, 0.       ]), array([1., 0.]), array([0.87828947, 0.        ]), array([267,  74]))\n"
     ]
    },
    {
     "name": "stderr",
     "output_type": "stream",
     "text": [
      "/home/shivwa/.virtualenvs/tcc/lib/python3.6/site-packages/sklearn/linear_model/stochastic_gradient.py:144: FutureWarning: max_iter and tol parameters have been added in SGDClassifier in 0.19. If both are left unset, they default to max_iter=5 and tol=None. If tol is not None, max_iter defaults to max_iter=1000. From 0.21, default max_iter will be 1000, and default tol will be 1e-3.\n",
      "  FutureWarning)\n",
      "/home/shivwa/.virtualenvs/tcc/lib/python3.6/site-packages/sklearn/svm/base.py:196: FutureWarning: The default value of gamma will change from 'auto' to 'scale' in version 0.22 to account better for unscaled features. Set gamma explicitly to 'auto' or 'scale' to avoid this warning.\n",
      "  \"avoid this warning.\", FutureWarning)\n",
      "/home/shivwa/.virtualenvs/tcc/lib/python3.6/site-packages/sklearn/metrics/classification.py:1143: UndefinedMetricWarning: Precision and F-score are ill-defined and being set to 0.0 in labels with no predicted samples.\n",
      "  'precision', 'predicted', average, warn_for)\n"
     ]
    }
   ],
   "source": [
    "for x in classifiers:\n",
    "    x.fit(X_train,y_train)\n",
    "    pred = x.predict(X_test)\n",
    "    print(x.steps[1][1].__class__)\n",
    "    precision, recall, fscore, support = score(y_test, pred)\n",
    "    print('precision:', precision)\n",
    "    print('recall:', recall)\n",
    "    print('precision:', precision)\n",
    "    print('precision:', precision)"
   ]
  },
  {
   "cell_type": "code",
   "execution_count": 51,
   "metadata": {},
   "outputs": [
    {
     "data": {
      "text/plain": [
       "sklearn.ensemble.gradient_boosting.GradientBoostingClassifier"
      ]
     },
     "execution_count": 51,
     "metadata": {},
     "output_type": "execute_result"
    }
   ],
   "source": [
    "classifiers[0].steps[1][1].__class__"
   ]
  },
  {
   "cell_type": "code",
   "execution_count": null,
   "metadata": {},
   "outputs": [],
   "source": []
  }
 ],
 "metadata": {
  "kernelspec": {
   "display_name": "Python 3",
   "language": "python",
   "name": "python3"
  },
  "language_info": {
   "codemirror_mode": {
    "name": "ipython",
    "version": 3
   },
   "file_extension": ".py",
   "mimetype": "text/x-python",
   "name": "python",
   "nbconvert_exporter": "python",
   "pygments_lexer": "ipython3",
   "version": "3.6.3"
  }
 },
 "nbformat": 4,
 "nbformat_minor": 2
}
