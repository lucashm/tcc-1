{
 "cells": [
  {
   "cell_type": "code",
   "execution_count": 9,
   "metadata": {},
   "outputs": [],
   "source": [
    "import tweepy\n",
    "from textblob import TextBlob"
   ]
  },
  {
   "cell_type": "code",
   "execution_count": 10,
   "metadata": {},
   "outputs": [],
   "source": [
    "consumer_secret = \"qsoRSVR9dDbqSS0J5ymVq2QE7p7Fmf0k3A7p3r1tCWmhcASGaH\"\n",
    "access_token = \"168200125-5HqDzko5OjpRFcMmzHKuh36PItIydj9CwlbM3Vej\"\n",
    "consumer_key = \"R6BrEAT6EfPeXYFaq7gFoC7cO\"\n",
    "access_key = \"yfUk8jY2PmJRWqRPsfHix77qM9dnuhsdDLnhMVM8KEjEE\""
   ]
  },
  {
   "cell_type": "code",
   "execution_count": 12,
   "metadata": {},
   "outputs": [],
   "source": [
    "auth = tweepy.OAuthHandler(consumer_key, consumer_secret)\n",
    "auth.set_access_token(access_token, access_key)\n",
    "\n",
    "api = tweepy.API(auth)\n",
    "\n",
    "# testando autenticação\n",
    "# public_tweets = api.home_timeline()\n",
    "# for tweet in public_tweets:\n",
    "#     print(tweet.text)"
   ]
  },
  {
   "cell_type": "code",
   "execution_count": 13,
   "metadata": {},
   "outputs": [
    {
     "name": "stdout",
     "output_type": "stream",
     "text": [
      "Morreu o moço latino americano :(\n"
     ]
    }
   ],
   "source": [
    "tweet_id = 858757485833986050\n",
    "tweet = api.get_status(tweet_id)\n",
    "print(tweet.text)"
   ]
  },
  {
   "cell_type": "code",
   "execution_count": 16,
   "metadata": {},
   "outputs": [],
   "source": [
    "def download_tweets(file):\n",
    "    with open (file) as tweets_list:\n",
    "        for tweet_id in tweets_list:\n",
    "            try:\n",
    "                new_tweet = api.get_status(tweet_id).text\n",
    "                print(new_tweet)\n",
    "            except:\n",
    "                print('oops')"
   ]
  },
  {
   "cell_type": "code",
   "execution_count": null,
   "metadata": {},
   "outputs": [],
   "source": [
    "download_tweets('positivos.txt')"
   ]
  },
  {
   "cell_type": "code",
   "execution_count": null,
   "metadata": {},
   "outputs": [],
   "source": []
  },
  {
   "cell_type": "code",
   "execution_count": null,
   "metadata": {},
   "outputs": [],
   "source": []
  }
 ],
 "metadata": {
  "kernelspec": {
   "display_name": "Python 3",
   "language": "python",
   "name": "python3"
  },
  "language_info": {
   "codemirror_mode": {
    "name": "ipython",
    "version": 3
   },
   "file_extension": ".py",
   "mimetype": "text/x-python",
   "name": "python",
   "nbconvert_exporter": "python",
   "pygments_lexer": "ipython3",
   "version": "3.6.5"
  }
 },
 "nbformat": 4,
 "nbformat_minor": 2
}
