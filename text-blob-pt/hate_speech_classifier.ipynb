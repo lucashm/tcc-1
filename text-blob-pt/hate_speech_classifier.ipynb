{
 "cells": [
  {
   "cell_type": "code",
   "execution_count": 2,
   "metadata": {},
   "outputs": [],
   "source": [
    "from textblob import TextBlob\n",
    "import arff\n",
    "from io import StringIO\n",
    "from sklearn.model_selection import train_test_split\n",
    "from textblob.classifiers import NaiveBayesClassifier\n",
    "import nltk\n",
    "import pandas as pd"
   ]
  },
  {
   "cell_type": "code",
   "execution_count": 13,
   "metadata": {},
   "outputs": [],
   "source": [
    "data = arff.load(open('OffComBR3.arff'))"
   ]
  },
  {
   "cell_type": "code",
   "execution_count": 14,
   "metadata": {},
   "outputs": [],
   "source": [
    "df = pd.DataFrame(data['data'])\n",
    "df.columns = ['hate', 'sentence']"
   ]
  },
  {
   "cell_type": "code",
   "execution_count": 5,
   "metadata": {},
   "outputs": [],
   "source": [
    "def transform_string_boolen_to_int(x):\n",
    "    if x == 'yes':\n",
    "        retorno = 1\n",
    "    elif x == 'no':\n",
    "        retorno = 0\n",
    "    else:\n",
    "        retorno = x\n",
    "    return retorno\n",
    "df['hate'] = df['hate'].apply(transform_string_boolen_to_int)"
   ]
  },
  {
   "cell_type": "code",
   "execution_count": 15,
   "metadata": {},
   "outputs": [],
   "source": [
    "X = df.drop(['hate'], axis=1)\n",
    "y = df['sentence']\n",
    "#X_train, X_test, y_train, y_test = train_test_split(X.values,y,test_size=0.33)\n",
    "train = df.iloc[:723, :]\n",
    "test = df.iloc[723:, :]"
   ]
  },
  {
   "cell_type": "code",
   "execution_count": 10,
   "metadata": {},
   "outputs": [],
   "source": [
    "# print('Data sizes:'\n",
    "#         + '\\nX_train: ' + str(len(X_train))\n",
    "#         + '\\nX_test: ' + str(len(X_test))\n",
    "#         + '\\ny_train: ' + str(len(y_train))\n",
    "#         + '\\ny_test: ' + str(len(y_test))\n",
    "#      )"
   ]
  },
  {
   "cell_type": "code",
   "execution_count": 69,
   "metadata": {},
   "outputs": [],
   "source": [
    "# this method return the traing data in the TextBlob recommended format\n",
    "def  build_txblob_array (data):\n",
    "    txb_array = []\n",
    "    for d in data.iterrows():\n",
    "        new_data = (d[1][1], d[1][0])\n",
    "        txb_array.append(new_data)\n",
    "    return(txb_array)"
   ]
  },
  {
   "cell_type": "code",
   "execution_count": 71,
   "metadata": {},
   "outputs": [],
   "source": [
    "# building arrays to train and test the textBlob's NaiveBayesClassifier\n",
    "train_array = build_txblob_array(train)\n",
    "test_array = build_txblob_array(test)"
   ]
  },
  {
   "cell_type": "code",
   "execution_count": 72,
   "metadata": {},
   "outputs": [],
   "source": [
    "# creating classifier\n",
    "cl = NaiveBayesClassifier(train_array)"
   ]
  },
  {
   "cell_type": "code",
   "execution_count": 75,
   "metadata": {},
   "outputs": [
    {
     "data": {
      "text/plain": [
       "0.6129032258064516"
      ]
     },
     "execution_count": 75,
     "metadata": {},
     "output_type": "execute_result"
    }
   ],
   "source": [
    "# testing classifier\n",
    "cl.accuracy(test_array)"
   ]
  },
  {
   "cell_type": "code",
   "execution_count": 89,
   "metadata": {},
   "outputs": [
    {
     "data": {
      "text/plain": [
       "'no'"
      ]
     },
     "execution_count": 89,
     "metadata": {},
     "output_type": "execute_result"
    }
   ],
   "source": [
    "cl.classify('Mais um pobre metido a besta')"
   ]
  },
  {
   "cell_type": "code",
   "execution_count": null,
   "metadata": {},
   "outputs": [],
   "source": []
  }
 ],
 "metadata": {
  "kernelspec": {
   "display_name": "Python 3",
   "language": "python",
   "name": "python3"
  },
  "language_info": {
   "codemirror_mode": {
    "name": "ipython",
    "version": 3
   },
   "file_extension": ".py",
   "mimetype": "text/x-python",
   "name": "python",
   "nbconvert_exporter": "python",
   "pygments_lexer": "ipython3",
   "version": "3.6.5"
  }
 },
 "nbformat": 4,
 "nbformat_minor": 2
}
