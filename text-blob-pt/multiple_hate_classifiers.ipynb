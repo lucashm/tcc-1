{
 "cells": [
  {
   "cell_type": "code",
   "execution_count": 58,
   "metadata": {},
   "outputs": [],
   "source": [
    "import arff\n",
    "from io import StringIO\n",
    "from sklearn.model_selection import train_test_split\n",
    "import nltk\n",
    "import pandas as pd\n",
    "from sklearn.model_selection import train_test_split\n",
    "from sklearn.model_selection import cross_val_score\n",
    "from sklearn import tree\n",
    "from sklearn.pipeline import Pipeline\n",
    "from sklearn.feature_extraction.text import TfidfVectorizer\n",
    "from sklearn.metrics import classification_report\n",
    "\n",
    "## training models\n",
    "from sklearn.naive_bayes import MultinomialNB\n",
    "from sklearn.ensemble import GradientBoostingClassifier\n",
    "from sklearn.ensemble import RandomForestClassifier\n",
    "from sklearn import tree\n",
    "from sklearn.linear_model import SGDClassifier\n",
    "from sklearn import svm\n"
   ]
  },
  {
   "cell_type": "markdown",
   "metadata": {},
   "source": [
    "# Importing dataset"
   ]
  },
  {
   "cell_type": "code",
   "execution_count": 17,
   "metadata": {},
   "outputs": [],
   "source": [
    "data = arff.load(open('OffComBR3.arff'))\n",
    "df = pd.DataFrame(data['data'])\n",
    "df.columns = ['hate', 'sentence']\n",
    "\n",
    "# transforming 'yes' into 1 and 'no' into 0\n",
    "df['hate'] = df['hate'].apply(lambda x: 1 if x == 'yes' else 0)\n",
    "\n",
    "X = df['sentence'].tolist()\n",
    "y = df['hate'].tolist()\n",
    "X_train, X_test, y_train, y_test = train_test_split(\n",
    "                                    X, y, test_size=0.33, random_state=42)"
   ]
  },
  {
   "cell_type": "markdown",
   "metadata": {},
   "source": [
    "# Creating multiple Classifiers Pipelines"
   ]
  },
  {
   "cell_type": "code",
   "execution_count": 59,
   "metadata": {},
   "outputs": [],
   "source": [
    "classifiers = [\n",
    "    Pipeline([\n",
    "        ('tfidf',TfidfVectorizer()),\n",
    "        ('clf',GradientBoostingClassifier()),\n",
    "    ]),\n",
    "    \n",
    "    Pipeline([\n",
    "        ('tfidf',TfidfVectorizer()),\n",
    "        ('clf', MultinomialNB()),\n",
    "    ]),\n",
    "    \n",
    "    Pipeline([\n",
    "        ('tfidf',TfidfVectorizer()),\n",
    "        ('clf', RandomForestClassifier()),\n",
    "    ]),\n",
    "    \n",
    "    Pipeline([\n",
    "        ('tfidf',TfidfVectorizer()),\n",
    "        ('clf', tree.DecisionTreeClassifier()),\n",
    "    ]),\n",
    "    \n",
    "    Pipeline([\n",
    "        ('tfidf',TfidfVectorizer()),\n",
    "        ('clf', SGDClassifier()),\n",
    "    ]),\n",
    "    \n",
    "    Pipeline([\n",
    "        ('tfidf',TfidfVectorizer()),\n",
    "        ('clf', svm.SVC()),\n",
    "    ])\n",
    "]"
   ]
  },
  {
   "cell_type": "code",
   "execution_count": 60,
   "metadata": {},
   "outputs": [
    {
     "name": "stdout",
     "output_type": "stream",
     "text": [
      "<class 'sklearn.ensemble.gradient_boosting.GradientBoostingClassifier'>\n",
      "              precision    recall  f1-score   support\n",
      "\n",
      "           0       0.82      0.97      0.89       267\n",
      "           1       0.67      0.22      0.33        74\n",
      "\n",
      "   micro avg       0.81      0.81      0.81       341\n",
      "   macro avg       0.74      0.59      0.61       341\n",
      "weighted avg       0.78      0.81      0.77       341\n",
      "\n",
      "<class 'sklearn.naive_bayes.MultinomialNB'>\n",
      "              precision    recall  f1-score   support\n",
      "\n",
      "           0       0.79      1.00      0.88       267\n",
      "           1       0.67      0.03      0.05        74\n",
      "\n",
      "   micro avg       0.79      0.79      0.79       341\n",
      "   macro avg       0.73      0.51      0.47       341\n",
      "weighted avg       0.76      0.79      0.70       341\n",
      "\n",
      "<class 'sklearn.ensemble.forest.RandomForestClassifier'>\n",
      "              precision    recall  f1-score   support\n",
      "\n",
      "           0       0.82      0.93      0.87       267\n",
      "           1       0.47      0.24      0.32        74\n",
      "\n",
      "   micro avg       0.78      0.78      0.78       341\n",
      "   macro avg       0.64      0.58      0.59       341\n",
      "weighted avg       0.74      0.78      0.75       341\n",
      "\n",
      "<class 'sklearn.tree.tree.DecisionTreeClassifier'>\n",
      "              precision    recall  f1-score   support\n",
      "\n",
      "           0       0.84      0.78      0.81       267\n",
      "           1       0.36      0.45      0.40        74\n",
      "\n",
      "   micro avg       0.71      0.71      0.71       341\n",
      "   macro avg       0.60      0.61      0.60       341\n",
      "weighted avg       0.73      0.71      0.72       341\n",
      "\n",
      "<class 'sklearn.linear_model.stochastic_gradient.SGDClassifier'>\n",
      "              precision    recall  f1-score   support\n",
      "\n",
      "           0       0.82      0.94      0.88       267\n",
      "           1       0.56      0.26      0.35        74\n",
      "\n",
      "   micro avg       0.79      0.79      0.79       341\n",
      "   macro avg       0.69      0.60      0.61       341\n",
      "weighted avg       0.76      0.79      0.76       341\n",
      "\n",
      "<class 'sklearn.svm.classes.SVC'>\n",
      "              precision    recall  f1-score   support\n",
      "\n",
      "           0       0.78      1.00      0.88       267\n",
      "           1       0.00      0.00      0.00        74\n",
      "\n",
      "   micro avg       0.78      0.78      0.78       341\n",
      "   macro avg       0.39      0.50      0.44       341\n",
      "weighted avg       0.61      0.78      0.69       341\n",
      "\n"
     ]
    },
    {
     "name": "stderr",
     "output_type": "stream",
     "text": [
      "/home/marco/TCC/env/lib/python3.6/site-packages/sklearn/ensemble/forest.py:248: FutureWarning: The default value of n_estimators will change from 10 in version 0.20 to 100 in 0.22.\n",
      "  \"10 in version 0.20 to 100 in 0.22.\", FutureWarning)\n",
      "/home/marco/TCC/env/lib/python3.6/site-packages/sklearn/linear_model/stochastic_gradient.py:144: FutureWarning: max_iter and tol parameters have been added in SGDClassifier in 0.19. If both are left unset, they default to max_iter=5 and tol=None. If tol is not None, max_iter defaults to max_iter=1000. From 0.21, default max_iter will be 1000, and default tol will be 1e-3.\n",
      "  FutureWarning)\n",
      "/home/marco/TCC/env/lib/python3.6/site-packages/sklearn/svm/base.py:196: FutureWarning: The default value of gamma will change from 'auto' to 'scale' in version 0.22 to account better for unscaled features. Set gamma explicitly to 'auto' or 'scale' to avoid this warning.\n",
      "  \"avoid this warning.\", FutureWarning)\n",
      "/home/marco/TCC/env/lib/python3.6/site-packages/sklearn/metrics/classification.py:1143: UndefinedMetricWarning: Precision and F-score are ill-defined and being set to 0.0 in labels with no predicted samples.\n",
      "  'precision', 'predicted', average, warn_for)\n"
     ]
    }
   ],
   "source": [
    "for x in classifiers:\n",
    "    x.fit(X_train,y_train)\n",
    "    pred = x.predict(X_test)\n",
    "    print(x.steps[1][1].__class__)\n",
    "    print(classification_report(y_test, pred))"
   ]
  },
  {
   "cell_type": "code",
   "execution_count": 51,
   "metadata": {},
   "outputs": [
    {
     "data": {
      "text/plain": [
       "sklearn.ensemble.gradient_boosting.GradientBoostingClassifier"
      ]
     },
     "execution_count": 51,
     "metadata": {},
     "output_type": "execute_result"
    }
   ],
   "source": [
    "classifiers[0].steps[1][1].__class__"
   ]
  },
  {
   "cell_type": "code",
   "execution_count": null,
   "metadata": {},
   "outputs": [],
   "source": []
  }
 ],
 "metadata": {
  "kernelspec": {
   "display_name": "Python 3",
   "language": "python",
   "name": "python3"
  },
  "language_info": {
   "codemirror_mode": {
    "name": "ipython",
    "version": 3
   },
   "file_extension": ".py",
   "mimetype": "text/x-python",
   "name": "python",
   "nbconvert_exporter": "python",
   "pygments_lexer": "ipython3",
   "version": "3.6.5"
  }
 },
 "nbformat": 4,
 "nbformat_minor": 2
}
