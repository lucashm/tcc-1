{
 "cells": [
  {
   "cell_type": "code",
   "execution_count": 23,
   "metadata": {},
   "outputs": [],
   "source": [
    "import arff\n",
    "from io import StringIO\n",
    "from sklearn.model_selection import train_test_split\n",
    "import nltk\n",
    "import pandas as pd\n",
    "from sklearn.model_selection import train_test_split\n",
    "from sklearn.model_selection import cross_val_score\n",
    "from sklearn import tree\n",
    "from sklearn.pipeline import Pipeline\n",
    "from sklearn.feature_extraction.text import TfidfVectorizer\n",
    "from sklearn.metrics import classification_report\n",
    "\n",
    "## training models\n",
    "from sklearn.naive_bayes import MultinomialNB\n",
    "from sklearn.ensemble import GradientBoostingClassifier\n",
    "from sklearn import tree\n",
    "from sklearn.linear_model import SGDClassifier\n"
   ]
  },
  {
   "cell_type": "markdown",
   "metadata": {},
   "source": [
    "# Importing dataset"
   ]
  },
  {
   "cell_type": "code",
   "execution_count": 17,
   "metadata": {},
   "outputs": [],
   "source": [
    "data = arff.load(open('OffComBR3.arff'))\n",
    "df = pd.DataFrame(data['data'])\n",
    "df.columns = ['hate', 'sentence']\n",
    "\n",
    "# transforming 'yes' into 1 and 'no' into 0\n",
    "df['hate'] = df['hate'].apply(lambda x: 1 if x == 'yes' else 0)\n",
    "\n",
    "X = df['sentence'].tolist()\n",
    "y = df['hate'].tolist()\n",
    "X_train, X_test, y_train, y_test = train_test_split(\n",
    "                                    X, y, test_size=0.33, random_state=42)"
   ]
  },
  {
   "cell_type": "markdown",
   "metadata": {},
   "source": [
    "# Creating multiple Classifiers Pipelines"
   ]
  },
  {
   "cell_type": "code",
   "execution_count": 20,
   "metadata": {},
   "outputs": [],
   "source": [
    "classifiers = [\n",
    "    Pipeline([\n",
    "        ('tfidf',TfidfVectorizer()),\n",
    "        ('clf',GradientBoostingClassifier()),\n",
    "    ]),\n",
    "    \n",
    "    Pipeline([\n",
    "        ('tfidf',TfidfVectorizer()),\n",
    "        ('clf',GradientBoostingClassifier()),\n",
    "    ]),\n",
    "\n",
    "    Pipeline([\n",
    "        ('tfidf',TfidfVectorizer()),\n",
    "        ('clf', tree.DecisionTreeClassifier()),\n",
    "    ]),\n",
    "    \n",
    "    Pipeline([\n",
    "        ('tfidf',TfidfVectorizer()),\n",
    "        ('clf', SGDClassifier()),\n",
    "    ])\n",
    "]"
   ]
  },
  {
   "cell_type": "code",
   "execution_count": 24,
   "metadata": {},
   "outputs": [
    {
     "name": "stdout",
     "output_type": "stream",
     "text": [
      "              precision    recall  f1-score   support\n",
      "\n",
      "           0       0.81      0.96      0.88       267\n",
      "           1       0.60      0.20      0.30        74\n",
      "\n",
      "   micro avg       0.80      0.80      0.80       341\n",
      "   macro avg       0.71      0.58      0.59       341\n",
      "weighted avg       0.77      0.80      0.76       341\n",
      "\n",
      "              precision    recall  f1-score   support\n",
      "\n",
      "           0       0.82      0.97      0.89       267\n",
      "           1       0.64      0.22      0.32        74\n",
      "\n",
      "   micro avg       0.80      0.80      0.80       341\n",
      "   macro avg       0.73      0.59      0.60       341\n",
      "weighted avg       0.78      0.80      0.76       341\n",
      "\n",
      "              precision    recall  f1-score   support\n",
      "\n",
      "           0       0.84      0.82      0.83       267\n",
      "           1       0.41      0.45      0.43        74\n",
      "\n",
      "   micro avg       0.74      0.74      0.74       341\n",
      "   macro avg       0.62      0.63      0.63       341\n",
      "weighted avg       0.75      0.74      0.74       341\n",
      "\n",
      "              precision    recall  f1-score   support\n",
      "\n",
      "           0       0.83      0.96      0.89       267\n",
      "           1       0.64      0.28      0.39        74\n",
      "\n",
      "   micro avg       0.81      0.81      0.81       341\n",
      "   macro avg       0.73      0.62      0.64       341\n",
      "weighted avg       0.79      0.81      0.78       341\n",
      "\n"
     ]
    },
    {
     "name": "stderr",
     "output_type": "stream",
     "text": [
      "/home/marco/TCC/env/lib/python3.6/site-packages/sklearn/linear_model/stochastic_gradient.py:144: FutureWarning: max_iter and tol parameters have been added in SGDClassifier in 0.19. If both are left unset, they default to max_iter=5 and tol=None. If tol is not None, max_iter defaults to max_iter=1000. From 0.21, default max_iter will be 1000, and default tol will be 1e-3.\n",
      "  FutureWarning)\n"
     ]
    }
   ],
   "source": [
    "for x in classifiers:\n",
    "    x.fit(X_train,y_train)\n",
    "    pred = x.predict(X_test)\n",
    "    print(classification_report(y_test, pred))"
   ]
  },
  {
   "cell_type": "code",
   "execution_count": null,
   "metadata": {},
   "outputs": [],
   "source": []
  }
 ],
 "metadata": {
  "kernelspec": {
   "display_name": "Python 3",
   "language": "python",
   "name": "python3"
  },
  "language_info": {
   "codemirror_mode": {
    "name": "ipython",
    "version": 3
   },
   "file_extension": ".py",
   "mimetype": "text/x-python",
   "name": "python",
   "nbconvert_exporter": "python",
   "pygments_lexer": "ipython3",
   "version": "3.6.5"
  }
 },
 "nbformat": 4,
 "nbformat_minor": 2
}
