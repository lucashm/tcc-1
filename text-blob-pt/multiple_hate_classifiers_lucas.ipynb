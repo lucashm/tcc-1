{
 "cells": [
  {
   "cell_type": "code",
   "execution_count": 74,
   "metadata": {},
   "outputs": [],
   "source": [
    "import arff\n",
    "import numpy as np\n",
    "from operator import attrgetter, itemgetter\n",
    "from io import StringIO\n",
    "from sklearn.model_selection import train_test_split\n",
    "import nltk\n",
    "import pandas as pd\n",
    "from sklearn.model_selection import train_test_split\n",
    "from sklearn.model_selection import cross_val_score\n",
    "from sklearn import tree\n",
    "from sklearn.pipeline import Pipeline\n",
    "from sklearn.feature_extraction.text import TfidfVectorizer\n",
    "from sklearn.metrics import classification_report, precision_recall_fscore_support as score\n",
    "\n",
    "## training models\n",
    "from sklearn.naive_bayes import MultinomialNB\n",
    "from sklearn.ensemble import GradientBoostingClassifier\n",
    "from sklearn.ensemble import RandomForestClassifier\n",
    "from sklearn import tree\n",
    "from sklearn.linear_model import SGDClassifier\n",
    "from sklearn import svm\n",
    "\n",
    "import matplotlib.pyplot as plt\n"
   ]
  },
  {
   "cell_type": "markdown",
   "metadata": {},
   "source": [
    "# Importing dataset"
   ]
  },
  {
   "cell_type": "code",
   "execution_count": 75,
   "metadata": {},
   "outputs": [],
   "source": [
    "data = arff.load(open('OffComBR3.arff'))\n",
    "df = pd.DataFrame(data['data'])\n",
    "df.columns = ['hate', 'sentence']\n",
    "\n",
    "# transforming 'yes' into 1 and 'no' into 0\n",
    "df['hate'] = df['hate'].apply(lambda x: 1 if x == 'yes' else 0)\n",
    "\n",
    "X = df['sentence'].tolist()\n",
    "y = df['hate'].tolist()\n",
    "X_train, X_test, y_train, y_test = train_test_split(\n",
    "                                    X, y, test_size=0.33, random_state=42)"
   ]
  },
  {
   "cell_type": "markdown",
   "metadata": {},
   "source": [
    "# Creating multiple Classifiers Pipelines"
   ]
  },
  {
   "cell_type": "code",
   "execution_count": 76,
   "metadata": {},
   "outputs": [],
   "source": [
    "classifiers = [\n",
    "    {\n",
    "        'name': 'Gradient Boosting',\n",
    "        'pipeline': Pipeline([\n",
    "            ('tfidf',TfidfVectorizer()),\n",
    "            ('clf',GradientBoostingClassifier()),\n",
    "        ])\n",
    "    },\n",
    "    {\n",
    "        'name': 'Multinomial NB',\n",
    "        'pipeline': Pipeline([\n",
    "            ('tfidf',TfidfVectorizer()),\n",
    "            ('clf', MultinomialNB()),\n",
    "        ])\n",
    "    },\n",
    "    {\n",
    "        'name': 'Random Forest',\n",
    "        'pipeline': Pipeline([\n",
    "            ('tfidf',TfidfVectorizer()),\n",
    "            ('clf', RandomForestClassifier()),\n",
    "        ])\n",
    "    },\n",
    "    {\n",
    "        'name': 'Decision Tree',\n",
    "        'pipeline': Pipeline([\n",
    "            ('tfidf',TfidfVectorizer()),\n",
    "            ('clf', tree.DecisionTreeClassifier()),\n",
    "        ])\n",
    "    },\n",
    "    {\n",
    "        'name': 'SGD',\n",
    "        'pipeline': Pipeline([\n",
    "            ('tfidf',TfidfVectorizer()),\n",
    "            ('clf', SGDClassifier()),\n",
    "        ])\n",
    "    },\n",
    "    {\n",
    "        'name': 'SVC',\n",
    "        'pipeline': Pipeline([\n",
    "            ('tfidf',TfidfVectorizer()),\n",
    "            ('clf', svm.SVC()),\n",
    "        ])\n",
    "    }\n",
    "]"
   ]
  },
  {
   "cell_type": "code",
   "execution_count": 77,
   "metadata": {},
   "outputs": [
    {
     "name": "stderr",
     "output_type": "stream",
     "text": [
      "/home/shivwa/.virtualenvs/tcc/lib/python3.6/site-packages/sklearn/ensemble/forest.py:248: FutureWarning: The default value of n_estimators will change from 10 in version 0.20 to 100 in 0.22.\n",
      "  \"10 in version 0.20 to 100 in 0.22.\", FutureWarning)\n",
      "/home/shivwa/.virtualenvs/tcc/lib/python3.6/site-packages/sklearn/linear_model/stochastic_gradient.py:144: FutureWarning: max_iter and tol parameters have been added in SGDClassifier in 0.19. If both are left unset, they default to max_iter=5 and tol=None. If tol is not None, max_iter defaults to max_iter=1000. From 0.21, default max_iter will be 1000, and default tol will be 1e-3.\n",
      "  FutureWarning)\n",
      "/home/shivwa/.virtualenvs/tcc/lib/python3.6/site-packages/sklearn/svm/base.py:196: FutureWarning: The default value of gamma will change from 'auto' to 'scale' in version 0.22 to account better for unscaled features. Set gamma explicitly to 'auto' or 'scale' to avoid this warning.\n",
      "  \"avoid this warning.\", FutureWarning)\n",
      "/home/shivwa/.virtualenvs/tcc/lib/python3.6/site-packages/sklearn/metrics/classification.py:1143: UndefinedMetricWarning: Precision and F-score are ill-defined and being set to 0.0 in labels with no predicted samples.\n",
      "  'precision', 'predicted', average, warn_for)\n"
     ]
    }
   ],
   "source": [
    "final_score = []\n",
    "for x in classifiers:\n",
    "    x['pipeline'].fit(X_train,y_train)\n",
    "    pred = x['pipeline'].predict(X_test)\n",
    "    precision, recall, fscore, support = score(y_test, pred)\n",
    "    # Tirando a média de todos... futuramente podemos utilizar pesos (dada a importância de tal medida)\n",
    "    mean_precision = np.mean(precision)\n",
    "    mean_recall = np.mean(recall)\n",
    "    mean_fscore = np.mean(fscore)\n",
    "    final_score.append({\n",
    "        'name': x['name'],\n",
    "        'score': [ mean_precision, mean_recall, mean_fscore]\n",
    "        })"
   ]
  },
  {
   "cell_type": "code",
   "execution_count": 78,
   "metadata": {},
   "outputs": [
    {
     "data": {
      "text/plain": [
       "[{'name': 'Gradient Boosting',\n",
       "  'score': [0.7498101265822785, 0.5998835914566252, 0.6159710310653708]},\n",
       " {'name': 'Multinomial NB',\n",
       "  'score': [0.7268244575936884, 0.5116408543374835, 0.46564344746162933]},\n",
       " {'name': 'Random Forest',\n",
       "  'score': [0.7027823920265781, 0.623570199412896, 0.6418952310353347]},\n",
       " {'name': 'Decision Tree',\n",
       "  'score': [0.6116461565899768, 0.6267334750480819, 0.6170667990590682]},\n",
       " {'name': 'SGD',\n",
       "  'score': [0.682258064516129, 0.5886476364004454, 0.6003796319220929]},\n",
       " {'name': 'SVC', 'score': [0.3914956011730205, 0.5, 0.43914473684210525]}]"
      ]
     },
     "execution_count": 78,
     "metadata": {},
     "output_type": "execute_result"
    }
   ],
   "source": [
    "final_score"
   ]
  },
  {
   "cell_type": "markdown",
   "metadata": {},
   "source": [
    "# Choosing the best one"
   ]
  },
  {
   "cell_type": "code",
   "execution_count": 79,
   "metadata": {},
   "outputs": [],
   "source": [
    "for score in final_score:\n",
    "    score['final_result'] = np.mean(score['score'])"
   ]
  },
  {
   "cell_type": "code",
   "execution_count": 80,
   "metadata": {},
   "outputs": [],
   "source": [
    "obj = max(final_score, key=itemgetter('score'))"
   ]
  },
  {
   "cell_type": "code",
   "execution_count": 81,
   "metadata": {},
   "outputs": [
    {
     "data": {
      "text/plain": [
       "{'name': 'Gradient Boosting',\n",
       " 'score': [0.7498101265822785, 0.5998835914566252, 0.6159710310653708],\n",
       " 'final_result': 0.6552215830347582}"
      ]
     },
     "execution_count": 81,
     "metadata": {},
     "output_type": "execute_result"
    }
   ],
   "source": [
    "obj"
   ]
  },
  {
   "cell_type": "code",
   "execution_count": 82,
   "metadata": {},
   "outputs": [],
   "source": [
    "precision_data = [{'name': item['name'], 'score': item['score'][0]} for item in final_score]"
   ]
  },
  {
   "cell_type": "markdown",
   "metadata": {},
   "source": [
    "# Sorts precision data"
   ]
  },
  {
   "cell_type": "code",
   "execution_count": 83,
   "metadata": {},
   "outputs": [],
   "source": [
    "precision_data.sort(key=lambda x: x['score'])"
   ]
  },
  {
   "cell_type": "code",
   "execution_count": 84,
   "metadata": {},
   "outputs": [
    {
     "data": {
      "text/plain": [
       "[{'name': 'SVC', 'score': 0.3914956011730205},\n",
       " {'name': 'Decision Tree', 'score': 0.6116461565899768},\n",
       " {'name': 'SGD', 'score': 0.682258064516129},\n",
       " {'name': 'Random Forest', 'score': 0.7027823920265781},\n",
       " {'name': 'Multinomial NB', 'score': 0.7268244575936884},\n",
       " {'name': 'Gradient Boosting', 'score': 0.7498101265822785}]"
      ]
     },
     "execution_count": 84,
     "metadata": {},
     "output_type": "execute_result"
    }
   ],
   "source": [
    "precision_data"
   ]
  },
  {
   "cell_type": "code",
   "execution_count": 85,
   "metadata": {},
   "outputs": [
    {
     "data": {
      "text/plain": [
       "[<matplotlib.lines.Line2D at 0x7f20aad20828>]"
      ]
     },
     "execution_count": 85,
     "metadata": {},
     "output_type": "execute_result"
    },
    {
     "data": {
      "image/png": "[encoded data removed]",
      "text/plain": [
       "<Figure size 432x288 with 1 Axes>"
      ]
     },
     "metadata": {
      "needs_background": "light"
     },
     "output_type": "display_data"
    }
   ],
   "source": [
    "plt.plot([item['name'] for item in precision_data], [item['score'] for item in precision_data])"
   ]
  },
  {
   "cell_type": "code",
   "execution_count": null,
   "metadata": {},
   "outputs": [],
   "source": []
  }
 ],
 "metadata": {
  "kernelspec": {
   "display_name": "Python 3",
   "language": "python",
   "name": "python3"
  },
  "language_info": {
   "codemirror_mode": {
    "name": "ipython",
    "version": 3
   },
   "file_extension": ".py",
   "mimetype": "text/x-python",
   "name": "python",
   "nbconvert_exporter": "python",
   "pygments_lexer": "ipython3",
   "version": "3.6.3"
  }
 },
 "nbformat": 4,
 "nbformat_minor": 2
}
